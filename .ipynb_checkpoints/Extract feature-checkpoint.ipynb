{
 "cells": [
  {
   "cell_type": "code",
   "execution_count": 1,
   "id": "86c75971-d947-48e4-abe0-3951bcbed52e",
   "metadata": {},
   "outputs": [],
   "source": [
    "from pyspark.sql import SparkSession\n",
    "from pyspark.ml.recommendation import ALSModel\n",
    "import streamlit as st\n",
    "from pyspark.ml.pipeline import PipelineModel\n",
    "from pyspark.ml.tuning import CrossValidatorModel\n",
    "from pyspark.ml.feature import StringIndexer"
   ]
  },
  {
   "cell_type": "code",
   "execution_count": 2,
   "id": "d26f4b6b-6316-40d9-92db-f336b5a066a1",
   "metadata": {},
   "outputs": [],
   "source": [
    "spark = SparkSession.builder.appName(\"Recommendation\").getOrCreate()"
   ]
  },
  {
   "cell_type": "code",
   "execution_count": 4,
   "id": "2056a408-77be-49a9-aecd-e0c074b12fb1",
   "metadata": {},
   "outputs": [],
   "source": [
    "model_path = \"./model/model_2\"\n",
    "model = ALSModel.load(model_path)\n",
    "#model = ALS.load(model_path)"
   ]
  },
  {
   "cell_type": "code",
   "execution_count": 13,
   "id": "98d66670-3c2b-4fe9-aca2-56ff4c97c030",
   "metadata": {},
   "outputs": [],
   "source": [
    "item_f = model.itemFactors"
   ]
  },
  {
   "cell_type": "code",
   "execution_count": 14,
   "id": "0434a56d-e01a-48c4-8a18-52c03a6d2d0b",
   "metadata": {},
   "outputs": [
    {
     "name": "stdout",
     "output_type": "stream",
     "text": [
      "+---+--------------------+\n",
      "| id|            features|\n",
      "+---+--------------------+\n",
      "|  9|[2.3885365, 2.528...|\n",
      "| 19|[2.3217025, 1.605...|\n",
      "| 29|[0.26883575, 3.08...|\n",
      "| 39|[2.4745982, 2.248...|\n",
      "| 49|[0.50852126, 2.30...|\n",
      "| 59|[-0.62863714, 1.0...|\n",
      "| 69|[0.39247325, 2.38...|\n",
      "| 79|[1.4789528, 2.236...|\n",
      "| 89|[0.81037194, 3.08...|\n",
      "| 99|[0.41049084, 1.43...|\n",
      "+---+--------------------+\n",
      "only showing top 10 rows\n",
      "\n"
     ]
    }
   ],
   "source": [
    "item_f.show(10)"
   ]
  },
  {
   "cell_type": "code",
   "execution_count": 15,
   "id": "0aedac5a-081c-4fb5-9f63-e94caff666d0",
   "metadata": {},
   "outputs": [
    {
     "data": {
      "text/plain": [
       "50632"
      ]
     },
     "execution_count": 15,
     "metadata": {},
     "output_type": "execute_result"
    }
   ],
   "source": [
    "item_f.distinct().count()"
   ]
  },
  {
   "cell_type": "code",
   "execution_count": 17,
   "id": "1bbf2771-3e70-4fcb-b058-f71add0bea03",
   "metadata": {},
   "outputs": [],
   "source": [
    "user_f = model.userFactors"
   ]
  },
  {
   "cell_type": "code",
   "execution_count": 19,
   "id": "8b528ba6-1679-4b38-b4c4-a005f34b726a",
   "metadata": {},
   "outputs": [
    {
     "name": "stdout",
     "output_type": "stream",
     "text": [
      "+------+--------------------+\n",
      "|    id|            features|\n",
      "+------+--------------------+\n",
      "|  4385|[0.32178158, 0.27...|\n",
      "|  6575|[0.025274688, 0.1...|\n",
      "| 16795|[0.11327801, 0.22...|\n",
      "| 26535|[0.12633806, -0.0...|\n",
      "| 30735|[0.05693576, 0.53...|\n",
      "| 31315|[0.16496085, -0.0...|\n",
      "| 68555|[0.362837, 0.1116...|\n",
      "| 70415|[0.13669929, 0.24...|\n",
      "|114865|[-0.10869225, 0.3...|\n",
      "|120565|[0.13364035, -0.1...|\n",
      "+------+--------------------+\n",
      "only showing top 10 rows\n",
      "\n"
     ]
    }
   ],
   "source": [
    "user_f.show(10)"
   ]
  },
  {
   "cell_type": "code",
   "execution_count": 18,
   "id": "b541310f-2780-4c33-bc37-1ddf49e4e5a9",
   "metadata": {},
   "outputs": [
    {
     "data": {
      "text/plain": [
       "251"
      ]
     },
     "execution_count": 18,
     "metadata": {},
     "output_type": "execute_result"
    }
   ],
   "source": [
    "user_f.distinct().count()"
   ]
  },
  {
   "cell_type": "code",
   "execution_count": 20,
   "id": "71d16348-8bb4-4ced-b57f-bfbe854b715d",
   "metadata": {},
   "outputs": [],
   "source": [
    "user_f.write.parquet(\"./data/user_factor\")\n",
    "item_f.write.parquet(\"./data/item_factor\")"
   ]
  },
  {
   "cell_type": "code",
   "execution_count": null,
   "id": "19a14ee2-8d1e-414f-b44d-549377a8e0a8",
   "metadata": {},
   "outputs": [],
   "source": []
  }
 ],
 "metadata": {
  "kernelspec": {
   "display_name": "Python 3 (ipykernel)",
   "language": "python",
   "name": "python3"
  },
  "language_info": {
   "codemirror_mode": {
    "name": "ipython",
    "version": 3
   },
   "file_extension": ".py",
   "mimetype": "text/x-python",
   "name": "python",
   "nbconvert_exporter": "python",
   "pygments_lexer": "ipython3",
   "version": "3.11.6"
  }
 },
 "nbformat": 4,
 "nbformat_minor": 5
}
