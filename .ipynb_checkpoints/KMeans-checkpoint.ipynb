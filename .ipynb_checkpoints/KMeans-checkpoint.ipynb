{
 "cells": [
  {
   "cell_type": "code",
   "execution_count": 81,
   "id": "cb4c7de8-41d5-4c00-89ef-5c2bc6f4eae4",
   "metadata": {},
   "outputs": [],
   "source": [
    "from pyspark.sql import SparkSession\n",
    "from pyspark.ml.recommendation import ALSModel\n",
    "from pyspark.ml.clustering import KMeans\n",
    "from pyspark.ml.evaluation import ClusteringEvaluator\n",
    "from pyspark.ml.feature import StandardScaler \n",
    "from pyspark.ml.feature import VectorAssembler\n",
    "from pyspark.sql.functions import col, udf\n",
    "from pyspark.sql.types import ArrayType, FloatType, DoubleType\n",
    "from pyspark.ml.linalg import Vectors, VectorUDT\n",
    "import seaborn as sns\n",
    "import matplotlib.pyplot as plt\n",
    "import numpy as np"
   ]
  },
  {
   "cell_type": "markdown",
   "id": "450128ee-9aa2-418b-a272-a3127b283fc8",
   "metadata": {},
   "source": [
    "## Load data"
   ]
  },
  {
   "cell_type": "code",
   "execution_count": 2,
   "id": "ff516638-f615-4291-85cd-4ee4debfcbf9",
   "metadata": {},
   "outputs": [],
   "source": [
    "spark = SparkSession.builder.appName(\"Recommendation\").getOrCreate()"
   ]
  },
  {
   "cell_type": "code",
   "execution_count": 3,
   "id": "71d3936c-618a-4962-b0af-977cbc784c36",
   "metadata": {
    "scrolled": true
   },
   "outputs": [
    {
     "name": "stdout",
     "output_type": "stream",
     "text": [
      "+------+--------------------+\n",
      "|    id|            features|\n",
      "+------+--------------------+\n",
      "|  4385|[0.32178158, 0.27...|\n",
      "|  6575|[0.025274688, 0.1...|\n",
      "| 16795|[0.11327801, 0.22...|\n",
      "| 26535|[0.12633806, -0.0...|\n",
      "| 30735|[0.05693576, 0.53...|\n",
      "| 31315|[0.16496085, -0.0...|\n",
      "| 68555|[0.362837, 0.1116...|\n",
      "| 70415|[0.13669929, 0.24...|\n",
      "|114865|[-0.10869225, 0.3...|\n",
      "|120565|[0.13364035, -0.1...|\n",
      "+------+--------------------+\n",
      "only showing top 10 rows\n",
      "\n"
     ]
    }
   ],
   "source": [
    "df = spark.read.parquet(\"./data/user_factor.parquet\")\n",
    "df.show(10)"
   ]
  },
  {
   "cell_type": "code",
   "execution_count": 4,
   "id": "78a72e6c-494c-4f41-9f56-308ae83e6321",
   "metadata": {},
   "outputs": [],
   "source": [
    "to_vector_udf = udf(lambda arr: Vectors.dense(arr), VectorUDT())\n",
    "\n",
    "# Apply the UDF to create a new Vector column\n",
    "df = df.withColumn(\"features_\", to_vector_udf(col(\"features\"))).select(\"id\", \"features_\")"
   ]
  },
  {
   "cell_type": "code",
   "execution_count": 5,
   "id": "08011192-9ca1-4e5f-8d2e-9638821f9a66",
   "metadata": {},
   "outputs": [
    {
     "name": "stdout",
     "output_type": "stream",
     "text": [
      "+------+--------------------+\n",
      "|    id|           features_|\n",
      "+------+--------------------+\n",
      "|  4385|[0.32178157567977...|\n",
      "|  6575|[0.02527468837797...|\n",
      "| 16795|[0.11327800899744...|\n",
      "| 26535|[0.12633806467056...|\n",
      "| 30735|[0.05693576112389...|\n",
      "| 31315|[0.16496084630489...|\n",
      "| 68555|[0.36283698678016...|\n",
      "| 70415|[0.13669928908348...|\n",
      "|114865|[-0.1086922511458...|\n",
      "|120565|[0.13364034891128...|\n",
      "+------+--------------------+\n",
      "only showing top 10 rows\n",
      "\n"
     ]
    }
   ],
   "source": [
    "df.show(10)"
   ]
  },
  {
   "cell_type": "code",
   "execution_count": 23,
   "id": "4925166f-b5a7-4578-a7de-00fcaf9fa859",
   "metadata": {},
   "outputs": [
    {
     "name": "stdout",
     "output_type": "stream",
     "text": [
      "+--------------------+\n",
      "|      scaledFeatures|\n",
      "+--------------------+\n",
      "|[1.76758260960306...|\n",
      "|[0.13883672346892...|\n",
      "|[0.62224892252250...|\n",
      "|[0.69398928627543...|\n",
      "|[0.31275457898578...|\n",
      "+--------------------+\n",
      "only showing top 5 rows\n",
      "\n"
     ]
    }
   ],
   "source": [
    "scaler = StandardScaler(inputCol=\"features_\",  \n",
    "                        outputCol=\"scaledFeatures\",  \n",
    "                        withStd=True,  \n",
    "                        withMean=False) \n",
    "  \n",
    "# Compute summary statistics by fitting the StandardScaler \n",
    "scalerModel = scaler.fit(df) \n",
    "  \n",
    "# Normalize each feature to have unit standard deviation. \n",
    "final_data = scalerModel.transform(df) \n",
    "  \n",
    "final_data.select('scaledFeatures').show(5)"
   ]
  },
  {
   "cell_type": "code",
   "execution_count": 155,
   "id": "68802669-bd99-462b-a2ab-d77e4328ecd2",
   "metadata": {
    "scrolled": true
   },
   "outputs": [
    {
     "ename": "IllegalArgumentException",
     "evalue": "ClusteringEvaluator_524385da9331 parameter metricName given invalid value wssse.",
     "output_type": "error",
     "traceback": [
      "\u001b[0;31m---------------------------------------------------------------------------\u001b[0m",
      "\u001b[0;31mIllegalArgumentException\u001b[0m                  Traceback (most recent call last)",
      "Cell \u001b[0;32mIn[155], line 12\u001b[0m\n\u001b[1;32m     10\u001b[0m model\u001b[38;5;241m=\u001b[39mkmeans\u001b[38;5;241m.\u001b[39mfit(final_data) \n\u001b[1;32m     11\u001b[0m predictions\u001b[38;5;241m=\u001b[39mmodel\u001b[38;5;241m.\u001b[39mtransform(final_data) \n\u001b[0;32m---> 12\u001b[0m score\u001b[38;5;241m=\u001b[39m\u001b[43mevaluator\u001b[49m\u001b[38;5;241;43m.\u001b[39;49m\u001b[43mevaluate\u001b[49m\u001b[43m(\u001b[49m\u001b[43mpredictions\u001b[49m\u001b[43m)\u001b[49m \n\u001b[1;32m     13\u001b[0m silhouette_score\u001b[38;5;241m.\u001b[39mappend(\u001b[38;5;28mround\u001b[39m(score, \u001b[38;5;241m4\u001b[39m)) \n\u001b[1;32m     14\u001b[0m \u001b[38;5;28mprint\u001b[39m(\u001b[38;5;124m'\u001b[39m\u001b[38;5;124mSilhouette Score for k = \u001b[39m\u001b[38;5;132;01m{}\u001b[39;00m\u001b[38;5;124m in iter \u001b[39m\u001b[38;5;132;01m{}\u001b[39;00m\u001b[38;5;124m is \u001b[39m\u001b[38;5;132;01m{}\u001b[39;00m\u001b[38;5;124m'\u001b[39m\u001b[38;5;241m.\u001b[39mformat(j, i, score))\n",
      "File \u001b[0;32m/usr/local/spark/python/pyspark/ml/evaluation.py:111\u001b[0m, in \u001b[0;36mEvaluator.evaluate\u001b[0;34m(self, dataset, params)\u001b[0m\n\u001b[1;32m    109\u001b[0m         \u001b[38;5;28;01mreturn\u001b[39;00m \u001b[38;5;28mself\u001b[39m\u001b[38;5;241m.\u001b[39mcopy(params)\u001b[38;5;241m.\u001b[39m_evaluate(dataset)\n\u001b[1;32m    110\u001b[0m     \u001b[38;5;28;01melse\u001b[39;00m:\n\u001b[0;32m--> 111\u001b[0m         \u001b[38;5;28;01mreturn\u001b[39;00m \u001b[38;5;28;43mself\u001b[39;49m\u001b[38;5;241;43m.\u001b[39;49m\u001b[43m_evaluate\u001b[49m\u001b[43m(\u001b[49m\u001b[43mdataset\u001b[49m\u001b[43m)\u001b[49m\n\u001b[1;32m    112\u001b[0m \u001b[38;5;28;01melse\u001b[39;00m:\n\u001b[1;32m    113\u001b[0m     \u001b[38;5;28;01mraise\u001b[39;00m \u001b[38;5;167;01mTypeError\u001b[39;00m(\u001b[38;5;124m\"\u001b[39m\u001b[38;5;124mParams must be a param map but got \u001b[39m\u001b[38;5;132;01m%s\u001b[39;00m\u001b[38;5;124m.\u001b[39m\u001b[38;5;124m\"\u001b[39m \u001b[38;5;241m%\u001b[39m \u001b[38;5;28mtype\u001b[39m(params))\n",
      "File \u001b[0;32m/usr/local/spark/python/pyspark/ml/evaluation.py:146\u001b[0m, in \u001b[0;36mJavaEvaluator._evaluate\u001b[0;34m(self, dataset)\u001b[0m\n\u001b[1;32m    132\u001b[0m \u001b[38;5;28;01mdef\u001b[39;00m \u001b[38;5;21m_evaluate\u001b[39m(\u001b[38;5;28mself\u001b[39m, dataset: DataFrame) \u001b[38;5;241m-\u001b[39m\u001b[38;5;241m>\u001b[39m \u001b[38;5;28mfloat\u001b[39m:\n\u001b[1;32m    133\u001b[0m \u001b[38;5;250m    \u001b[39m\u001b[38;5;124;03m\"\"\"\u001b[39;00m\n\u001b[1;32m    134\u001b[0m \u001b[38;5;124;03m    Evaluates the output.\u001b[39;00m\n\u001b[1;32m    135\u001b[0m \n\u001b[0;32m   (...)\u001b[0m\n\u001b[1;32m    144\u001b[0m \u001b[38;5;124;03m        evaluation metric\u001b[39;00m\n\u001b[1;32m    145\u001b[0m \u001b[38;5;124;03m    \"\"\"\u001b[39;00m\n\u001b[0;32m--> 146\u001b[0m     \u001b[38;5;28;43mself\u001b[39;49m\u001b[38;5;241;43m.\u001b[39;49m\u001b[43m_transfer_params_to_java\u001b[49m\u001b[43m(\u001b[49m\u001b[43m)\u001b[49m\n\u001b[1;32m    147\u001b[0m     \u001b[38;5;28;01massert\u001b[39;00m \u001b[38;5;28mself\u001b[39m\u001b[38;5;241m.\u001b[39m_java_obj \u001b[38;5;129;01mis\u001b[39;00m \u001b[38;5;129;01mnot\u001b[39;00m \u001b[38;5;28;01mNone\u001b[39;00m\n\u001b[1;32m    148\u001b[0m     \u001b[38;5;28;01mreturn\u001b[39;00m \u001b[38;5;28mself\u001b[39m\u001b[38;5;241m.\u001b[39m_java_obj\u001b[38;5;241m.\u001b[39mevaluate(dataset\u001b[38;5;241m.\u001b[39m_jdf)\n",
      "File \u001b[0;32m/usr/local/spark/python/pyspark/ml/wrapper.py:171\u001b[0m, in \u001b[0;36mJavaParams._transfer_params_to_java\u001b[0;34m(self)\u001b[0m\n\u001b[1;32m    169\u001b[0m \u001b[38;5;28;01mfor\u001b[39;00m param \u001b[38;5;129;01min\u001b[39;00m \u001b[38;5;28mself\u001b[39m\u001b[38;5;241m.\u001b[39mparams:\n\u001b[1;32m    170\u001b[0m     \u001b[38;5;28;01mif\u001b[39;00m \u001b[38;5;28mself\u001b[39m\u001b[38;5;241m.\u001b[39misSet(param):\n\u001b[0;32m--> 171\u001b[0m         pair \u001b[38;5;241m=\u001b[39m \u001b[38;5;28;43mself\u001b[39;49m\u001b[38;5;241;43m.\u001b[39;49m\u001b[43m_make_java_param_pair\u001b[49m\u001b[43m(\u001b[49m\u001b[43mparam\u001b[49m\u001b[43m,\u001b[49m\u001b[43m \u001b[49m\u001b[38;5;28;43mself\u001b[39;49m\u001b[38;5;241;43m.\u001b[39;49m\u001b[43m_paramMap\u001b[49m\u001b[43m[\u001b[49m\u001b[43mparam\u001b[49m\u001b[43m]\u001b[49m\u001b[43m)\u001b[49m\n\u001b[1;32m    172\u001b[0m         \u001b[38;5;28mself\u001b[39m\u001b[38;5;241m.\u001b[39m_java_obj\u001b[38;5;241m.\u001b[39mset(pair)\n\u001b[1;32m    173\u001b[0m     \u001b[38;5;28;01mif\u001b[39;00m \u001b[38;5;28mself\u001b[39m\u001b[38;5;241m.\u001b[39mhasDefault(param):\n",
      "File \u001b[0;32m/usr/local/spark/python/pyspark/ml/wrapper.py:160\u001b[0m, in \u001b[0;36mJavaParams._make_java_param_pair\u001b[0;34m(self, param, value)\u001b[0m\n\u001b[1;32m    158\u001b[0m java_param \u001b[38;5;241m=\u001b[39m \u001b[38;5;28mself\u001b[39m\u001b[38;5;241m.\u001b[39m_java_obj\u001b[38;5;241m.\u001b[39mgetParam(param\u001b[38;5;241m.\u001b[39mname)\n\u001b[1;32m    159\u001b[0m java_value \u001b[38;5;241m=\u001b[39m _py2java(sc, value)\n\u001b[0;32m--> 160\u001b[0m \u001b[38;5;28;01mreturn\u001b[39;00m \u001b[43mjava_param\u001b[49m\u001b[38;5;241;43m.\u001b[39;49m\u001b[43mw\u001b[49m\u001b[43m(\u001b[49m\u001b[43mjava_value\u001b[49m\u001b[43m)\u001b[49m\n",
      "File \u001b[0;32m/usr/local/spark/python/lib/py4j-0.10.9.7-src.zip/py4j/java_gateway.py:1322\u001b[0m, in \u001b[0;36mJavaMember.__call__\u001b[0;34m(self, *args)\u001b[0m\n\u001b[1;32m   1316\u001b[0m command \u001b[38;5;241m=\u001b[39m proto\u001b[38;5;241m.\u001b[39mCALL_COMMAND_NAME \u001b[38;5;241m+\u001b[39m\\\n\u001b[1;32m   1317\u001b[0m     \u001b[38;5;28mself\u001b[39m\u001b[38;5;241m.\u001b[39mcommand_header \u001b[38;5;241m+\u001b[39m\\\n\u001b[1;32m   1318\u001b[0m     args_command \u001b[38;5;241m+\u001b[39m\\\n\u001b[1;32m   1319\u001b[0m     proto\u001b[38;5;241m.\u001b[39mEND_COMMAND_PART\n\u001b[1;32m   1321\u001b[0m answer \u001b[38;5;241m=\u001b[39m \u001b[38;5;28mself\u001b[39m\u001b[38;5;241m.\u001b[39mgateway_client\u001b[38;5;241m.\u001b[39msend_command(command)\n\u001b[0;32m-> 1322\u001b[0m return_value \u001b[38;5;241m=\u001b[39m \u001b[43mget_return_value\u001b[49m\u001b[43m(\u001b[49m\n\u001b[1;32m   1323\u001b[0m \u001b[43m    \u001b[49m\u001b[43manswer\u001b[49m\u001b[43m,\u001b[49m\u001b[43m \u001b[49m\u001b[38;5;28;43mself\u001b[39;49m\u001b[38;5;241;43m.\u001b[39;49m\u001b[43mgateway_client\u001b[49m\u001b[43m,\u001b[49m\u001b[43m \u001b[49m\u001b[38;5;28;43mself\u001b[39;49m\u001b[38;5;241;43m.\u001b[39;49m\u001b[43mtarget_id\u001b[49m\u001b[43m,\u001b[49m\u001b[43m \u001b[49m\u001b[38;5;28;43mself\u001b[39;49m\u001b[38;5;241;43m.\u001b[39;49m\u001b[43mname\u001b[49m\u001b[43m)\u001b[49m\n\u001b[1;32m   1325\u001b[0m \u001b[38;5;28;01mfor\u001b[39;00m temp_arg \u001b[38;5;129;01min\u001b[39;00m temp_args:\n\u001b[1;32m   1326\u001b[0m     \u001b[38;5;28;01mif\u001b[39;00m \u001b[38;5;28mhasattr\u001b[39m(temp_arg, \u001b[38;5;124m\"\u001b[39m\u001b[38;5;124m_detach\u001b[39m\u001b[38;5;124m\"\u001b[39m):\n",
      "File \u001b[0;32m/usr/local/spark/python/pyspark/errors/exceptions/captured.py:185\u001b[0m, in \u001b[0;36mcapture_sql_exception.<locals>.deco\u001b[0;34m(*a, **kw)\u001b[0m\n\u001b[1;32m    181\u001b[0m converted \u001b[38;5;241m=\u001b[39m convert_exception(e\u001b[38;5;241m.\u001b[39mjava_exception)\n\u001b[1;32m    182\u001b[0m \u001b[38;5;28;01mif\u001b[39;00m \u001b[38;5;129;01mnot\u001b[39;00m \u001b[38;5;28misinstance\u001b[39m(converted, UnknownException):\n\u001b[1;32m    183\u001b[0m     \u001b[38;5;66;03m# Hide where the exception came from that shows a non-Pythonic\u001b[39;00m\n\u001b[1;32m    184\u001b[0m     \u001b[38;5;66;03m# JVM exception message.\u001b[39;00m\n\u001b[0;32m--> 185\u001b[0m     \u001b[38;5;28;01mraise\u001b[39;00m converted \u001b[38;5;28;01mfrom\u001b[39;00m \u001b[38;5;28;01mNone\u001b[39;00m\n\u001b[1;32m    186\u001b[0m \u001b[38;5;28;01melse\u001b[39;00m:\n\u001b[1;32m    187\u001b[0m     \u001b[38;5;28;01mraise\u001b[39;00m\n",
      "\u001b[0;31mIllegalArgumentException\u001b[0m: ClusteringEvaluator_524385da9331 parameter metricName given invalid value wssse."
     ]
    }
   ],
   "source": [
    "silhouette_score=[] \n",
    "  \n",
    "evaluator = ClusteringEvaluator(predictionCol='prediction', \n",
    "                                featuresCol='scaledFeatures', \n",
    "                                metricName='wssse',  \n",
    "                                distanceMeasure='squaredEuclidean') \n",
    "for i in range(10, 30):  \n",
    "    for j in range(2,10): \n",
    "        kmeans=KMeans(featuresCol='scaledFeatures', k=j, maxIter=i) \n",
    "        model=kmeans.fit(final_data) \n",
    "        predictions=model.transform(final_data) \n",
    "        score=evaluator.evaluate(predictions) \n",
    "        silhouette_score.append(round(score, 4)) \n",
    "        print('Silhouette Score for k = {} in iter {} is {}'.format(j, i, score))"
   ]
  },
  {
   "cell_type": "code",
   "execution_count": 40,
   "id": "abd39bd4-baa2-4917-a220-687656b6a450",
   "metadata": {},
   "outputs": [
    {
     "data": {
      "image/png": "[encoded data removed]",
      "text/plain": [
       "<Figure size 2000x2000 with 2 Axes>"
      ]
     },
     "metadata": {},
     "output_type": "display_data"
    }
   ],
   "source": [
    "k_values = range(2, 10)\n",
    "iterations = range(10, 30)  \n",
    "silhouette_scores = silhouette_score\n",
    "\n",
    "# Convert silhouette scores to a DataFrame\n",
    "scores = np.reshape(silhouette_scores, (len(iterations),len(k_values))) \n",
    "df = pd.DataFrame(np.array(scores).T, columns=[f'iter_{i}' for i in iterations], index=k_values)\n",
    "plt.figure(figsize=(20, 20))\n",
    "# Create a heatmap\n",
    "sns.heatmap(df, annot=True, cmap='viridis', fmt='.3f', cbar_kws={'label': 'Silhouette Score'})\n",
    "plt.xlabel('Number of Iterations')\n",
    "plt.ylabel('Number of Clusters (k)')\n",
    "plt.title('Silhouette Score Heatmap')\n",
    "plt.show()"
   ]
  },
  {
   "cell_type": "code",
   "execution_count": 41,
   "id": "aba9b4a5-6a76-485b-8d08-1d39a7963770",
   "metadata": {},
   "outputs": [
    {
     "data": {
      "text/plain": [
       "0.1433"
      ]
     },
     "execution_count": 41,
     "metadata": {},
     "output_type": "execute_result"
    }
   ],
   "source": [
    "max(silhouette_score)"
   ]
  },
  {
   "cell_type": "code",
   "execution_count": 163,
   "id": "6d14d2f2-0c5a-496b-8d96-a9215f220e4f",
   "metadata": {},
   "outputs": [
    {
     "name": "stdout",
     "output_type": "stream",
     "text": [
      "Silhouette Score for k = 2 is 0.14332727303887105\n",
      "Silhouette Score for k = 3 is 0.04584582704290101\n",
      "Silhouette Score for k = 4 is 0.031993064594174135\n",
      "Silhouette Score for k = 5 is 0.04086722410092633\n",
      "Silhouette Score for k = 6 is 0.041724637566950884\n",
      "Silhouette Score for k = 7 is 0.03937712546388358\n",
      "Silhouette Score for k = 8 is 0.03649320929808786\n",
      "Silhouette Score for k = 9 is -0.023009623401322947\n",
      "Silhouette Score for k = 10 is -0.018740024003965496\n"
     ]
    }
   ],
   "source": [
    "#--> 10 iters, 2 clusters\n",
    "silhouette_score=[] \n",
    "  \n",
    "evaluator = ClusteringEvaluator(predictionCol='prediction', \n",
    "                                featuresCol='scaledFeatures', \n",
    "                                metricName='silhouette',  \n",
    "                                distanceMeasure='squaredEuclidean') \n",
    "for i in range(2, 11):  \n",
    "    kmeans=KMeans(featuresCol='scaledFeatures', k=i, maxIter=10) \n",
    "    model=kmeans.fit(final_data) \n",
    "    predictions=model.transform(final_data) \n",
    "    score=evaluator.evaluate(predictions) \n",
    "    silhouette_score.append(score) \n",
    "    print('Silhouette Score for k = {} is {}'.format( i, score))"
   ]
  },
  {
   "cell_type": "code",
   "execution_count": 165,
   "id": "16a34fad-4121-4fae-bf7f-9f0c4efc03e8",
   "metadata": {},
   "outputs": [
    {
     "data": {
      "image/png": "[encoded data removed]",
      "text/plain": [
       "<Figure size 640x480 with 1 Axes>"
      ]
     },
     "metadata": {},
     "output_type": "display_data"
    }
   ],
   "source": [
    "#Visualizing the silhouette scores in a plot \n",
    "import matplotlib.pyplot as plt \n",
    "\n",
    "plt.plot(range(2, 11),silhouette_score) \n",
    "plt.xlabel('Iters') \n",
    "plt.ylabel('silhouette score') \n",
    "plt.title('Silhouette Score') \n",
    "plt.show()\n",
    "# 1 iter, 2 clusters"
   ]
  },
  {
   "cell_type": "code",
   "execution_count": 180,
   "id": "d715dd05-01f1-484a-b109-512fde961567",
   "metadata": {},
   "outputs": [],
   "source": [
    "# training cost: Sum of square distance to nearest centroid"
   ]
  },
  {
   "cell_type": "code",
   "execution_count": 183,
   "id": "2e650e6f-0220-4c0e-9fd3-f102be03e2dd",
   "metadata": {},
   "outputs": [
    {
     "data": {
      "image/png": "[encoded data removed]",
      "text/plain": [
       "<Figure size 640x480 with 1 Axes>"
      ]
     },
     "metadata": {},
     "output_type": "display_data"
    }
   ],
   "source": [
    "cost = np.zeros(11)\n",
    "\n",
    "for k in range(2,11):\n",
    "    kmeans = KMeans().setK(k).setSeed(1).setFeaturesCol('scaledFeatures')\n",
    "    model = kmeans.fit(final_data)\n",
    "    cost[k] = model.summary.trainingCost\n",
    "\n",
    "# Plot the cost\n",
    "df_cost = pd.DataFrame(cost[2:])\n",
    "df_cost.columns = [\"cost\"]\n",
    "new_col = [i for i in range(2,11)]\n",
    "df_cost.insert(0, 'cluster', new_col)\n",
    "\n",
    "import pylab as pl\n",
    "pl.plot(df_cost.cluster, df_cost.cost)\n",
    "pl.xlabel('Number of Clusters')\n",
    "pl.ylabel('Score')\n",
    "pl.title('Elbow Curve')\n",
    "pl.show()"
   ]
  },
  {
   "cell_type": "code",
   "execution_count": 186,
   "id": "7dffcac3-58ae-4af5-8a65-b2890bded3cc",
   "metadata": {
    "scrolled": true
   },
   "outputs": [
    {
     "name": "stdout",
     "output_type": "stream",
     "text": [
      "Silhouette with squared euclidean distance = 0.14332727303887105\n",
      "Cluster Centers: \n",
      "[ 0.52392323  0.88069562  0.88313218  1.21009504 -1.10758744  0.47060902\n",
      " -0.09371175  0.14430408 -0.65986339 -0.78580677 -0.58385016 -0.13129242\n",
      "  0.51799933  0.6475714  -0.00462199  0.66446542 -0.19813204 -0.23630463\n",
      "  0.54693178 -0.34302353 -0.14962805 -0.69453965  0.39279292 -1.04264913\n",
      " -0.40813711 -0.59674726 -0.29135106 -0.24093379  1.45857068 -0.37215116\n",
      " -0.60220184  0.03605533  0.08490689  0.71237845  0.09139189]\n",
      "[ 0.01172026  0.47153692  0.8406684   0.51769095 -0.08269784  0.95702514\n",
      "  0.23650561  0.23835213 -0.35016657 -1.0610677  -0.41748986  0.58018665\n",
      " -0.05648292 -0.4442855  -0.24198577 -0.46974755  1.07285182 -0.2811121\n",
      " -0.24403604 -0.63859208  0.41682886 -0.5612686  -0.09965759 -0.44974709\n",
      " -0.50563532 -0.08896737  0.16558125  0.1896061   1.451042    0.72624611\n",
      " -0.64351045 -1.01056167  0.0481938   0.8443709   0.17569042]\n"
     ]
    }
   ],
   "source": [
    "# Trains a k-means model.\n",
    "kmeans = KMeans().setK(2).setFeaturesCol(\"scaledFeatures\").setPredictionCol(\"prediction\").setMaxIter(10)\n",
    "model = kmeans.fit(final_data)\n",
    "\n",
    "# Make predictions\n",
    "predictions = model.transform(final_data)\n",
    "\n",
    "# Evaluate clustering by computing Silhouette score\n",
    "evaluator = ClusteringEvaluator(predictionCol='prediction', \n",
    "                                featuresCol='scaledFeatures', \n",
    "                                metricName='silhouette',  \n",
    "                                distanceMeasure='squaredEuclidean')\n",
    "\n",
    "silhouette = evaluator.evaluate(predictions)\n",
    "print(\"Silhouette with squared euclidean distance = \" + str(silhouette))\n",
    "\n",
    "# Shows the result.\n",
    "centers = model.clusterCenters()\n",
    "print(\"Cluster Centers: \")\n",
    "for center in centers:\n",
    "    print(center)"
   ]
  },
  {
   "cell_type": "code",
   "execution_count": 187,
   "id": "1dd10414-bb13-493a-9b99-a9cf52cab22a",
   "metadata": {},
   "outputs": [],
   "source": [
    "model.save('./model/kmeans_1')"
   ]
  },
  {
   "cell_type": "code",
   "execution_count": 188,
   "id": "175f6e5f-e328-4710-9f3e-506c34da3cea",
   "metadata": {},
   "outputs": [
    {
     "name": "stdout",
     "output_type": "stream",
     "text": [
      "+------+--------------------+--------------------+----------+\n",
      "|    id|           features_|      scaledFeatures|prediction|\n",
      "+------+--------------------+--------------------+----------+\n",
      "|  4385|[0.32178157567977...|[1.76758260960306...|         0|\n",
      "|  6575|[0.02527468837797...|[0.13883672346892...|         0|\n",
      "| 16795|[0.11327800899744...|[0.62224892252250...|         0|\n",
      "| 26535|[0.12633806467056...|[0.69398928627543...|         0|\n",
      "| 30735|[0.05693576112389...|[0.31275457898578...|         0|\n",
      "| 31315|[0.16496084630489...|[0.90614859653773...|         0|\n",
      "| 68555|[0.36283698678016...|[1.99310462881079...|         0|\n",
      "| 70415|[0.13669928908348...|[0.75090466450297...|         0|\n",
      "|114865|[-0.1086922511458...|[-0.5970588356966...|         0|\n",
      "|120565|[0.13364034891128...|[0.73410155997231...|         0|\n",
      "|128835|[0.31945481896400...|[1.75480147165602...|         0|\n",
      "|135265|[0.39165353775024...|[2.15139720431281...|         0|\n",
      "|143175|[0.22253327071666...|[1.22240043901180...|         0|\n",
      "|158295|[0.50674462318420...|[2.78360556087781...|         0|\n",
      "|164905|[0.03000177815556...|[0.16480316255806...|         1|\n",
      "|168245|[0.36161869764328...|[1.98641242871425...|         0|\n",
      "|173415|[-0.1345673799514...|[-0.7391938463834...|         0|\n",
      "|182085|[0.15315704047679...|[0.84130895534698...|         0|\n",
      "|183995|[0.24974811077117...|[1.37189463519709...|         0|\n",
      "|187145|[0.13378253579139...|[0.73488260859533...|         0|\n",
      "+------+--------------------+--------------------+----------+\n",
      "only showing top 20 rows\n",
      "\n"
     ]
    }
   ],
   "source": [
    "predictions.show()"
   ]
  },
  {
   "cell_type": "code",
   "execution_count": 189,
   "id": "b8d56477-6b0d-452a-a889-62e73a8f7bf4",
   "metadata": {},
   "outputs": [],
   "source": [
    "def compute_distance(row):\n",
    "    cluster_id = row['prediction']\n",
    "    user_feature = row['scaledFeatures']\n",
    "    if cluster_id == 0:\n",
    "        euclidean_distance = np.linalg.norm(user_feature - centers[0])\n",
    "    if cluster_id == 1:\n",
    "        euclidean_distance = np.linalg.norm(user_feature - centers[1])\n",
    "    return euclidean_distance"
   ]
  },
  {
   "cell_type": "code",
   "execution_count": 190,
   "id": "7d3f4d8b-8f0a-4d37-9412-6d1ab5dc2925",
   "metadata": {
    "scrolled": true
   },
   "outputs": [
    {
     "data": {
      "text/html": [
       "<div>\n",
       "<style scoped>\n",
       "    .dataframe tbody tr th:only-of-type {\n",
       "        vertical-align: middle;\n",
       "    }\n",
       "\n",
       "    .dataframe tbody tr th {\n",
       "        vertical-align: top;\n",
       "    }\n",
       "\n",
       "    .dataframe thead th {\n",
       "        text-align: right;\n",
       "    }\n",
       "</style>\n",
       "<table border=\"1\" class=\"dataframe\">\n",
       "  <thead>\n",
       "    <tr style=\"text-align: right;\">\n",
       "      <th></th>\n",
       "      <th>id</th>\n",
       "      <th>features_</th>\n",
       "      <th>scaledFeatures</th>\n",
       "      <th>prediction</th>\n",
       "    </tr>\n",
       "  </thead>\n",
       "  <tbody>\n",
       "    <tr>\n",
       "      <th>0</th>\n",
       "      <td>4385</td>\n",
       "      <td>[0.32178157567977905, 0.27567291259765625, 0.0...</td>\n",
       "      <td>[1.7675826096030647, 1.4224833123692373, 0.373...</td>\n",
       "      <td>0</td>\n",
       "    </tr>\n",
       "    <tr>\n",
       "      <th>1</th>\n",
       "      <td>6575</td>\n",
       "      <td>[0.025274688377976418, 0.1411098688840866, 0.0...</td>\n",
       "      <td>[0.138836723468923, 0.7281325967313441, 0.0470...</td>\n",
       "      <td>0</td>\n",
       "    </tr>\n",
       "    <tr>\n",
       "      <th>2</th>\n",
       "      <td>16795</td>\n",
       "      <td>[0.11327800899744034, 0.2236904501914978, 0.16...</td>\n",
       "      <td>[0.6222489225225007, 1.1542517164106496, 0.899...</td>\n",
       "      <td>0</td>\n",
       "    </tr>\n",
       "  </tbody>\n",
       "</table>\n",
       "</div>"
      ],
      "text/plain": [
       "      id                                          features_  \\\n",
       "0   4385  [0.32178157567977905, 0.27567291259765625, 0.0...   \n",
       "1   6575  [0.025274688377976418, 0.1411098688840866, 0.0...   \n",
       "2  16795  [0.11327800899744034, 0.2236904501914978, 0.16...   \n",
       "\n",
       "                                      scaledFeatures  prediction  \n",
       "0  [1.7675826096030647, 1.4224833123692373, 0.373...           0  \n",
       "1  [0.138836723468923, 0.7281325967313441, 0.0470...           0  \n",
       "2  [0.6222489225225007, 1.1542517164106496, 0.899...           0  "
      ]
     },
     "execution_count": 190,
     "metadata": {},
     "output_type": "execute_result"
    }
   ],
   "source": [
    "predictions = predictions.toPandas()\n",
    "predictions.head(3)"
   ]
  },
  {
   "cell_type": "code",
   "execution_count": 191,
   "id": "d1fbbc4c-9b58-42d4-b5cd-aaf7a7fee251",
   "metadata": {},
   "outputs": [],
   "source": [
    "predictions['distance_to_centroid'] = predictions.apply(compute_distance, axis=1)"
   ]
  },
  {
   "cell_type": "code",
   "execution_count": 192,
   "id": "c3ee1ec3-5029-45df-82ef-fa19392e2ebf",
   "metadata": {},
   "outputs": [
    {
     "data": {
      "text/html": [
       "<div>\n",
       "<style scoped>\n",
       "    .dataframe tbody tr th:only-of-type {\n",
       "        vertical-align: middle;\n",
       "    }\n",
       "\n",
       "    .dataframe tbody tr th {\n",
       "        vertical-align: top;\n",
       "    }\n",
       "\n",
       "    .dataframe thead th {\n",
       "        text-align: right;\n",
       "    }\n",
       "</style>\n",
       "<table border=\"1\" class=\"dataframe\">\n",
       "  <thead>\n",
       "    <tr style=\"text-align: right;\">\n",
       "      <th></th>\n",
       "      <th>id</th>\n",
       "      <th>features_</th>\n",
       "      <th>scaledFeatures</th>\n",
       "      <th>prediction</th>\n",
       "      <th>distance_to_centroid</th>\n",
       "    </tr>\n",
       "  </thead>\n",
       "  <tbody>\n",
       "    <tr>\n",
       "      <th>0</th>\n",
       "      <td>4385</td>\n",
       "      <td>[0.32178157567977905, 0.27567291259765625, 0.0...</td>\n",
       "      <td>[1.7675826096030647, 1.4224833123692373, 0.373...</td>\n",
       "      <td>0</td>\n",
       "      <td>4.973756</td>\n",
       "    </tr>\n",
       "    <tr>\n",
       "      <th>1</th>\n",
       "      <td>6575</td>\n",
       "      <td>[0.025274688377976418, 0.1411098688840866, 0.0...</td>\n",
       "      <td>[0.138836723468923, 0.7281325967313441, 0.0470...</td>\n",
       "      <td>0</td>\n",
       "      <td>5.886532</td>\n",
       "    </tr>\n",
       "    <tr>\n",
       "      <th>2</th>\n",
       "      <td>16795</td>\n",
       "      <td>[0.11327800899744034, 0.2236904501914978, 0.16...</td>\n",
       "      <td>[0.6222489225225007, 1.1542517164106496, 0.899...</td>\n",
       "      <td>0</td>\n",
       "      <td>5.669360</td>\n",
       "    </tr>\n",
       "  </tbody>\n",
       "</table>\n",
       "</div>"
      ],
      "text/plain": [
       "      id                                          features_  \\\n",
       "0   4385  [0.32178157567977905, 0.27567291259765625, 0.0...   \n",
       "1   6575  [0.025274688377976418, 0.1411098688840866, 0.0...   \n",
       "2  16795  [0.11327800899744034, 0.2236904501914978, 0.16...   \n",
       "\n",
       "                                      scaledFeatures  prediction  \\\n",
       "0  [1.7675826096030647, 1.4224833123692373, 0.373...           0   \n",
       "1  [0.138836723468923, 0.7281325967313441, 0.0470...           0   \n",
       "2  [0.6222489225225007, 1.1542517164106496, 0.899...           0   \n",
       "\n",
       "   distance_to_centroid  \n",
       "0              4.973756  \n",
       "1              5.886532  \n",
       "2              5.669360  "
      ]
     },
     "execution_count": 192,
     "metadata": {},
     "output_type": "execute_result"
    }
   ],
   "source": [
    "predictions.head(3)"
   ]
  },
  {
   "cell_type": "code",
   "execution_count": 193,
   "id": "bbe35ba5-3fc0-4722-aaf0-19f3e0c15241",
   "metadata": {},
   "outputs": [],
   "source": [
    "ratings = pd.read_csv(\"./data/cleaned_ratings.csv\")"
   ]
  },
  {
   "cell_type": "code",
   "execution_count": 194,
   "id": "d80be1b1-a845-49b1-8443-f36869ddac29",
   "metadata": {},
   "outputs": [
    {
     "data": {
      "text/html": [
       "<div>\n",
       "<style scoped>\n",
       "    .dataframe tbody tr th:only-of-type {\n",
       "        vertical-align: middle;\n",
       "    }\n",
       "\n",
       "    .dataframe tbody tr th {\n",
       "        vertical-align: top;\n",
       "    }\n",
       "\n",
       "    .dataframe thead th {\n",
       "        text-align: right;\n",
       "    }\n",
       "</style>\n",
       "<table border=\"1\" class=\"dataframe\">\n",
       "  <thead>\n",
       "    <tr style=\"text-align: right;\">\n",
       "      <th></th>\n",
       "      <th>Unnamed: 0</th>\n",
       "      <th>id</th>\n",
       "      <th>ISBN</th>\n",
       "      <th>rating</th>\n",
       "    </tr>\n",
       "  </thead>\n",
       "  <tbody>\n",
       "    <tr>\n",
       "      <th>0</th>\n",
       "      <td>14854</td>\n",
       "      <td>2276</td>\n",
       "      <td>0020960808</td>\n",
       "      <td>10</td>\n",
       "    </tr>\n",
       "    <tr>\n",
       "      <th>1</th>\n",
       "      <td>14856</td>\n",
       "      <td>2276</td>\n",
       "      <td>0030632366</td>\n",
       "      <td>9</td>\n",
       "    </tr>\n",
       "    <tr>\n",
       "      <th>2</th>\n",
       "      <td>14858</td>\n",
       "      <td>2276</td>\n",
       "      <td>0061030643</td>\n",
       "      <td>8</td>\n",
       "    </tr>\n",
       "  </tbody>\n",
       "</table>\n",
       "</div>"
      ],
      "text/plain": [
       "   Unnamed: 0    id        ISBN  rating\n",
       "0       14854  2276  0020960808      10\n",
       "1       14856  2276  0030632366       9\n",
       "2       14858  2276  0061030643       8"
      ]
     },
     "execution_count": 194,
     "metadata": {},
     "output_type": "execute_result"
    }
   ],
   "source": [
    "ratings.rename(columns={\"user_id\":\"id\"}, inplace=True)\n",
    "ratings.head(3)"
   ]
  },
  {
   "cell_type": "code",
   "execution_count": 195,
   "id": "be90f9d3-eb2c-4e2d-824d-cbbf441afb91",
   "metadata": {},
   "outputs": [],
   "source": [
    "result_df = pd.merge(predictions, ratings, on='id', how='inner')\n",
    "result_df = result_df[[\"id\", \"scaledFeatures\", \"prediction\", \"distance_to_centroid\", \"ISBN\", \"rating\"]]"
   ]
  },
  {
   "cell_type": "code",
   "execution_count": 196,
   "id": "d422f7ce-0548-438e-be21-1b8769283e80",
   "metadata": {},
   "outputs": [
    {
     "data": {
      "text/html": [
       "<div>\n",
       "<style scoped>\n",
       "    .dataframe tbody tr th:only-of-type {\n",
       "        vertical-align: middle;\n",
       "    }\n",
       "\n",
       "    .dataframe tbody tr th {\n",
       "        vertical-align: top;\n",
       "    }\n",
       "\n",
       "    .dataframe thead th {\n",
       "        text-align: right;\n",
       "    }\n",
       "</style>\n",
       "<table border=\"1\" class=\"dataframe\">\n",
       "  <thead>\n",
       "    <tr style=\"text-align: right;\">\n",
       "      <th></th>\n",
       "      <th>id</th>\n",
       "      <th>scaledFeatures</th>\n",
       "      <th>prediction</th>\n",
       "      <th>distance_to_centroid</th>\n",
       "      <th>ISBN</th>\n",
       "      <th>rating</th>\n",
       "    </tr>\n",
       "  </thead>\n",
       "  <tbody>\n",
       "    <tr>\n",
       "      <th>0</th>\n",
       "      <td>4385</td>\n",
       "      <td>[1.7675826096030647, 1.4224833123692373, 0.373...</td>\n",
       "      <td>0</td>\n",
       "      <td>4.973756</td>\n",
       "      <td>0061083402</td>\n",
       "      <td>10</td>\n",
       "    </tr>\n",
       "    <tr>\n",
       "      <th>1</th>\n",
       "      <td>4385</td>\n",
       "      <td>[1.7675826096030647, 1.4224833123692373, 0.373...</td>\n",
       "      <td>0</td>\n",
       "      <td>4.973756</td>\n",
       "      <td>0061093343</td>\n",
       "      <td>9</td>\n",
       "    </tr>\n",
       "    <tr>\n",
       "      <th>2</th>\n",
       "      <td>4385</td>\n",
       "      <td>[1.7675826096030647, 1.4224833123692373, 0.373...</td>\n",
       "      <td>0</td>\n",
       "      <td>4.973756</td>\n",
       "      <td>0061096156</td>\n",
       "      <td>10</td>\n",
       "    </tr>\n",
       "  </tbody>\n",
       "</table>\n",
       "</div>"
      ],
      "text/plain": [
       "     id                                     scaledFeatures  prediction  \\\n",
       "0  4385  [1.7675826096030647, 1.4224833123692373, 0.373...           0   \n",
       "1  4385  [1.7675826096030647, 1.4224833123692373, 0.373...           0   \n",
       "2  4385  [1.7675826096030647, 1.4224833123692373, 0.373...           0   \n",
       "\n",
       "   distance_to_centroid        ISBN  rating  \n",
       "0              4.973756  0061083402      10  \n",
       "1              4.973756  0061093343       9  \n",
       "2              4.973756  0061096156      10  "
      ]
     },
     "execution_count": 196,
     "metadata": {},
     "output_type": "execute_result"
    }
   ],
   "source": [
    "result_df.head(3)"
   ]
  },
  {
   "cell_type": "code",
   "execution_count": 197,
   "id": "4e4f8944-204a-4417-8f06-c8fcfd669213",
   "metadata": {},
   "outputs": [],
   "source": [
    "cluster_0 = result_df[result_df['prediction'] == 0]\n",
    "cluster_1 = result_df[result_df['prediction'] == 1]"
   ]
  },
  {
   "cell_type": "code",
   "execution_count": 202,
   "id": "4783c903-604f-4d11-94bc-59386a73e5cf",
   "metadata": {},
   "outputs": [
    {
     "data": {
      "text/html": [
       "<div>\n",
       "<style scoped>\n",
       "    .dataframe tbody tr th:only-of-type {\n",
       "        vertical-align: middle;\n",
       "    }\n",
       "\n",
       "    .dataframe tbody tr th {\n",
       "        vertical-align: top;\n",
       "    }\n",
       "\n",
       "    .dataframe thead th {\n",
       "        text-align: right;\n",
       "    }\n",
       "</style>\n",
       "<table border=\"1\" class=\"dataframe\">\n",
       "  <thead>\n",
       "    <tr style=\"text-align: right;\">\n",
       "      <th></th>\n",
       "      <th>id</th>\n",
       "      <th>scaledFeatures</th>\n",
       "      <th>prediction</th>\n",
       "      <th>distance_to_centroid</th>\n",
       "      <th>ISBN</th>\n",
       "      <th>rating</th>\n",
       "    </tr>\n",
       "  </thead>\n",
       "  <tbody>\n",
       "    <tr>\n",
       "      <th>0</th>\n",
       "      <td>4385</td>\n",
       "      <td>[1.7675826096030647, 1.4224833123692373, 0.373...</td>\n",
       "      <td>0</td>\n",
       "      <td>4.973756</td>\n",
       "      <td>0061083402</td>\n",
       "      <td>10</td>\n",
       "    </tr>\n",
       "    <tr>\n",
       "      <th>1</th>\n",
       "      <td>4385</td>\n",
       "      <td>[1.7675826096030647, 1.4224833123692373, 0.373...</td>\n",
       "      <td>0</td>\n",
       "      <td>4.973756</td>\n",
       "      <td>0061093343</td>\n",
       "      <td>9</td>\n",
       "    </tr>\n",
       "    <tr>\n",
       "      <th>2</th>\n",
       "      <td>4385</td>\n",
       "      <td>[1.7675826096030647, 1.4224833123692373, 0.373...</td>\n",
       "      <td>0</td>\n",
       "      <td>4.973756</td>\n",
       "      <td>0061096156</td>\n",
       "      <td>10</td>\n",
       "    </tr>\n",
       "  </tbody>\n",
       "</table>\n",
       "</div>"
      ],
      "text/plain": [
       "     id                                     scaledFeatures  prediction  \\\n",
       "0  4385  [1.7675826096030647, 1.4224833123692373, 0.373...           0   \n",
       "1  4385  [1.7675826096030647, 1.4224833123692373, 0.373...           0   \n",
       "2  4385  [1.7675826096030647, 1.4224833123692373, 0.373...           0   \n",
       "\n",
       "   distance_to_centroid        ISBN  rating  \n",
       "0              4.973756  0061083402      10  \n",
       "1              4.973756  0061093343       9  \n",
       "2              4.973756  0061096156      10  "
      ]
     },
     "execution_count": 202,
     "metadata": {},
     "output_type": "execute_result"
    }
   ],
   "source": [
    "cluster_0.head(3)"
   ]
  },
  {
   "cell_type": "code",
   "execution_count": 203,
   "id": "d1e5611d-8935-44e1-b7f2-57bb32d0c096",
   "metadata": {},
   "outputs": [
    {
     "data": {
      "text/plain": [
       "(83188, 6)"
      ]
     },
     "execution_count": 203,
     "metadata": {},
     "output_type": "execute_result"
    }
   ],
   "source": [
    "cluster_0.shape"
   ]
  },
  {
   "cell_type": "code",
   "execution_count": 204,
   "id": "6bd32667-98d0-43b1-a655-9d855b73419e",
   "metadata": {},
   "outputs": [
    {
     "data": {
      "text/html": [
       "<div>\n",
       "<style scoped>\n",
       "    .dataframe tbody tr th:only-of-type {\n",
       "        vertical-align: middle;\n",
       "    }\n",
       "\n",
       "    .dataframe tbody tr th {\n",
       "        vertical-align: top;\n",
       "    }\n",
       "\n",
       "    .dataframe thead th {\n",
       "        text-align: right;\n",
       "    }\n",
       "</style>\n",
       "<table border=\"1\" class=\"dataframe\">\n",
       "  <thead>\n",
       "    <tr style=\"text-align: right;\">\n",
       "      <th></th>\n",
       "      <th>id</th>\n",
       "      <th>scaledFeatures</th>\n",
       "      <th>prediction</th>\n",
       "      <th>distance_to_centroid</th>\n",
       "      <th>ISBN</th>\n",
       "      <th>rating</th>\n",
       "    </tr>\n",
       "  </thead>\n",
       "  <tbody>\n",
       "    <tr>\n",
       "      <th>4231</th>\n",
       "      <td>164905</td>\n",
       "      <td>[0.16480316255806918, -0.19232766516250355, -0...</td>\n",
       "      <td>1</td>\n",
       "      <td>5.806712</td>\n",
       "      <td>0373028644</td>\n",
       "      <td>6</td>\n",
       "    </tr>\n",
       "    <tr>\n",
       "      <th>4232</th>\n",
       "      <td>164905</td>\n",
       "      <td>[0.16480316255806918, -0.19232766516250355, -0...</td>\n",
       "      <td>1</td>\n",
       "      <td>5.806712</td>\n",
       "      <td>037303010X</td>\n",
       "      <td>7</td>\n",
       "    </tr>\n",
       "    <tr>\n",
       "      <th>4233</th>\n",
       "      <td>164905</td>\n",
       "      <td>[0.16480316255806918, -0.19232766516250355, -0...</td>\n",
       "      <td>1</td>\n",
       "      <td>5.806712</td>\n",
       "      <td>0373030169</td>\n",
       "      <td>5</td>\n",
       "    </tr>\n",
       "  </tbody>\n",
       "</table>\n",
       "</div>"
      ],
      "text/plain": [
       "          id                                     scaledFeatures  prediction  \\\n",
       "4231  164905  [0.16480316255806918, -0.19232766516250355, -0...           1   \n",
       "4232  164905  [0.16480316255806918, -0.19232766516250355, -0...           1   \n",
       "4233  164905  [0.16480316255806918, -0.19232766516250355, -0...           1   \n",
       "\n",
       "      distance_to_centroid        ISBN  rating  \n",
       "4231              5.806712  0373028644       6  \n",
       "4232              5.806712  037303010X       7  \n",
       "4233              5.806712  0373030169       5  "
      ]
     },
     "execution_count": 204,
     "metadata": {},
     "output_type": "execute_result"
    }
   ],
   "source": [
    "cluster_1.head(3)"
   ]
  },
  {
   "cell_type": "code",
   "execution_count": 205,
   "id": "1a7e0360-c79c-4e2b-896f-a7587f80c2d4",
   "metadata": {},
   "outputs": [
    {
     "data": {
      "text/plain": [
       "(4624, 6)"
      ]
     },
     "execution_count": 205,
     "metadata": {},
     "output_type": "execute_result"
    }
   ],
   "source": [
    "cluster_1.shape"
   ]
  },
  {
   "cell_type": "markdown",
   "id": "4ac4d58b-ed9b-4364-a976-1dbf0c55288b",
   "metadata": {},
   "source": [
    "## Cluster 0"
   ]
  },
  {
   "cell_type": "code",
   "execution_count": 206,
   "id": "ff5753b8-cc3f-4d9a-80c8-388a968e7aff",
   "metadata": {},
   "outputs": [
    {
     "data": {
      "text/html": [
       "<div>\n",
       "<style scoped>\n",
       "    .dataframe tbody tr th:only-of-type {\n",
       "        vertical-align: middle;\n",
       "    }\n",
       "\n",
       "    .dataframe tbody tr th {\n",
       "        vertical-align: top;\n",
       "    }\n",
       "\n",
       "    .dataframe thead th {\n",
       "        text-align: right;\n",
       "    }\n",
       "</style>\n",
       "<table border=\"1\" class=\"dataframe\">\n",
       "  <thead>\n",
       "    <tr style=\"text-align: right;\">\n",
       "      <th></th>\n",
       "      <th>id</th>\n",
       "      <th>scaledFeatures</th>\n",
       "      <th>prediction</th>\n",
       "      <th>distance_to_centroid</th>\n",
       "      <th>ISBN</th>\n",
       "      <th>rating</th>\n",
       "    </tr>\n",
       "  </thead>\n",
       "  <tbody>\n",
       "    <tr>\n",
       "      <th>84576</th>\n",
       "      <td>55490</td>\n",
       "      <td>[0.762984561247602, 0.7220818454649576, 1.5677...</td>\n",
       "      <td>0</td>\n",
       "      <td>5.092101</td>\n",
       "      <td>0679446486</td>\n",
       "      <td>7</td>\n",
       "    </tr>\n",
       "    <tr>\n",
       "      <th>82030</th>\n",
       "      <td>177432</td>\n",
       "      <td>[-0.3805168293095508, 0.639276522795825, 1.910...</td>\n",
       "      <td>0</td>\n",
       "      <td>5.230628</td>\n",
       "      <td>0486400611</td>\n",
       "      <td>7</td>\n",
       "    </tr>\n",
       "    <tr>\n",
       "      <th>26483</th>\n",
       "      <td>35859</td>\n",
       "      <td>[0.3337509495662015, 0.7925807521766806, 0.261...</td>\n",
       "      <td>0</td>\n",
       "      <td>5.508457</td>\n",
       "      <td>037540421X</td>\n",
       "      <td>9</td>\n",
       "    </tr>\n",
       "    <tr>\n",
       "      <th>35852</th>\n",
       "      <td>4017</td>\n",
       "      <td>[0.5804498882958962, -0.3957631757521226, 0.96...</td>\n",
       "      <td>0</td>\n",
       "      <td>5.557193</td>\n",
       "      <td>0345423291</td>\n",
       "      <td>9</td>\n",
       "    </tr>\n",
       "    <tr>\n",
       "      <th>76645</th>\n",
       "      <td>23902</td>\n",
       "      <td>[0.12440855476320721, 2.029575432987277, -1.20...</td>\n",
       "      <td>0</td>\n",
       "      <td>5.632420</td>\n",
       "      <td>0006174760</td>\n",
       "      <td>6</td>\n",
       "    </tr>\n",
       "  </tbody>\n",
       "</table>\n",
       "</div>"
      ],
      "text/plain": [
       "           id                                     scaledFeatures  prediction  \\\n",
       "84576   55490  [0.762984561247602, 0.7220818454649576, 1.5677...           0   \n",
       "82030  177432  [-0.3805168293095508, 0.639276522795825, 1.910...           0   \n",
       "26483   35859  [0.3337509495662015, 0.7925807521766806, 0.261...           0   \n",
       "35852    4017  [0.5804498882958962, -0.3957631757521226, 0.96...           0   \n",
       "76645   23902  [0.12440855476320721, 2.029575432987277, -1.20...           0   \n",
       "\n",
       "       distance_to_centroid        ISBN  rating  \n",
       "84576              5.092101  0679446486       7  \n",
       "82030              5.230628  0486400611       7  \n",
       "26483              5.508457  037540421X       9  \n",
       "35852              5.557193  0345423291       9  \n",
       "76645              5.632420  0006174760       6  "
      ]
     },
     "execution_count": 206,
     "metadata": {},
     "output_type": "execute_result"
    }
   ],
   "source": [
    "# Sort and get top 20 users\n",
    "cluster_0 = cluster_0.sort_values(by=\"distance_to_centroid\", ascending=True)\n",
    "top_20_0 = cluster_0['id'].unique()[:20]\n",
    "top_20_c0 = cluster_0[cluster_0['id'].isin(top_20)].drop_duplicates(subset='id')\n",
    "top_20_c0.head()"
   ]
  },
  {
   "cell_type": "code",
   "execution_count": 207,
   "id": "74fc12a0-12b4-4197-8f64-52f22e251777",
   "metadata": {},
   "outputs": [
    {
     "data": {
      "text/html": [
       "<div>\n",
       "<style scoped>\n",
       "    .dataframe tbody tr th:only-of-type {\n",
       "        vertical-align: middle;\n",
       "    }\n",
       "\n",
       "    .dataframe tbody tr th {\n",
       "        vertical-align: top;\n",
       "    }\n",
       "\n",
       "    .dataframe thead th {\n",
       "        text-align: right;\n",
       "    }\n",
       "</style>\n",
       "<table border=\"1\" class=\"dataframe\">\n",
       "  <thead>\n",
       "    <tr style=\"text-align: right;\">\n",
       "      <th></th>\n",
       "      <th>ISBN</th>\n",
       "      <th>rating</th>\n",
       "    </tr>\n",
       "  </thead>\n",
       "  <tbody>\n",
       "    <tr>\n",
       "      <th>0</th>\n",
       "      <td>0006174760</td>\n",
       "      <td>6.0</td>\n",
       "    </tr>\n",
       "    <tr>\n",
       "      <th>1</th>\n",
       "      <td>0064431037</td>\n",
       "      <td>9.0</td>\n",
       "    </tr>\n",
       "    <tr>\n",
       "      <th>2</th>\n",
       "      <td>0140707247</td>\n",
       "      <td>9.0</td>\n",
       "    </tr>\n",
       "    <tr>\n",
       "      <th>3</th>\n",
       "      <td>0345423291</td>\n",
       "      <td>9.0</td>\n",
       "    </tr>\n",
       "    <tr>\n",
       "      <th>4</th>\n",
       "      <td>037540421X</td>\n",
       "      <td>9.0</td>\n",
       "    </tr>\n",
       "  </tbody>\n",
       "</table>\n",
       "</div>"
      ],
      "text/plain": [
       "         ISBN  rating\n",
       "0  0006174760     6.0\n",
       "1  0064431037     9.0\n",
       "2  0140707247     9.0\n",
       "3  0345423291     9.0\n",
       "4  037540421X     9.0"
      ]
     },
     "execution_count": 207,
     "metadata": {},
     "output_type": "execute_result"
    }
   ],
   "source": [
    "## Calculate avg rating \n",
    "avg_ratings_by_isbn_c0 = top_20_c0.groupby('ISBN')['rating'].mean().reset_index()\n",
    "avg_ratings_by_isbn_c0.head()"
   ]
  },
  {
   "cell_type": "code",
   "execution_count": 208,
   "id": "369eb2cf-60c9-46f1-884a-b055ade9ef24",
   "metadata": {},
   "outputs": [
    {
     "data": {
      "text/plain": [
       "(20, 2)"
      ]
     },
     "execution_count": 208,
     "metadata": {},
     "output_type": "execute_result"
    }
   ],
   "source": [
    "avg_ratings_by_isbn_c0.shape"
   ]
  },
  {
   "cell_type": "markdown",
   "id": "5d1d63cf-4ffc-46bd-ab0f-191eac281fd2",
   "metadata": {},
   "source": [
    "## Cluster 1"
   ]
  },
  {
   "cell_type": "code",
   "execution_count": 209,
   "id": "bcf4a10f-2f6e-49b0-acc2-6483f4e01c63",
   "metadata": {},
   "outputs": [
    {
     "data": {
      "text/html": [
       "<div>\n",
       "<style scoped>\n",
       "    .dataframe tbody tr th:only-of-type {\n",
       "        vertical-align: middle;\n",
       "    }\n",
       "\n",
       "    .dataframe tbody tr th {\n",
       "        vertical-align: top;\n",
       "    }\n",
       "\n",
       "    .dataframe thead th {\n",
       "        text-align: right;\n",
       "    }\n",
       "</style>\n",
       "<table border=\"1\" class=\"dataframe\">\n",
       "  <thead>\n",
       "    <tr style=\"text-align: right;\">\n",
       "      <th></th>\n",
       "      <th>id</th>\n",
       "      <th>scaledFeatures</th>\n",
       "      <th>prediction</th>\n",
       "      <th>distance_to_centroid</th>\n",
       "      <th>ISBN</th>\n",
       "      <th>rating</th>\n",
       "    </tr>\n",
       "  </thead>\n",
       "  <tbody>\n",
       "    <tr>\n",
       "      <th>41782</th>\n",
       "      <td>25981</td>\n",
       "      <td>[1.1961587768704838, 2.59358452529814, 1.88408...</td>\n",
       "      <td>1</td>\n",
       "      <td>4.935038</td>\n",
       "      <td>0886777976</td>\n",
       "      <td>5</td>\n",
       "    </tr>\n",
       "    <tr>\n",
       "      <th>78720</th>\n",
       "      <td>94242</td>\n",
       "      <td>[-0.7718479324535227, 1.3311475937691395, 0.39...</td>\n",
       "      <td>1</td>\n",
       "      <td>5.417502</td>\n",
       "      <td>8408028480</td>\n",
       "      <td>6</td>\n",
       "    </tr>\n",
       "    <tr>\n",
       "      <th>23791</th>\n",
       "      <td>185233</td>\n",
       "      <td>[0.4946760649224818, 0.25758265280036047, 0.71...</td>\n",
       "      <td>1</td>\n",
       "      <td>5.592900</td>\n",
       "      <td>0590504932</td>\n",
       "      <td>5</td>\n",
       "    </tr>\n",
       "    <tr>\n",
       "      <th>43216</th>\n",
       "      <td>76151</td>\n",
       "      <td>[0.30112500072780296, 0.6589888866834929, 3.13...</td>\n",
       "      <td>1</td>\n",
       "      <td>5.633385</td>\n",
       "      <td>0345447832</td>\n",
       "      <td>10</td>\n",
       "    </tr>\n",
       "    <tr>\n",
       "      <th>4231</th>\n",
       "      <td>164905</td>\n",
       "      <td>[0.16480316255806918, -0.19232766516250355, -0...</td>\n",
       "      <td>1</td>\n",
       "      <td>5.806712</td>\n",
       "      <td>0373028644</td>\n",
       "      <td>6</td>\n",
       "    </tr>\n",
       "  </tbody>\n",
       "</table>\n",
       "</div>"
      ],
      "text/plain": [
       "           id                                     scaledFeatures  prediction  \\\n",
       "41782   25981  [1.1961587768704838, 2.59358452529814, 1.88408...           1   \n",
       "78720   94242  [-0.7718479324535227, 1.3311475937691395, 0.39...           1   \n",
       "23791  185233  [0.4946760649224818, 0.25758265280036047, 0.71...           1   \n",
       "43216   76151  [0.30112500072780296, 0.6589888866834929, 3.13...           1   \n",
       "4231   164905  [0.16480316255806918, -0.19232766516250355, -0...           1   \n",
       "\n",
       "       distance_to_centroid        ISBN  rating  \n",
       "41782              4.935038  0886777976       5  \n",
       "78720              5.417502  8408028480       6  \n",
       "23791              5.592900  0590504932       5  \n",
       "43216              5.633385  0345447832      10  \n",
       "4231               5.806712  0373028644       6  "
      ]
     },
     "execution_count": 209,
     "metadata": {},
     "output_type": "execute_result"
    }
   ],
   "source": [
    "# Sort and get top 20 users in cluster 1\n",
    "cluster_1 = cluster_1.sort_values(by=\"distance_to_centroid\", ascending=True)\n",
    "top_20_1 = cluster_1['id'].unique()[:20]\n",
    "top_20_c1 = cluster_1[cluster_1['id'].isin(top_20_1)].drop_duplicates(subset='id')\n",
    "top_20_c1.head()"
   ]
  },
  {
   "cell_type": "code",
   "execution_count": 210,
   "id": "696f6360-adf0-4567-a4dc-a8af6232f9f7",
   "metadata": {},
   "outputs": [
    {
     "data": {
      "text/html": [
       "<div>\n",
       "<style scoped>\n",
       "    .dataframe tbody tr th:only-of-type {\n",
       "        vertical-align: middle;\n",
       "    }\n",
       "\n",
       "    .dataframe tbody tr th {\n",
       "        vertical-align: top;\n",
       "    }\n",
       "\n",
       "    .dataframe thead th {\n",
       "        text-align: right;\n",
       "    }\n",
       "</style>\n",
       "<table border=\"1\" class=\"dataframe\">\n",
       "  <thead>\n",
       "    <tr style=\"text-align: right;\">\n",
       "      <th></th>\n",
       "      <th>ISBN</th>\n",
       "      <th>rating</th>\n",
       "    </tr>\n",
       "  </thead>\n",
       "  <tbody>\n",
       "    <tr>\n",
       "      <th>0</th>\n",
       "      <td>0345447832</td>\n",
       "      <td>10.0</td>\n",
       "    </tr>\n",
       "    <tr>\n",
       "      <th>1</th>\n",
       "      <td>0373028644</td>\n",
       "      <td>6.0</td>\n",
       "    </tr>\n",
       "    <tr>\n",
       "      <th>2</th>\n",
       "      <td>0399144463</td>\n",
       "      <td>9.0</td>\n",
       "    </tr>\n",
       "    <tr>\n",
       "      <th>3</th>\n",
       "      <td>0553239082</td>\n",
       "      <td>8.0</td>\n",
       "    </tr>\n",
       "    <tr>\n",
       "      <th>4</th>\n",
       "      <td>0553560719</td>\n",
       "      <td>9.0</td>\n",
       "    </tr>\n",
       "  </tbody>\n",
       "</table>\n",
       "</div>"
      ],
      "text/plain": [
       "         ISBN  rating\n",
       "0  0345447832    10.0\n",
       "1  0373028644     6.0\n",
       "2  0399144463     9.0\n",
       "3  0553239082     8.0\n",
       "4  0553560719     9.0"
      ]
     },
     "execution_count": 210,
     "metadata": {},
     "output_type": "execute_result"
    }
   ],
   "source": [
    "## Calculate avg rating \n",
    "avg_ratings_by_isbn_c1 = top_20_c1.groupby('ISBN')['rating'].mean().reset_index()\n",
    "avg_ratings_by_isbn_c1.head()"
   ]
  },
  {
   "cell_type": "code",
   "execution_count": 211,
   "id": "310ca48c-c6c8-4883-bd77-13c2b166fdb2",
   "metadata": {},
   "outputs": [
    {
     "data": {
      "text/plain": [
       "(15, 2)"
      ]
     },
     "execution_count": 211,
     "metadata": {},
     "output_type": "execute_result"
    }
   ],
   "source": [
    "avg_ratings_by_isbn_c1.shape"
   ]
  },
  {
   "cell_type": "markdown",
   "id": "fae81b24-056c-4451-8875-8968daa16793",
   "metadata": {},
   "source": [
    "## Example recommend for user 4385"
   ]
  },
  {
   "cell_type": "code",
   "execution_count": 212,
   "id": "3c629650-fa50-43e7-809e-dde2506b2c6f",
   "metadata": {},
   "outputs": [
    {
     "data": {
      "text/plain": [
       "True"
      ]
     },
     "execution_count": 212,
     "metadata": {},
     "output_type": "execute_result"
    }
   ],
   "source": [
    "# Check cluster of 4385\n",
    "is_present = cluster_0['id'].isin([4385]).any()\n",
    "is_present"
   ]
  },
  {
   "cell_type": "code",
   "execution_count": 213,
   "id": "55d0e855-a621-4a86-9210-a350a8f099d2",
   "metadata": {},
   "outputs": [
    {
     "data": {
      "text/plain": [
       "False"
      ]
     },
     "execution_count": 213,
     "metadata": {},
     "output_type": "execute_result"
    }
   ],
   "source": [
    "is_present = cluster_1['id'].isin([4385]).any()\n",
    "is_present"
   ]
  },
  {
   "cell_type": "code",
   "execution_count": 214,
   "id": "0ab86a31-aa41-4c9f-9988-e2fdfdace188",
   "metadata": {},
   "outputs": [
    {
     "data": {
      "text/plain": [
       "(213, 4)"
      ]
     },
     "execution_count": 214,
     "metadata": {},
     "output_type": "execute_result"
    }
   ],
   "source": [
    "## Get all book user 4385 has rated\n",
    "books_rated_by_4385 = ratings[ratings['id'] == 4385]\n",
    "books_rated_by_4385.shape"
   ]
  },
  {
   "cell_type": "code",
   "execution_count": 215,
   "id": "94310025-f2d4-4afc-b877-45747f9bed3e",
   "metadata": {
    "scrolled": true
   },
   "outputs": [
    {
     "data": {
      "text/plain": [
       "array(['0061083402', '0061093343', '0061096156', '0312956762',\n",
       "       '0312980353', '0345446100', '0373024665', '0373025920',\n",
       "       '0373032072', '0373035101', '0373051921', '0373072422',\n",
       "       '0373074123', '0373074492', '0373074808', '0373075286',\n",
       "       '0373076223', '0373076371', '0373076592', '0373076746',\n",
       "       '0373076932', '0373077289', '0373078056', '0373088701',\n",
       "       '0373092741', '0373093799', '0373093829', '0373095244',\n",
       "       '0373096585', '0373096828', '0373097840', '0373098006',\n",
       "       '0373098677', '0373098847', '0373098855', '0373098987',\n",
       "       '0373099150', '0373099169', '0373099568', '037310507X',\n",
       "       '0373105401', '037310667X', '0373106734', '0373107072',\n",
       "       '0373109040', '0373111622', '0373114931', '0373115458',\n",
       "       '0373116373', '0373117949', '0373118651', '0373118716',\n",
       "       '0373121369', '0373151896', '0373160011', '0373161387',\n",
       "       '0373162111', '0373162227', '0373164386', '0373165048',\n",
       "       '0373165544', '0373165595', '0373165811', '037316596X',\n",
       "       '0373166931', '0373166958', '0373168527', '0373168705',\n",
       "       '0373168721', '0373168748', '0373168802', '0373168829',\n",
       "       '0373169175', '0373169191', '0373169264', '0373169299',\n",
       "       '0373169302', '0373169329', '0373169361', '0373169469',\n",
       "       '0373169477', '0373169493', '037316954X', '0373169566',\n",
       "       '0373169620', '0373169639', '037316968X', '0373169760',\n",
       "       '0373169868', '0373169884', '037319692X', '0373201427',\n",
       "       '0373201575', '0373222289', '0373222823', '0373223455',\n",
       "       '0373224915', '0373225202', '0373241224', '037324343X',\n",
       "       '0373243685', '0373253184', '0373254547', '0373254571',\n",
       "       '0373255500', '037325668X', '0373288050', '0373288093',\n",
       "       '0373288212', '0373288646', '0373288727', '0373288816',\n",
       "       '037328926X', '0373289421', '0373289871', '037329011X',\n",
       "       '037329056X', '0373291019', '0373291183', '0373291213',\n",
       "       '0373292155', '0373451806', '0373451903', '0373451911',\n",
       "       '0373482949', '0373482957', '0373484070', '0373501749',\n",
       "       '0373501757', '0373650396', '037365054X', '0373704070',\n",
       "       '0373705247', '0373706448', '0373706898', '037370707X',\n",
       "       '0373710291', '0373765053', '0373790538', '0373898347',\n",
       "       '0380815346', '0380818078', '0380897857', '0425105156',\n",
       "       '0440112907', '0440169836', '0440221471', '0441007147',\n",
       "       '0441023142', '0445206608', '0446356859', '0446356875',\n",
       "       '0446360511', '0446360708', '0446360732', '0446364290',\n",
       "       '0446364312', '0446600342', '0446602558', '0446603090',\n",
       "       '0446606448', '0449005844', '0449129047', '0449140180',\n",
       "       '0449232131', '0449236250', '0451180143', '0515058181',\n",
       "       '051506162X', '0553217771', '0553218298', '0553219510',\n",
       "       '0553220284', '0553279335', '0553289993', '0553443119',\n",
       "       '0553444433', '0553445006', '0553567683', '0553576011',\n",
       "       '0671019147', '0671025384', '0671042092', '0671460412',\n",
       "       '0671469134', '0671495429', '0671519077', '0671535706',\n",
       "       '0671775235', '067178577X', '0743436466', '0786000139',\n",
       "       '0786005416', '0821718053', '0821718398', '082173427X',\n",
       "       '0821740296', '0821744798', '0821745085', '0821746219',\n",
       "       '0821749374', '0821758969', '0821760459', '0821767720',\n",
       "       '084394272X', '0843946466', '0886778212', '0931122651',\n",
       "       '1551660016', '155166531X', '1551666014', '1551667436',\n",
       "       '1565970519'], dtype=object)"
      ]
     },
     "execution_count": 215,
     "metadata": {},
     "output_type": "execute_result"
    }
   ],
   "source": [
    "books_rated_by_4385['ISBN'].values"
   ]
  },
  {
   "cell_type": "code",
   "execution_count": 216,
   "id": "cab87c6b-5929-4197-a0bd-c0a34eea0056",
   "metadata": {},
   "outputs": [],
   "source": [
    "recommend = avg_ratings_by_isbn_c1[~avg_ratings_by_isbn_c1[\"ISBN\"].isin(books_rated_by_4385['ISBN'].values)]"
   ]
  },
  {
   "cell_type": "code",
   "execution_count": 217,
   "id": "cd7718e7-c524-4148-8cab-cf8aa3ac6fca",
   "metadata": {},
   "outputs": [
    {
     "data": {
      "text/plain": [
       "(15, 2)"
      ]
     },
     "execution_count": 217,
     "metadata": {},
     "output_type": "execute_result"
    }
   ],
   "source": [
    "recommend.shape"
   ]
  },
  {
   "cell_type": "code",
   "execution_count": 218,
   "id": "8b906db1-5121-4935-8cba-1229930f4be7",
   "metadata": {},
   "outputs": [],
   "source": [
    "def recommend(user_id, cluster_0, cluster_1):\n",
    "    is_present_0 = cluster_0['id'].isin([user_id]).any()\n",
    "    is_present_1 = cluster_1['id'].isin([user_id]).any()\n",
    "    if is_present_0:\n",
    "        ## Get all book user 4385 has rated\n",
    "        books_rated_by_user = ratings[ratings['id'] == user_id]\n",
    "        recommend = avg_ratings_by_isbn_c0[~avg_ratings_by_isbn_c0[\"ISBN\"].isin(books_rated_by_user['ISBN'].values)]\n",
    "        print(\"0\")\n",
    "    if is_present_1:\n",
    "        books_rated_by_user = ratings[ratings['id'] == user_id]\n",
    "        recommend = avg_ratings_by_isbn_c1[~avg_ratings_by_isbn_c1[\"ISBN\"].isin(books_rated_by_user['ISBN'].values)]    \n",
    "        print(\"1\")\n",
    "    return recommend['ISBN'].values"
   ]
  },
  {
   "cell_type": "code",
   "execution_count": 219,
   "id": "2485f59e-5699-46d9-92d6-ad21d7b69853",
   "metadata": {},
   "outputs": [
    {
     "name": "stdout",
     "output_type": "stream",
     "text": [
      "0\n"
     ]
    },
    {
     "data": {
      "text/plain": [
       "array(['0006174760', '0064431037', '0140707247', '0345423291',\n",
       "       '037540421X', '0385314280', '0385335466', '038549744X',\n",
       "       '0439164842', '0440224071', '0441135560', '0486400611',\n",
       "       '0553268929', '0582067227', '0609810022', '0679446486',\n",
       "       '0747504687', '0836210263', '1559583126', '1895897572'],\n",
       "      dtype=object)"
      ]
     },
     "execution_count": 219,
     "metadata": {},
     "output_type": "execute_result"
    }
   ],
   "source": [
    "recommend(56399, cluster_0, cluster_1)"
   ]
  },
  {
   "cell_type": "code",
   "execution_count": 220,
   "id": "ad65ad19-c692-489e-b833-82ad64e89e3b",
   "metadata": {},
   "outputs": [],
   "source": [
    "cluster_0.to_csv('./data/cluster_0.csv')\n",
    "cluster_1.to_csv('./data/cluster_1.csv')"
   ]
  },
  {
   "cell_type": "code",
   "execution_count": 229,
   "id": "b62605ba-8dbb-4349-b668-d68c1b4e560a",
   "metadata": {
    "scrolled": true
   },
   "outputs": [
    {
     "data": {
      "text/html": [
       "<div>\n",
       "<style scoped>\n",
       "    .dataframe tbody tr th:only-of-type {\n",
       "        vertical-align: middle;\n",
       "    }\n",
       "\n",
       "    .dataframe tbody tr th {\n",
       "        vertical-align: top;\n",
       "    }\n",
       "\n",
       "    .dataframe thead th {\n",
       "        text-align: right;\n",
       "    }\n",
       "</style>\n",
       "<table border=\"1\" class=\"dataframe\">\n",
       "  <thead>\n",
       "    <tr style=\"text-align: right;\">\n",
       "      <th></th>\n",
       "      <th>ISBN</th>\n",
       "      <th>rating</th>\n",
       "    </tr>\n",
       "  </thead>\n",
       "  <tbody>\n",
       "    <tr>\n",
       "      <th>14061</th>\n",
       "      <td>0373441320</td>\n",
       "      <td>10.0</td>\n",
       "    </tr>\n",
       "    <tr>\n",
       "      <th>14609</th>\n",
       "      <td>0373711239</td>\n",
       "      <td>10.0</td>\n",
       "    </tr>\n",
       "    <tr>\n",
       "      <th>40732</th>\n",
       "      <td>0753100185</td>\n",
       "      <td>10.0</td>\n",
       "    </tr>\n",
       "  </tbody>\n",
       "</table>\n",
       "</div>"
      ],
      "text/plain": [
       "             ISBN  rating\n",
       "14061  0373441320    10.0\n",
       "14609  0373711239    10.0\n",
       "40732  0753100185    10.0"
      ]
     },
     "execution_count": 229,
     "metadata": {},
     "output_type": "execute_result"
    }
   ],
   "source": [
    "## Calculate avg rating \n",
    "avg_ratings_by_isbn_c0 = cluster_0.groupby('ISBN')['rating'].mean().reset_index()\n",
    "ratings_in_cluster_0 = avg_ratings_by_isbn_c0.sort_values(by='rating', ascending=False)\n",
    "ratings_in_cluster_0.head(3)"
   ]
  },
  {
   "cell_type": "code",
   "execution_count": 230,
   "id": "bc712d6b-4d39-495a-97aa-80a610708613",
   "metadata": {},
   "outputs": [
    {
     "data": {
      "text/html": [
       "<div>\n",
       "<style scoped>\n",
       "    .dataframe tbody tr th:only-of-type {\n",
       "        vertical-align: middle;\n",
       "    }\n",
       "\n",
       "    .dataframe tbody tr th {\n",
       "        vertical-align: top;\n",
       "    }\n",
       "\n",
       "    .dataframe thead th {\n",
       "        text-align: right;\n",
       "    }\n",
       "</style>\n",
       "<table border=\"1\" class=\"dataframe\">\n",
       "  <thead>\n",
       "    <tr style=\"text-align: right;\">\n",
       "      <th></th>\n",
       "      <th>ISBN</th>\n",
       "      <th>rating</th>\n",
       "    </tr>\n",
       "  </thead>\n",
       "  <tbody>\n",
       "    <tr>\n",
       "      <th>715</th>\n",
       "      <td>0373123108</td>\n",
       "      <td>10.0</td>\n",
       "    </tr>\n",
       "    <tr>\n",
       "      <th>1882</th>\n",
       "      <td>0671744623</td>\n",
       "      <td>10.0</td>\n",
       "    </tr>\n",
       "    <tr>\n",
       "      <th>507</th>\n",
       "      <td>0345384385</td>\n",
       "      <td>10.0</td>\n",
       "    </tr>\n",
       "  </tbody>\n",
       "</table>\n",
       "</div>"
      ],
      "text/plain": [
       "            ISBN  rating\n",
       "715   0373123108    10.0\n",
       "1882  0671744623    10.0\n",
       "507   0345384385    10.0"
      ]
     },
     "execution_count": 230,
     "metadata": {},
     "output_type": "execute_result"
    }
   ],
   "source": [
    "## Calculate avg rating \n",
    "avg_ratings_by_isbn_c1 = cluster_1.groupby('ISBN')['rating'].mean().reset_index()\n",
    "ratings_in_cluster_1 = avg_ratings_by_isbn_c1.sort_values(by='rating', ascending=False)\n",
    "ratings_in_cluster_1.head(3)"
   ]
  },
  {
   "cell_type": "code",
   "execution_count": 231,
   "id": "5656befc-7a0a-40cc-bf7d-81581227378c",
   "metadata": {},
   "outputs": [],
   "source": [
    "ratings_in_cluster_0.to_csv('./data/top_ratings_cluster_0.csv')\n",
    "ratings_in_cluster_1.to_csv('./data/top_ratings_cluster_1.csv')\n"
   ]
  },
  {
   "cell_type": "code",
   "execution_count": 232,
   "id": "eede8974-0517-4264-b6b2-ee7e1c7a16d4",
   "metadata": {},
   "outputs": [
    {
     "data": {
      "text/html": [
       "<div>\n",
       "<style scoped>\n",
       "    .dataframe tbody tr th:only-of-type {\n",
       "        vertical-align: middle;\n",
       "    }\n",
       "\n",
       "    .dataframe tbody tr th {\n",
       "        vertical-align: top;\n",
       "    }\n",
       "\n",
       "    .dataframe thead th {\n",
       "        text-align: right;\n",
       "    }\n",
       "</style>\n",
       "<table border=\"1\" class=\"dataframe\">\n",
       "  <thead>\n",
       "    <tr style=\"text-align: right;\">\n",
       "      <th></th>\n",
       "      <th>Unnamed: 0</th>\n",
       "      <th>ISBN</th>\n",
       "      <th>rating</th>\n",
       "    </tr>\n",
       "  </thead>\n",
       "  <tbody>\n",
       "    <tr>\n",
       "      <th>0</th>\n",
       "      <td>14061</td>\n",
       "      <td>0373441320</td>\n",
       "      <td>10.0</td>\n",
       "    </tr>\n",
       "    <tr>\n",
       "      <th>1</th>\n",
       "      <td>14609</td>\n",
       "      <td>0373711239</td>\n",
       "      <td>10.0</td>\n",
       "    </tr>\n",
       "    <tr>\n",
       "      <th>2</th>\n",
       "      <td>40732</td>\n",
       "      <td>0753100185</td>\n",
       "      <td>10.0</td>\n",
       "    </tr>\n",
       "  </tbody>\n",
       "</table>\n",
       "</div>"
      ],
      "text/plain": [
       "   Unnamed: 0        ISBN  rating\n",
       "0       14061  0373441320    10.0\n",
       "1       14609  0373711239    10.0\n",
       "2       40732  0753100185    10.0"
      ]
     },
     "execution_count": 232,
     "metadata": {},
     "output_type": "execute_result"
    }
   ],
   "source": [
    "r0 = pd.read_csv('./data/top_ratings_cluster_0.csv')\n",
    "r0.head(3)"
   ]
  }
 ],
 "metadata": {
  "kernelspec": {
   "display_name": "Python 3 (ipykernel)",
   "language": "python",
   "name": "python3"
  },
  "language_info": {
   "codemirror_mode": {
    "name": "ipython",
    "version": 3
   },
   "file_extension": ".py",
   "mimetype": "text/x-python",
   "name": "python",
   "nbconvert_exporter": "python",
   "pygments_lexer": "ipython3",
   "version": "3.11.6"
  }
 },
 "nbformat": 4,
 "nbformat_minor": 5
}
