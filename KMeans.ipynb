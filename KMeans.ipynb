{
 "cells": [
  {
   "cell_type": "code",
   "execution_count": 10,
   "id": "cb4c7de8-41d5-4c00-89ef-5c2bc6f4eae4",
   "metadata": {},
   "outputs": [],
   "source": [
    "from pyspark.sql import SparkSession\n",
    "from pyspark.ml.recommendation import ALSModel\n",
    "from pyspark.ml.clustering import KMeans\n",
    "from pyspark.ml.evaluation import ClusteringEvaluator\n",
    "from pyspark.ml.feature import StandardScaler \n",
    "from pyspark.ml.feature import VectorAssembler\n",
    "from pyspark.sql.functions import col, udf\n",
    "from pyspark.sql.types import ArrayType, FloatType, DoubleType\n",
    "from pyspark.ml.linalg import Vectors, VectorUDT\n",
    "import seaborn as sns\n",
    "import pandas as pd\n",
    "import matplotlib.pyplot as plt\n",
    "import numpy as np"
   ]
  },
  {
   "cell_type": "markdown",
   "id": "450128ee-9aa2-418b-a272-a3127b283fc8",
   "metadata": {},
   "source": [
    "## Load data"
   ]
  },
  {
   "cell_type": "code",
   "execution_count": 2,
   "id": "ff516638-f615-4291-85cd-4ee4debfcbf9",
   "metadata": {},
   "outputs": [
    {
     "name": "stderr",
     "output_type": "stream",
     "text": [
      "24/01/11 00:15:48 WARN Utils: Your hostname, QuangHieu resolves to a loopback address: 127.0.1.1; using 192.168.1.5 instead (on interface wlp1s0)\n",
      "24/01/11 00:15:48 WARN Utils: Set SPARK_LOCAL_IP if you need to bind to another address\n",
      "Setting default log level to \"WARN\".\n",
      "To adjust logging level use sc.setLogLevel(newLevel). For SparkR, use setLogLevel(newLevel).\n",
      "24/01/11 00:15:49 WARN NativeCodeLoader: Unable to load native-hadoop library for your platform... using builtin-java classes where applicable\n",
      "24/01/11 00:15:51 WARN Utils: Service 'SparkUI' could not bind on port 4040. Attempting port 4041.\n"
     ]
    }
   ],
   "source": [
    "spark = SparkSession.builder.appName(\"Recommendation\").getOrCreate()"
   ]
  },
  {
   "cell_type": "code",
   "execution_count": 3,
   "id": "71d3936c-618a-4962-b0af-977cbc784c36",
   "metadata": {
    "scrolled": true
   },
   "outputs": [
    {
     "name": "stderr",
     "output_type": "stream",
     "text": [
      "                                                                                \r"
     ]
    },
    {
     "name": "stdout",
     "output_type": "stream",
     "text": [
      "+------+--------------------+\n",
      "|    id|            features|\n",
      "+------+--------------------+\n",
      "|  4385|[0.32178158, 0.27...|\n",
      "|  6575|[0.025274688, 0.1...|\n",
      "| 16795|[0.11327801, 0.22...|\n",
      "| 26535|[0.12633806, -0.0...|\n",
      "| 30735|[0.05693576, 0.53...|\n",
      "| 31315|[0.16496085, -0.0...|\n",
      "| 68555|[0.362837, 0.1116...|\n",
      "| 70415|[0.13669929, 0.24...|\n",
      "|114865|[-0.10869225, 0.3...|\n",
      "|120565|[0.13364035, -0.1...|\n",
      "+------+--------------------+\n",
      "only showing top 10 rows\n",
      "\n"
     ]
    }
   ],
   "source": [
    "df = spark.read.parquet(\"./data/user_factor.parquet\")\n",
    "df.show(10)"
   ]
  },
  {
   "cell_type": "code",
   "execution_count": 4,
   "id": "78a72e6c-494c-4f41-9f56-308ae83e6321",
   "metadata": {},
   "outputs": [],
   "source": [
    "to_vector_udf = udf(lambda arr: Vectors.dense(arr), VectorUDT())\n",
    "\n",
    "# Apply the UDF to create a new Vector column\n",
    "df = df.withColumn(\"features_\", to_vector_udf(col(\"features\"))).select(\"id\", \"features_\")"
   ]
  },
  {
   "cell_type": "code",
   "execution_count": 5,
   "id": "08011192-9ca1-4e5f-8d2e-9638821f9a66",
   "metadata": {},
   "outputs": [
    {
     "name": "stderr",
     "output_type": "stream",
     "text": [
      "/usr/lib/python3/dist-packages/scipy/__init__.py:146: UserWarning: A NumPy version >=1.17.3 and <1.25.0 is required for this version of SciPy (detected version 1.26.0\n",
      "  warnings.warn(f\"A NumPy version >={np_minversion} and <{np_maxversion}\"\n"
     ]
    },
    {
     "name": "stdout",
     "output_type": "stream",
     "text": [
      "+------+--------------------+\n",
      "|    id|           features_|\n",
      "+------+--------------------+\n",
      "|  4385|[0.32178157567977...|\n",
      "|  6575|[0.02527468837797...|\n",
      "| 16795|[0.11327800899744...|\n",
      "| 26535|[0.12633806467056...|\n",
      "| 30735|[0.05693576112389...|\n",
      "| 31315|[0.16496084630489...|\n",
      "| 68555|[0.36283698678016...|\n",
      "| 70415|[0.13669928908348...|\n",
      "|114865|[-0.1086922511458...|\n",
      "|120565|[0.13364034891128...|\n",
      "+------+--------------------+\n",
      "only showing top 10 rows\n",
      "\n"
     ]
    },
    {
     "name": "stderr",
     "output_type": "stream",
     "text": [
      "                                                                                \r"
     ]
    }
   ],
   "source": [
    "df.show(10)"
   ]
  },
  {
   "cell_type": "code",
   "execution_count": 6,
   "id": "4925166f-b5a7-4578-a7de-00fcaf9fa859",
   "metadata": {},
   "outputs": [
    {
     "name": "stderr",
     "output_type": "stream",
     "text": [
      "/usr/lib/python3/dist-packages/scipy/__init__.py:146: UserWarning: A NumPy version >=1.17.3 and <1.25.0 is required for this version of SciPy (detected version 1.26.0\n",
      "  warnings.warn(f\"A NumPy version >={np_minversion} and <{np_maxversion}\"\n",
      "/usr/lib/python3/dist-packages/scipy/__init__.py:146: UserWarning: A NumPy version >=1.17.3 and <1.25.0 is required for this version of SciPy (detected version 1.26.0\n",
      "  warnings.warn(f\"A NumPy version >={np_minversion} and <{np_maxversion}\"\n",
      "/usr/lib/python3/dist-packages/scipy/__init__.py:146: UserWarning: A NumPy version >=1.17.3 and <1.25.0 is required for this version of SciPy (detected version 1.26.0\n",
      "  warnings.warn(f\"A NumPy version >={np_minversion} and <{np_maxversion}\"\n",
      "/usr/lib/python3/dist-packages/scipy/__init__.py:146: UserWarning: A NumPy version >=1.17.3 and <1.25.0 is required for this version of SciPy (detected version 1.26.0\n",
      "  warnings.warn(f\"A NumPy version >={np_minversion} and <{np_maxversion}\"\n",
      "                                                                                \r"
     ]
    },
    {
     "name": "stdout",
     "output_type": "stream",
     "text": [
      "+--------------------+\n",
      "|      scaledFeatures|\n",
      "+--------------------+\n",
      "|[1.76758260960306...|\n",
      "|[0.13883672346892...|\n",
      "|[0.62224892252250...|\n",
      "|[0.69398928627543...|\n",
      "|[0.31275457898578...|\n",
      "+--------------------+\n",
      "only showing top 5 rows\n",
      "\n"
     ]
    }
   ],
   "source": [
    "scaler = StandardScaler(inputCol=\"features_\",  \n",
    "                        outputCol=\"scaledFeatures\",  \n",
    "                        withStd=True,  \n",
    "                        withMean=False) \n",
    "  \n",
    "# Compute summary statistics by fitting the StandardScaler \n",
    "scalerModel = scaler.fit(df) \n",
    "  \n",
    "# Normalize each feature to have unit standard deviation. \n",
    "final_data = scalerModel.transform(df) \n",
    "  \n",
    "final_data.select('scaledFeatures').show(5)"
   ]
  },
  {
   "cell_type": "code",
   "execution_count": null,
   "id": "68802669-bd99-462b-a2ab-d77e4328ecd2",
   "metadata": {
    "scrolled": true
   },
   "outputs": [
    {
     "name": "stderr",
     "output_type": "stream",
     "text": [
      "                                                                                \r"
     ]
    },
    {
     "name": "stdout",
     "output_type": "stream",
     "text": [
      "Silhouette Score for k = 2 in iter 10 is 0.048031328609357916\n"
     ]
    },
    {
     "name": "stderr",
     "output_type": "stream",
     "text": [
      "                                                                                \r"
     ]
    },
    {
     "name": "stdout",
     "output_type": "stream",
     "text": [
      "Silhouette Score for k = 3 in iter 10 is 0.026292816631636084\n",
      "Silhouette Score for k = 4 in iter 10 is 0.01465395412403048\n"
     ]
    },
    {
     "name": "stderr",
     "output_type": "stream",
     "text": [
      "                                                                                \r"
     ]
    },
    {
     "name": "stdout",
     "output_type": "stream",
     "text": [
      "Silhouette Score for k = 5 in iter 10 is 0.03143831612973334\n"
     ]
    },
    {
     "name": "stderr",
     "output_type": "stream",
     "text": [
      "                                                                                \r"
     ]
    },
    {
     "name": "stdout",
     "output_type": "stream",
     "text": [
      "Silhouette Score for k = 6 in iter 10 is 0.01902824745828778\n"
     ]
    },
    {
     "name": "stderr",
     "output_type": "stream",
     "text": [
      "                                                                                \r"
     ]
    },
    {
     "name": "stdout",
     "output_type": "stream",
     "text": [
      "Silhouette Score for k = 7 in iter 10 is -0.03970387820046531\n"
     ]
    },
    {
     "name": "stderr",
     "output_type": "stream",
     "text": [
      "                                                                                \r"
     ]
    },
    {
     "name": "stdout",
     "output_type": "stream",
     "text": [
      "Silhouette Score for k = 8 in iter 10 is 0.013199467914581311\n",
      "Silhouette Score for k = 9 in iter 10 is 0.04515952600250357\n"
     ]
    },
    {
     "name": "stderr",
     "output_type": "stream",
     "text": [
      "                                                                                \r"
     ]
    },
    {
     "name": "stdout",
     "output_type": "stream",
     "text": [
      "Silhouette Score for k = 2 in iter 11 is 0.04727083248121616\n"
     ]
    },
    {
     "name": "stderr",
     "output_type": "stream",
     "text": [
      "                                                                                \r"
     ]
    },
    {
     "name": "stdout",
     "output_type": "stream",
     "text": [
      "Silhouette Score for k = 3 in iter 11 is 0.026292816631636084\n",
      "Silhouette Score for k = 4 in iter 11 is 0.01465395412403048\n",
      "Silhouette Score for k = 5 in iter 11 is 0.03143831612973334\n",
      "Silhouette Score for k = 6 in iter 11 is 0.01902824745828778\n",
      "Silhouette Score for k = 7 in iter 11 is -0.039562844799670836\n",
      "Silhouette Score for k = 8 in iter 11 is 0.013199467914581311\n"
     ]
    },
    {
     "name": "stderr",
     "output_type": "stream",
     "text": [
      "                                                                                \r"
     ]
    },
    {
     "name": "stdout",
     "output_type": "stream",
     "text": [
      "Silhouette Score for k = 9 in iter 11 is 0.04515952600250357\n",
      "Silhouette Score for k = 2 in iter 12 is 0.047628016287060676\n",
      "Silhouette Score for k = 3 in iter 12 is 0.026292816631636084\n"
     ]
    },
    {
     "name": "stderr",
     "output_type": "stream",
     "text": [
      "                                                                                \r"
     ]
    },
    {
     "name": "stdout",
     "output_type": "stream",
     "text": [
      "Silhouette Score for k = 4 in iter 12 is 0.01465395412403048\n"
     ]
    },
    {
     "name": "stderr",
     "output_type": "stream",
     "text": [
      "                                                                                \r"
     ]
    },
    {
     "name": "stdout",
     "output_type": "stream",
     "text": [
      "Silhouette Score for k = 5 in iter 12 is 0.03143831612973334\n"
     ]
    },
    {
     "name": "stderr",
     "output_type": "stream",
     "text": [
      "                                                                                \r"
     ]
    },
    {
     "name": "stdout",
     "output_type": "stream",
     "text": [
      "Silhouette Score for k = 6 in iter 12 is 0.01902824745828778\n"
     ]
    },
    {
     "name": "stderr",
     "output_type": "stream",
     "text": [
      "                                                                                \r"
     ]
    },
    {
     "name": "stdout",
     "output_type": "stream",
     "text": [
      "Silhouette Score for k = 7 in iter 12 is -0.039562844799670836\n"
     ]
    },
    {
     "name": "stderr",
     "output_type": "stream",
     "text": [
      "                                                                                \r"
     ]
    },
    {
     "name": "stdout",
     "output_type": "stream",
     "text": [
      "Silhouette Score for k = 8 in iter 12 is 0.013199467914581311\n",
      "Silhouette Score for k = 9 in iter 12 is 0.04515952600250357\n",
      "Silhouette Score for k = 2 in iter 13 is 0.04765949561451126\n",
      "Silhouette Score for k = 3 in iter 13 is 0.026292816631636084\n"
     ]
    },
    {
     "name": "stderr",
     "output_type": "stream",
     "text": [
      "                                                                                \r"
     ]
    },
    {
     "name": "stdout",
     "output_type": "stream",
     "text": [
      "Silhouette Score for k = 4 in iter 13 is 0.01465395412403048\n",
      "Silhouette Score for k = 5 in iter 13 is 0.03143831612973334\n",
      "Silhouette Score for k = 6 in iter 13 is 0.01902824745828778\n"
     ]
    },
    {
     "name": "stderr",
     "output_type": "stream",
     "text": [
      "                                                                                \r"
     ]
    },
    {
     "name": "stdout",
     "output_type": "stream",
     "text": [
      "Silhouette Score for k = 7 in iter 13 is -0.039562844799670836\n"
     ]
    },
    {
     "name": "stderr",
     "output_type": "stream",
     "text": [
      "                                                                                \r"
     ]
    },
    {
     "name": "stdout",
     "output_type": "stream",
     "text": [
      "Silhouette Score for k = 8 in iter 13 is 0.013199467914581311\n",
      "Silhouette Score for k = 9 in iter 13 is 0.04515952600250357\n",
      "Silhouette Score for k = 2 in iter 14 is 0.0474532471198584\n",
      "Silhouette Score for k = 3 in iter 14 is 0.026292816631636084\n",
      "Silhouette Score for k = 4 in iter 14 is 0.01465395412403048\n",
      "Silhouette Score for k = 5 in iter 14 is 0.03143831612973334\n",
      "Silhouette Score for k = 6 in iter 14 is 0.01902824745828778\n"
     ]
    },
    {
     "name": "stderr",
     "output_type": "stream",
     "text": [
      "                                                                                \r"
     ]
    },
    {
     "name": "stdout",
     "output_type": "stream",
     "text": [
      "Silhouette Score for k = 7 in iter 14 is -0.039562844799670836\n"
     ]
    },
    {
     "name": "stderr",
     "output_type": "stream",
     "text": [
      "                                                                                \r"
     ]
    },
    {
     "name": "stdout",
     "output_type": "stream",
     "text": [
      "Silhouette Score for k = 8 in iter 14 is 0.013199467914581311\n",
      "Silhouette Score for k = 9 in iter 14 is 0.04515952600250357\n",
      "Silhouette Score for k = 2 in iter 15 is 0.04767406531790924\n"
     ]
    },
    {
     "name": "stderr",
     "output_type": "stream",
     "text": [
      "                                                                                \r"
     ]
    },
    {
     "name": "stdout",
     "output_type": "stream",
     "text": [
      "Silhouette Score for k = 3 in iter 15 is 0.026292816631636084\n",
      "Silhouette Score for k = 4 in iter 15 is 0.01465395412403048\n",
      "Silhouette Score for k = 5 in iter 15 is 0.03143831612973334\n",
      "Silhouette Score for k = 6 in iter 15 is 0.01902824745828778\n",
      "Silhouette Score for k = 7 in iter 15 is -0.039562844799670836\n",
      "Silhouette Score for k = 8 in iter 15 is 0.013199467914581311\n",
      "Silhouette Score for k = 9 in iter 15 is 0.04515952600250357\n"
     ]
    },
    {
     "name": "stderr",
     "output_type": "stream",
     "text": [
      "                                                                                \r"
     ]
    },
    {
     "name": "stdout",
     "output_type": "stream",
     "text": [
      "Silhouette Score for k = 2 in iter 16 is 0.04789822436411594\n"
     ]
    },
    {
     "name": "stderr",
     "output_type": "stream",
     "text": [
      "                                                                                \r"
     ]
    },
    {
     "name": "stdout",
     "output_type": "stream",
     "text": [
      "Silhouette Score for k = 3 in iter 16 is 0.026292816631636084\n"
     ]
    },
    {
     "name": "stderr",
     "output_type": "stream",
     "text": [
      "                                                                                \r"
     ]
    },
    {
     "name": "stdout",
     "output_type": "stream",
     "text": [
      "Silhouette Score for k = 4 in iter 16 is 0.01465395412403048\n",
      "Silhouette Score for k = 5 in iter 16 is 0.03143831612973334\n"
     ]
    },
    {
     "name": "stderr",
     "output_type": "stream",
     "text": [
      "                                                                                \r"
     ]
    },
    {
     "name": "stdout",
     "output_type": "stream",
     "text": [
      "Silhouette Score for k = 6 in iter 16 is 0.01902824745828778\n",
      "Silhouette Score for k = 7 in iter 16 is -0.039562844799670836\n"
     ]
    },
    {
     "name": "stderr",
     "output_type": "stream",
     "text": [
      "                                                                                \r"
     ]
    },
    {
     "name": "stdout",
     "output_type": "stream",
     "text": [
      "Silhouette Score for k = 8 in iter 16 is 0.013199467914581311\n",
      "Silhouette Score for k = 9 in iter 16 is 0.04515952600250357\n",
      "Silhouette Score for k = 2 in iter 17 is 0.04789746880791782\n",
      "Silhouette Score for k = 3 in iter 17 is 0.026292816631636084\n"
     ]
    },
    {
     "name": "stderr",
     "output_type": "stream",
     "text": [
      "                                                                                \r"
     ]
    },
    {
     "name": "stdout",
     "output_type": "stream",
     "text": [
      "Silhouette Score for k = 4 in iter 17 is 0.01465395412403048\n",
      "Silhouette Score for k = 5 in iter 17 is 0.03143831612973334\n"
     ]
    },
    {
     "name": "stderr",
     "output_type": "stream",
     "text": [
      "                                                                                \r"
     ]
    },
    {
     "name": "stdout",
     "output_type": "stream",
     "text": [
      "Silhouette Score for k = 6 in iter 17 is 0.01902824745828778\n"
     ]
    },
    {
     "name": "stderr",
     "output_type": "stream",
     "text": [
      "                                                                                \r"
     ]
    },
    {
     "name": "stdout",
     "output_type": "stream",
     "text": [
      "Silhouette Score for k = 7 in iter 17 is -0.039562844799670836\n"
     ]
    },
    {
     "name": "stderr",
     "output_type": "stream",
     "text": [
      "                                                                                \r"
     ]
    },
    {
     "name": "stdout",
     "output_type": "stream",
     "text": [
      "Silhouette Score for k = 8 in iter 17 is 0.013199467914581311\n"
     ]
    },
    {
     "name": "stderr",
     "output_type": "stream",
     "text": [
      "                                                                                \r"
     ]
    },
    {
     "name": "stdout",
     "output_type": "stream",
     "text": [
      "Silhouette Score for k = 9 in iter 17 is 0.04515952600250357\n"
     ]
    },
    {
     "name": "stderr",
     "output_type": "stream",
     "text": [
      "                                                                                \r"
     ]
    },
    {
     "name": "stdout",
     "output_type": "stream",
     "text": [
      "Silhouette Score for k = 2 in iter 18 is 0.04836523628752493\n"
     ]
    },
    {
     "name": "stderr",
     "output_type": "stream",
     "text": [
      "                                                                                \r"
     ]
    },
    {
     "name": "stdout",
     "output_type": "stream",
     "text": [
      "Silhouette Score for k = 3 in iter 18 is 0.026292816631636084\n",
      "Silhouette Score for k = 4 in iter 18 is 0.01465395412403048\n",
      "Silhouette Score for k = 5 in iter 18 is 0.03143831612973334\n",
      "Silhouette Score for k = 6 in iter 18 is 0.01902824745828778\n",
      "Silhouette Score for k = 7 in iter 18 is -0.039562844799670836\n",
      "Silhouette Score for k = 8 in iter 18 is 0.013199467914581311\n",
      "Silhouette Score for k = 9 in iter 18 is 0.04515952600250357\n"
     ]
    },
    {
     "name": "stderr",
     "output_type": "stream",
     "text": [
      "                                                                                \r"
     ]
    },
    {
     "name": "stdout",
     "output_type": "stream",
     "text": [
      "Silhouette Score for k = 2 in iter 19 is 0.04829444186942481\n",
      "Silhouette Score for k = 3 in iter 19 is 0.026292816631636084\n",
      "Silhouette Score for k = 4 in iter 19 is 0.01465395412403048\n",
      "Silhouette Score for k = 5 in iter 19 is 0.03143831612973334\n"
     ]
    },
    {
     "name": "stderr",
     "output_type": "stream",
     "text": [
      "                                                                                \r"
     ]
    },
    {
     "name": "stdout",
     "output_type": "stream",
     "text": [
      "Silhouette Score for k = 6 in iter 19 is 0.01902824745828778\n"
     ]
    },
    {
     "name": "stderr",
     "output_type": "stream",
     "text": [
      "                                                                                \r"
     ]
    },
    {
     "name": "stdout",
     "output_type": "stream",
     "text": [
      "Silhouette Score for k = 7 in iter 19 is -0.039562844799670836\n"
     ]
    },
    {
     "name": "stderr",
     "output_type": "stream",
     "text": [
      "                                                                                \r"
     ]
    },
    {
     "name": "stdout",
     "output_type": "stream",
     "text": [
      "Silhouette Score for k = 8 in iter 19 is 0.013199467914581311\n"
     ]
    },
    {
     "name": "stderr",
     "output_type": "stream",
     "text": [
      "                                                                                \r"
     ]
    },
    {
     "name": "stdout",
     "output_type": "stream",
     "text": [
      "Silhouette Score for k = 9 in iter 19 is 0.04515952600250357\n",
      "Silhouette Score for k = 2 in iter 20 is 0.04829444186942481\n",
      "Silhouette Score for k = 3 in iter 20 is 0.026292816631636084\n",
      "Silhouette Score for k = 4 in iter 20 is 0.01465395412403048\n"
     ]
    },
    {
     "name": "stderr",
     "output_type": "stream",
     "text": [
      "                                                                                \r"
     ]
    },
    {
     "name": "stdout",
     "output_type": "stream",
     "text": [
      "Silhouette Score for k = 5 in iter 20 is 0.03143831612973334\n",
      "Silhouette Score for k = 6 in iter 20 is 0.01902824745828778\n",
      "Silhouette Score for k = 7 in iter 20 is -0.039562844799670836\n"
     ]
    },
    {
     "name": "stderr",
     "output_type": "stream",
     "text": [
      "                                                                                \r"
     ]
    },
    {
     "name": "stdout",
     "output_type": "stream",
     "text": [
      "Silhouette Score for k = 8 in iter 20 is 0.013199467914581311\n"
     ]
    },
    {
     "name": "stderr",
     "output_type": "stream",
     "text": [
      "                                                                                \r"
     ]
    },
    {
     "name": "stdout",
     "output_type": "stream",
     "text": [
      "Silhouette Score for k = 9 in iter 20 is 0.04515952600250357\n"
     ]
    },
    {
     "name": "stderr",
     "output_type": "stream",
     "text": [
      "                                                                                \r"
     ]
    },
    {
     "name": "stdout",
     "output_type": "stream",
     "text": [
      "Silhouette Score for k = 2 in iter 21 is 0.04829444186942481\n"
     ]
    },
    {
     "name": "stderr",
     "output_type": "stream",
     "text": [
      "                                                                                \r"
     ]
    },
    {
     "name": "stdout",
     "output_type": "stream",
     "text": [
      "Silhouette Score for k = 3 in iter 21 is 0.026292816631636084\n"
     ]
    },
    {
     "name": "stderr",
     "output_type": "stream",
     "text": [
      "                                                                                \r"
     ]
    },
    {
     "name": "stdout",
     "output_type": "stream",
     "text": [
      "Silhouette Score for k = 4 in iter 21 is 0.01465395412403048\n",
      "Silhouette Score for k = 5 in iter 21 is 0.03143831612973334\n"
     ]
    },
    {
     "name": "stderr",
     "output_type": "stream",
     "text": [
      "                                                                                \r"
     ]
    },
    {
     "name": "stdout",
     "output_type": "stream",
     "text": [
      "Silhouette Score for k = 6 in iter 21 is 0.01902824745828778\n"
     ]
    },
    {
     "name": "stderr",
     "output_type": "stream",
     "text": [
      "                                                                                \r"
     ]
    },
    {
     "name": "stdout",
     "output_type": "stream",
     "text": [
      "Silhouette Score for k = 7 in iter 21 is -0.039562844799670836\n"
     ]
    },
    {
     "name": "stderr",
     "output_type": "stream",
     "text": [
      "                                                                                \r"
     ]
    },
    {
     "name": "stdout",
     "output_type": "stream",
     "text": [
      "Silhouette Score for k = 8 in iter 21 is 0.013199467914581311\n"
     ]
    },
    {
     "name": "stderr",
     "output_type": "stream",
     "text": [
      "                                                                                \r"
     ]
    },
    {
     "name": "stdout",
     "output_type": "stream",
     "text": [
      "Silhouette Score for k = 9 in iter 21 is 0.04515952600250357\n"
     ]
    },
    {
     "name": "stderr",
     "output_type": "stream",
     "text": [
      "                                                                                \r"
     ]
    },
    {
     "name": "stdout",
     "output_type": "stream",
     "text": [
      "Silhouette Score for k = 2 in iter 22 is 0.04829444186942481\n"
     ]
    },
    {
     "name": "stderr",
     "output_type": "stream",
     "text": [
      "                                                                                \r"
     ]
    },
    {
     "name": "stdout",
     "output_type": "stream",
     "text": [
      "Silhouette Score for k = 3 in iter 22 is 0.026292816631636084\n"
     ]
    },
    {
     "name": "stderr",
     "output_type": "stream",
     "text": [
      "                                                                                \r"
     ]
    },
    {
     "name": "stdout",
     "output_type": "stream",
     "text": [
      "Silhouette Score for k = 4 in iter 22 is 0.01465395412403048\n",
      "Silhouette Score for k = 5 in iter 22 is 0.03143831612973334\n",
      "Silhouette Score for k = 6 in iter 22 is 0.01902824745828778\n",
      "Silhouette Score for k = 7 in iter 22 is -0.039562844799670836\n",
      "Silhouette Score for k = 8 in iter 22 is 0.013199467914581311\n",
      "Silhouette Score for k = 9 in iter 22 is 0.04515952600250357\n",
      "Silhouette Score for k = 2 in iter 23 is 0.04829444186942481\n",
      "Silhouette Score for k = 3 in iter 23 is 0.026292816631636084\n",
      "Silhouette Score for k = 4 in iter 23 is 0.01465395412403048\n",
      "Silhouette Score for k = 5 in iter 23 is 0.03143831612973334\n",
      "Silhouette Score for k = 6 in iter 23 is 0.01902824745828778\n"
     ]
    },
    {
     "name": "stderr",
     "output_type": "stream",
     "text": [
      "                                                                                \r"
     ]
    },
    {
     "name": "stdout",
     "output_type": "stream",
     "text": [
      "Silhouette Score for k = 7 in iter 23 is -0.039562844799670836\n",
      "Silhouette Score for k = 8 in iter 23 is 0.013199467914581311\n",
      "Silhouette Score for k = 9 in iter 23 is 0.04515952600250357\n",
      "Silhouette Score for k = 2 in iter 24 is 0.04829444186942481\n"
     ]
    },
    {
     "name": "stderr",
     "output_type": "stream",
     "text": [
      "                                                                                \r"
     ]
    },
    {
     "name": "stdout",
     "output_type": "stream",
     "text": [
      "Silhouette Score for k = 3 in iter 24 is 0.026292816631636084\n"
     ]
    },
    {
     "name": "stderr",
     "output_type": "stream",
     "text": [
      "                                                                                \r"
     ]
    },
    {
     "name": "stdout",
     "output_type": "stream",
     "text": [
      "Silhouette Score for k = 4 in iter 24 is 0.01465395412403048\n",
      "Silhouette Score for k = 5 in iter 24 is 0.03143831612973334\n",
      "Silhouette Score for k = 6 in iter 24 is 0.01902824745828778\n"
     ]
    },
    {
     "name": "stderr",
     "output_type": "stream",
     "text": [
      "                                                                                \r"
     ]
    },
    {
     "name": "stdout",
     "output_type": "stream",
     "text": [
      "Silhouette Score for k = 7 in iter 24 is -0.039562844799670836\n",
      "Silhouette Score for k = 8 in iter 24 is 0.013199467914581311\n"
     ]
    },
    {
     "name": "stderr",
     "output_type": "stream",
     "text": [
      "                                                                                \r"
     ]
    },
    {
     "name": "stdout",
     "output_type": "stream",
     "text": [
      "Silhouette Score for k = 9 in iter 24 is 0.04515952600250357\n",
      "Silhouette Score for k = 2 in iter 25 is 0.04829444186942481\n",
      "Silhouette Score for k = 3 in iter 25 is 0.026292816631636084\n",
      "Silhouette Score for k = 4 in iter 25 is 0.01465395412403048\n",
      "Silhouette Score for k = 5 in iter 25 is 0.03143831612973334\n",
      "Silhouette Score for k = 6 in iter 25 is 0.01902824745828778\n",
      "Silhouette Score for k = 7 in iter 25 is -0.039562844799670836\n",
      "Silhouette Score for k = 8 in iter 25 is 0.013199467914581311\n",
      "Silhouette Score for k = 9 in iter 25 is 0.04515952600250357\n"
     ]
    },
    {
     "name": "stderr",
     "output_type": "stream",
     "text": [
      "                                                                                \r"
     ]
    },
    {
     "name": "stdout",
     "output_type": "stream",
     "text": [
      "Silhouette Score for k = 2 in iter 26 is 0.04829444186942481\n",
      "Silhouette Score for k = 3 in iter 26 is 0.026292816631636084\n"
     ]
    },
    {
     "name": "stderr",
     "output_type": "stream",
     "text": [
      "                                                                                \r"
     ]
    },
    {
     "name": "stdout",
     "output_type": "stream",
     "text": [
      "Silhouette Score for k = 4 in iter 26 is 0.01465395412403048\n"
     ]
    },
    {
     "name": "stderr",
     "output_type": "stream",
     "text": [
      "                                                                                \r"
     ]
    },
    {
     "name": "stdout",
     "output_type": "stream",
     "text": [
      "Silhouette Score for k = 5 in iter 26 is 0.03143831612973334\n"
     ]
    },
    {
     "name": "stderr",
     "output_type": "stream",
     "text": [
      "                                                                                \r"
     ]
    },
    {
     "name": "stdout",
     "output_type": "stream",
     "text": [
      "Silhouette Score for k = 6 in iter 26 is 0.01902824745828778\n"
     ]
    },
    {
     "name": "stderr",
     "output_type": "stream",
     "text": [
      "                                                                                \r"
     ]
    },
    {
     "name": "stdout",
     "output_type": "stream",
     "text": [
      "Silhouette Score for k = 7 in iter 26 is -0.039562844799670836\n",
      "Silhouette Score for k = 8 in iter 26 is 0.013199467914581311\n",
      "Silhouette Score for k = 9 in iter 26 is 0.04515952600250357\n",
      "Silhouette Score for k = 2 in iter 27 is 0.04829444186942481\n",
      "Silhouette Score for k = 3 in iter 27 is 0.026292816631636084\n",
      "Silhouette Score for k = 4 in iter 27 is 0.01465395412403048\n",
      "Silhouette Score for k = 5 in iter 27 is 0.03143831612973334\n",
      "Silhouette Score for k = 6 in iter 27 is 0.01902824745828778\n"
     ]
    },
    {
     "name": "stderr",
     "output_type": "stream",
     "text": [
      "                                                                                \r"
     ]
    },
    {
     "name": "stdout",
     "output_type": "stream",
     "text": [
      "Silhouette Score for k = 7 in iter 27 is -0.039562844799670836\n",
      "Silhouette Score for k = 8 in iter 27 is 0.013199467914581311\n",
      "Silhouette Score for k = 9 in iter 27 is 0.04515952600250357\n"
     ]
    },
    {
     "name": "stderr",
     "output_type": "stream",
     "text": [
      "                                                                                \r"
     ]
    },
    {
     "name": "stdout",
     "output_type": "stream",
     "text": [
      "Silhouette Score for k = 2 in iter 28 is 0.04829444186942481\n",
      "Silhouette Score for k = 3 in iter 28 is 0.026292816631636084\n"
     ]
    },
    {
     "name": "stderr",
     "output_type": "stream",
     "text": [
      "                                                                                \r"
     ]
    },
    {
     "name": "stdout",
     "output_type": "stream",
     "text": [
      "Silhouette Score for k = 4 in iter 28 is 0.01465395412403048\n",
      "Silhouette Score for k = 5 in iter 28 is 0.03143831612973334\n",
      "Silhouette Score for k = 6 in iter 28 is 0.01902824745828778\n",
      "Silhouette Score for k = 7 in iter 28 is -0.039562844799670836\n",
      "Silhouette Score for k = 8 in iter 28 is 0.013199467914581311\n",
      "Silhouette Score for k = 9 in iter 28 is 0.04515952600250357\n",
      "Silhouette Score for k = 2 in iter 29 is 0.04829444186942481\n",
      "Silhouette Score for k = 3 in iter 29 is 0.026292816631636084\n"
     ]
    },
    {
     "name": "stderr",
     "output_type": "stream",
     "text": [
      "                                                                                \r"
     ]
    },
    {
     "name": "stdout",
     "output_type": "stream",
     "text": [
      "Silhouette Score for k = 4 in iter 29 is 0.01465395412403048\n"
     ]
    },
    {
     "name": "stderr",
     "output_type": "stream",
     "text": [
      "                                                                                \r"
     ]
    },
    {
     "name": "stdout",
     "output_type": "stream",
     "text": [
      "Silhouette Score for k = 5 in iter 29 is 0.03143831612973334\n"
     ]
    },
    {
     "name": "stderr",
     "output_type": "stream",
     "text": [
      "                                                                                \r"
     ]
    },
    {
     "name": "stdout",
     "output_type": "stream",
     "text": [
      "Silhouette Score for k = 6 in iter 29 is 0.01902824745828778\n",
      "Silhouette Score for k = 7 in iter 29 is -0.039562844799670836\n",
      "Silhouette Score for k = 8 in iter 29 is 0.013199467914581311\n"
     ]
    },
    {
     "name": "stderr",
     "output_type": "stream",
     "text": [
      "                                                                                \r"
     ]
    },
    {
     "name": "stdout",
     "output_type": "stream",
     "text": [
      "Silhouette Score for k = 9 in iter 29 is 0.04515952600250357\n"
     ]
    }
   ],
   "source": [
    "silhouette_score=[] \n",
    "  \n",
    "evaluator = ClusteringEvaluator(predictionCol='prediction', \n",
    "                                featuresCol='scaledFeatures', \n",
    "                                metricName='silhouette',  \n",
    "                                distanceMeasure='squaredEuclidean') \n",
    "for i in range(10, 30):  \n",
    "    for j in range(2,10): \n",
    "        kmeans=KMeans(featuresCol='scaledFeatures', k=j, maxIter=i) \n",
    "        model=kmeans.fit(final_data) \n",
    "        predictions=model.transform(final_data) \n",
    "        score=evaluator.evaluate(predictions) \n",
    "        silhouette_score.append(round(score, 4)) \n",
    "        print('Silhouette Score for k = {} in iter {} is {}'.format(j, i, score))"
   ]
  },
  {
   "cell_type": "code",
   "execution_count": null,
   "id": "abd39bd4-baa2-4917-a220-687656b6a450",
   "metadata": {},
   "outputs": [
    {
     "data": {
      "image/png": "[encoded data removed]",
      "text/plain": [
       "<Figure size 2000x2000 with 2 Axes>"
      ]
     },
     "metadata": {},
     "output_type": "display_data"
    }
   ],
   "source": [
    "k_values = range(2, 10)\n",
    "iterations = range(10, 30)  \n",
    "silhouette_scores = silhouette_score\n",
    "\n",
    "# Convert silhouette scores to a DataFrame\n",
    "scores = np.reshape(silhouette_scores, (len(iterations),len(k_values))) \n",
    "df = pd.DataFrame(np.array(scores).T, columns=[f'iter_{i}' for i in iterations], index=k_values)\n",
    "plt.figure(figsize=(20, 20))\n",
    "# Create a heatmap\n",
    "sns.heatmap(df, annot=True, cmap='viridis', fmt='.3f', cbar_kws={'label': 'Silhouette Score'})\n",
    "plt.xlabel('Number of Iterations')\n",
    "plt.ylabel('Number of Clusters (k)')\n",
    "plt.title('Silhouette Score Heatmap')\n",
    "plt.show()"
   ]
  },
  {
   "cell_type": "code",
   "execution_count": null,
   "id": "aba9b4a5-6a76-485b-8d08-1d39a7963770",
   "metadata": {},
   "outputs": [
    {
     "data": {
      "text/plain": [
       "0.1433"
      ]
     },
     "execution_count": 41,
     "metadata": {},
     "output_type": "execute_result"
    }
   ],
   "source": [
    "max(silhouette_score)"
   ]
  },
  {
   "cell_type": "code",
   "execution_count": 7,
   "id": "6d14d2f2-0c5a-496b-8d96-a9215f220e4f",
   "metadata": {},
   "outputs": [
    {
     "name": "stderr",
     "output_type": "stream",
     "text": [
      "/usr/lib/python3/dist-packages/scipy/__init__.py:146: UserWarning: A NumPy version >=1.17.3 and <1.25.0 is required for this version of SciPy (detected version 1.26.0\n",
      "  warnings.warn(f\"A NumPy version >={np_minversion} and <{np_maxversion}\"\n",
      "/usr/lib/python3/dist-packages/scipy/__init__.py:146: UserWarning: A NumPy version >=1.17.3 and <1.25.0 is required for this version of SciPy (detected version 1.26.0\n",
      "  warnings.warn(f\"A NumPy version >={np_minversion} and <{np_maxversion}\"\n",
      "/usr/lib/python3/dist-packages/scipy/__init__.py:146: UserWarning: A NumPy version >=1.17.3 and <1.25.0 is required for this version of SciPy (detected version 1.26.0\n",
      "  warnings.warn(f\"A NumPy version >={np_minversion} and <{np_maxversion}\"\n",
      "/usr/lib/python3/dist-packages/scipy/__init__.py:146: UserWarning: A NumPy version >=1.17.3 and <1.25.0 is required for this version of SciPy (detected version 1.26.0\n",
      "  warnings.warn(f\"A NumPy version >={np_minversion} and <{np_maxversion}\"\n",
      "/usr/lib/python3/dist-packages/scipy/__init__.py:146: UserWarning: A NumPy version >=1.17.3 and <1.25.0 is required for this version of SciPy (detected version 1.26.0\n",
      "  warnings.warn(f\"A NumPy version >={np_minversion} and <{np_maxversion}\"\n",
      "                                                                                \r"
     ]
    }
   ],
   "source": [
    "#--> 10 iters, 2 clusters\n",
    "silhouette_score=[] \n",
    "  \n",
    "evaluator = ClusteringEvaluator(predictionCol='prediction', \n",
    "                                featuresCol='scaledFeatures', \n",
    "                                metricName='silhouette',  \n",
    "                                distanceMeasure='squaredEuclidean') \n",
    "for i in range(2, 60):  \n",
    "    kmeans=KMeans(featuresCol='scaledFeatures', k=i, maxIter=10) \n",
    "    model=kmeans.fit(final_data) \n",
    "    predictions=model.transform(final_data) \n",
    "    score=evaluator.evaluate(predictions) \n",
    "    silhouette_score.append(score) \n",
    "    #print('Silhouette Score for k = {} is {}'.format( i, score))"
   ]
  },
  {
   "cell_type": "code",
   "execution_count": 9,
   "id": "16a34fad-4121-4fae-bf7f-9f0c4efc03e8",
   "metadata": {},
   "outputs": [
    {
     "data": {
      "image/png": "[encoded data removed]",
      "text/plain": [
       "<Figure size 432x288 with 1 Axes>"
      ]
     },
     "metadata": {
      "needs_background": "light"
     },
     "output_type": "display_data"
    }
   ],
   "source": [
    "#Visualizing the silhouette scores in a plot \n",
    "import matplotlib.pyplot as plt \n",
    "\n",
    "plt.plot(range(2, 60),silhouette_score) \n",
    "plt.xlabel('Iters') \n",
    "plt.ylabel('silhouette score') \n",
    "plt.title('Silhouette Score') \n",
    "plt.show()\n",
    "# 1 iter, 2 clusters"
   ]
  },
  {
   "cell_type": "code",
   "execution_count": null,
   "id": "d715dd05-01f1-484a-b109-512fde961567",
   "metadata": {},
   "outputs": [],
   "source": [
    "# training cost: Sum of square distance to nearest centroid"
   ]
  },
  {
   "cell_type": "code",
   "execution_count": 14,
   "id": "2e650e6f-0220-4c0e-9fd3-f102be03e2dd",
   "metadata": {},
   "outputs": [
    {
     "name": "stderr",
     "output_type": "stream",
     "text": [
      "/usr/lib/python3/dist-packages/scipy/__init__.py:146: UserWarning: A NumPy version >=1.17.3 and <1.25.0 is required for this version of SciPy (detected version 1.26.0\n",
      "  warnings.warn(f\"A NumPy version >={np_minversion} and <{np_maxversion}\"\n",
      "/usr/lib/python3/dist-packages/scipy/__init__.py:146: UserWarning: A NumPy version >=1.17.3 and <1.25.0 is required for this version of SciPy (detected version 1.26.0\n",
      "  warnings.warn(f\"A NumPy version >={np_minversion} and <{np_maxversion}\"\n",
      "/usr/lib/python3/dist-packages/scipy/__init__.py:146: UserWarning: A NumPy version >=1.17.3 and <1.25.0 is required for this version of SciPy (detected version 1.26.0\n",
      "  warnings.warn(f\"A NumPy version >={np_minversion} and <{np_maxversion}\"\n",
      "/usr/lib/python3/dist-packages/scipy/__init__.py:146: UserWarning: A NumPy version >=1.17.3 and <1.25.0 is required for this version of SciPy (detected version 1.26.0\n",
      "  warnings.warn(f\"A NumPy version >={np_minversion} and <{np_maxversion}\"\n",
      "/usr/lib/python3/dist-packages/scipy/__init__.py:146: UserWarning: A NumPy version >=1.17.3 and <1.25.0 is required for this version of SciPy (detected version 1.26.0\n",
      "  warnings.warn(f\"A NumPy version >={np_minversion} and <{np_maxversion}\"\n",
      "/usr/lib/python3/dist-packages/scipy/__init__.py:146: UserWarning: A NumPy version >=1.17.3 and <1.25.0 is required for this version of SciPy (detected version 1.26.0\n",
      "  warnings.warn(f\"A NumPy version >={np_minversion} and <{np_maxversion}\"\n",
      "/usr/lib/python3/dist-packages/scipy/__init__.py:146: UserWarning: A NumPy version >=1.17.3 and <1.25.0 is required for this version of SciPy (detected version 1.26.0\n",
      "  warnings.warn(f\"A NumPy version >={np_minversion} and <{np_maxversion}\"\n",
      "/usr/lib/python3/dist-packages/scipy/__init__.py:146: UserWarning: A NumPy version >=1.17.3 and <1.25.0 is required for this version of SciPy (detected version 1.26.0\n",
      "  warnings.warn(f\"A NumPy version >={np_minversion} and <{np_maxversion}\"\n",
      "                                                                                \r"
     ]
    },
    {
     "data": {
      "image/png": "[encoded data removed]",
      "text/plain": [
       "<Figure size 432x288 with 1 Axes>"
      ]
     },
     "metadata": {
      "needs_background": "light"
     },
     "output_type": "display_data"
    }
   ],
   "source": [
    "cluster = 60\n",
    "cost = np.zeros(cluster)\n",
    "\n",
    "for k in range(2,cluster):\n",
    "    kmeans = KMeans().setK(k).setSeed(1).setFeaturesCol('scaledFeatures')\n",
    "    model = kmeans.fit(final_data)\n",
    "    cost[k] = model.summary.trainingCost\n",
    "    #K-means cost (sum of squared distances to the nearest centroid for all points in the training dataset).\n",
    "    # This is equivalent to sklearn’s inertia.\n",
    "\n",
    "# Plot the cost\n",
    "df_cost = pd.DataFrame(cost[2:])\n",
    "df_cost.columns = [\"cost\"]\n",
    "new_col = [i for i in range(2,cluster)]\n",
    "df_cost.insert(0, 'cluster', new_col)\n",
    "\n",
    "import pylab as pl\n",
    "pl.plot(df_cost.cluster, df_cost.cost)\n",
    "pl.xlabel('Number of Clusters')\n",
    "pl.ylabel('Score')\n",
    "pl.title('Elbow Curve')\n",
    "pl.show()"
   ]
  },
  {
   "cell_type": "code",
   "execution_count": null,
   "id": "7dffcac3-58ae-4af5-8a65-b2890bded3cc",
   "metadata": {
    "scrolled": true
   },
   "outputs": [
    {
     "name": "stderr",
     "output_type": "stream",
     "text": [
      "                                                                                \r"
     ]
    },
    {
     "name": "stdout",
     "output_type": "stream",
     "text": [
      "Silhouette with squared euclidean distance = 0.048031328609357916\n",
      "Cluster Centers: \n",
      "[ 0.46971899  0.86456763  0.91334973  1.18618401 -1.22474417  0.47005216\n",
      " -0.20329449  0.23113486 -0.63982002 -0.91682804 -0.43617785 -0.2286997\n",
      "  0.47512157  0.55371068  0.21001932  0.47008855 -0.1523846  -0.35840311\n",
      "  0.40377379 -0.47729184  0.08067265 -0.84788004  0.42979447 -1.07668807\n",
      " -0.45205462 -0.49119679  0.00473227 -0.17480191  1.22822386 -0.36879764\n",
      " -0.5242614  -0.05812981  0.20910693  0.79414401  0.2140571 ]\n",
      "[ 0.54107104  0.83939588  0.81429479  1.13336    -0.68522992  0.5596427\n",
      "  0.18777212 -0.01445317 -0.64446381 -0.57035303 -0.85268803  0.19444986\n",
      "  0.50096596  0.64023101 -0.48197374  0.85292469 -0.06103338  0.00273672\n",
      "  0.69375138 -0.12466753 -0.51340715 -0.36007879  0.22890115 -0.86660005\n",
      " -0.33686401 -0.71862414 -0.80807413 -0.29698267  1.92345425 -0.18043347\n",
      " -0.7674262   0.0375475  -0.17312087  0.57073113 -0.14165964]\n"
     ]
    }
   ],
   "source": [
    "# Trains a k-means model.\n",
    "kmeans = KMeans().setK(2).setFeaturesCol(\"scaledFeatures\").setPredictionCol(\"prediction\").setMaxIter(10)\n",
    "model = kmeans.fit(final_data)\n",
    "\n",
    "# Make predictions\n",
    "predictions = model.transform(final_data)\n",
    "\n",
    "# Evaluate clustering by computing Silhouette score\n",
    "evaluator = ClusteringEvaluator(predictionCol='prediction', \n",
    "                                featuresCol='scaledFeatures', \n",
    "                                metricName='silhouette',  \n",
    "                                distanceMeasure='squaredEuclidean')\n",
    "\n",
    "silhouette = evaluator.evaluate(predictions)\n",
    "print(\"Silhouette with squared euclidean distance = \" + str(silhouette))\n",
    "\n",
    "# Shows the result.\n",
    "centers = model.clusterCenters()\n",
    "print(\"Cluster Centers: \")\n",
    "for center in centers:\n",
    "    print(center)"
   ]
  },
  {
   "cell_type": "code",
   "execution_count": null,
   "id": "1dd10414-bb13-493a-9b99-a9cf52cab22a",
   "metadata": {},
   "outputs": [],
   "source": [
    "model.save('./model/kmeans_1')"
   ]
  },
  {
   "cell_type": "code",
   "execution_count": null,
   "id": "175f6e5f-e328-4710-9f3e-506c34da3cea",
   "metadata": {},
   "outputs": [
    {
     "name": "stdout",
     "output_type": "stream",
     "text": [
      "+------+--------------------+--------------------+----------+\n",
      "|    id|           features_|      scaledFeatures|prediction|\n",
      "+------+--------------------+--------------------+----------+\n",
      "|  4385|[0.32178157567977...|[1.76758260960306...|         0|\n",
      "|  6575|[0.02527468837797...|[0.13883672346892...|         0|\n",
      "| 16795|[0.11327800899744...|[0.62224892252250...|         0|\n",
      "| 26535|[0.12633806467056...|[0.69398928627543...|         0|\n",
      "| 30735|[0.05693576112389...|[0.31275457898578...|         0|\n",
      "| 31315|[0.16496084630489...|[0.90614859653773...|         0|\n",
      "| 68555|[0.36283698678016...|[1.99310462881079...|         1|\n",
      "| 70415|[0.13669928908348...|[0.75090466450297...|         0|\n",
      "|114865|[-0.1086922511458...|[-0.5970588356966...|         1|\n",
      "|120565|[0.13364034891128...|[0.73410155997231...|         1|\n",
      "|128835|[0.31945481896400...|[1.75480147165602...|         0|\n",
      "|135265|[0.39165353775024...|[2.15139720431281...|         0|\n",
      "|143175|[0.22253327071666...|[1.22240043901180...|         1|\n",
      "|158295|[0.50674462318420...|[2.78360556087781...|         0|\n",
      "|164905|[0.03000177815556...|[0.16480316255806...|         1|\n",
      "|168245|[0.36161869764328...|[1.98641242871425...|         0|\n",
      "|173415|[-0.1345673799514...|[-0.7391938463834...|         0|\n",
      "|182085|[0.15315704047679...|[0.84130895534698...|         1|\n",
      "|183995|[0.24974811077117...|[1.37189463519709...|         0|\n",
      "|187145|[0.13378253579139...|[0.73488260859533...|         0|\n",
      "+------+--------------------+--------------------+----------+\n",
      "only showing top 20 rows\n",
      "\n"
     ]
    }
   ],
   "source": [
    "predictions.show()"
   ]
  },
  {
   "cell_type": "code",
   "execution_count": null,
   "id": "b8d56477-6b0d-452a-a889-62e73a8f7bf4",
   "metadata": {},
   "outputs": [],
   "source": [
    "def compute_distance(row):\n",
    "    cluster_id = row['prediction']\n",
    "    user_feature = row['scaledFeatures']\n",
    "    if cluster_id == 0:\n",
    "        euclidean_distance = np.linalg.norm(user_feature - centers[0])\n",
    "    if cluster_id == 1:\n",
    "        euclidean_distance = np.linalg.norm(user_feature - centers[1])\n",
    "    return euclidean_distance"
   ]
  },
  {
   "cell_type": "code",
   "execution_count": null,
   "id": "7d3f4d8b-8f0a-4d37-9412-6d1ab5dc2925",
   "metadata": {
    "scrolled": true
   },
   "outputs": [
    {
     "data": {
      "text/html": [
       "<div>\n",
       "<style scoped>\n",
       "    .dataframe tbody tr th:only-of-type {\n",
       "        vertical-align: middle;\n",
       "    }\n",
       "\n",
       "    .dataframe tbody tr th {\n",
       "        vertical-align: top;\n",
       "    }\n",
       "\n",
       "    .dataframe thead th {\n",
       "        text-align: right;\n",
       "    }\n",
       "</style>\n",
       "<table border=\"1\" class=\"dataframe\">\n",
       "  <thead>\n",
       "    <tr style=\"text-align: right;\">\n",
       "      <th></th>\n",
       "      <th>id</th>\n",
       "      <th>features_</th>\n",
       "      <th>scaledFeatures</th>\n",
       "      <th>prediction</th>\n",
       "    </tr>\n",
       "  </thead>\n",
       "  <tbody>\n",
       "    <tr>\n",
       "      <th>0</th>\n",
       "      <td>4385</td>\n",
       "      <td>[0.32178157567977905, 0.27567291259765625, 0.0...</td>\n",
       "      <td>[1.7675826096030647, 1.4224833123692373, 0.373...</td>\n",
       "      <td>0</td>\n",
       "    </tr>\n",
       "    <tr>\n",
       "      <th>1</th>\n",
       "      <td>6575</td>\n",
       "      <td>[0.025274688377976418, 0.1411098688840866, 0.0...</td>\n",
       "      <td>[0.138836723468923, 0.7281325967313441, 0.0470...</td>\n",
       "      <td>0</td>\n",
       "    </tr>\n",
       "    <tr>\n",
       "      <th>2</th>\n",
       "      <td>16795</td>\n",
       "      <td>[0.11327800899744034, 0.2236904501914978, 0.16...</td>\n",
       "      <td>[0.6222489225225007, 1.1542517164106496, 0.899...</td>\n",
       "      <td>0</td>\n",
       "    </tr>\n",
       "  </tbody>\n",
       "</table>\n",
       "</div>"
      ],
      "text/plain": [
       "      id                                          features_  \\\n",
       "0   4385  [0.32178157567977905, 0.27567291259765625, 0.0...   \n",
       "1   6575  [0.025274688377976418, 0.1411098688840866, 0.0...   \n",
       "2  16795  [0.11327800899744034, 0.2236904501914978, 0.16...   \n",
       "\n",
       "                                      scaledFeatures  prediction  \n",
       "0  [1.7675826096030647, 1.4224833123692373, 0.373...           0  \n",
       "1  [0.138836723468923, 0.7281325967313441, 0.0470...           0  \n",
       "2  [0.6222489225225007, 1.1542517164106496, 0.899...           0  "
      ]
     },
     "execution_count": 17,
     "metadata": {},
     "output_type": "execute_result"
    }
   ],
   "source": [
    "predictions = predictions.toPandas()\n",
    "predictions.head(3)"
   ]
  },
  {
   "cell_type": "code",
   "execution_count": null,
   "id": "d1fbbc4c-9b58-42d4-b5cd-aaf7a7fee251",
   "metadata": {},
   "outputs": [],
   "source": [
    "predictions['distance_to_centroid'] = predictions.apply(compute_distance, axis=1)"
   ]
  },
  {
   "cell_type": "code",
   "execution_count": null,
   "id": "c3ee1ec3-5029-45df-82ef-fa19392e2ebf",
   "metadata": {},
   "outputs": [
    {
     "data": {
      "text/html": [
       "<div>\n",
       "<style scoped>\n",
       "    .dataframe tbody tr th:only-of-type {\n",
       "        vertical-align: middle;\n",
       "    }\n",
       "\n",
       "    .dataframe tbody tr th {\n",
       "        vertical-align: top;\n",
       "    }\n",
       "\n",
       "    .dataframe thead th {\n",
       "        text-align: right;\n",
       "    }\n",
       "</style>\n",
       "<table border=\"1\" class=\"dataframe\">\n",
       "  <thead>\n",
       "    <tr style=\"text-align: right;\">\n",
       "      <th></th>\n",
       "      <th>id</th>\n",
       "      <th>features_</th>\n",
       "      <th>scaledFeatures</th>\n",
       "      <th>prediction</th>\n",
       "      <th>distance_to_centroid</th>\n",
       "    </tr>\n",
       "  </thead>\n",
       "  <tbody>\n",
       "    <tr>\n",
       "      <th>0</th>\n",
       "      <td>4385</td>\n",
       "      <td>[0.32178157567977905, 0.27567291259765625, 0.0...</td>\n",
       "      <td>[1.7675826096030647, 1.4224833123692373, 0.373...</td>\n",
       "      <td>0</td>\n",
       "      <td>4.875994</td>\n",
       "    </tr>\n",
       "    <tr>\n",
       "      <th>1</th>\n",
       "      <td>6575</td>\n",
       "      <td>[0.025274688377976418, 0.1411098688840866, 0.0...</td>\n",
       "      <td>[0.138836723468923, 0.7281325967313441, 0.0470...</td>\n",
       "      <td>0</td>\n",
       "      <td>5.839899</td>\n",
       "    </tr>\n",
       "    <tr>\n",
       "      <th>2</th>\n",
       "      <td>16795</td>\n",
       "      <td>[0.11327800899744034, 0.2236904501914978, 0.16...</td>\n",
       "      <td>[0.6222489225225007, 1.1542517164106496, 0.899...</td>\n",
       "      <td>0</td>\n",
       "      <td>5.713727</td>\n",
       "    </tr>\n",
       "  </tbody>\n",
       "</table>\n",
       "</div>"
      ],
      "text/plain": [
       "      id                                          features_  \\\n",
       "0   4385  [0.32178157567977905, 0.27567291259765625, 0.0...   \n",
       "1   6575  [0.025274688377976418, 0.1411098688840866, 0.0...   \n",
       "2  16795  [0.11327800899744034, 0.2236904501914978, 0.16...   \n",
       "\n",
       "                                      scaledFeatures  prediction  \\\n",
       "0  [1.7675826096030647, 1.4224833123692373, 0.373...           0   \n",
       "1  [0.138836723468923, 0.7281325967313441, 0.0470...           0   \n",
       "2  [0.6222489225225007, 1.1542517164106496, 0.899...           0   \n",
       "\n",
       "   distance_to_centroid  \n",
       "0              4.875994  \n",
       "1              5.839899  \n",
       "2              5.713727  "
      ]
     },
     "execution_count": 19,
     "metadata": {},
     "output_type": "execute_result"
    }
   ],
   "source": [
    "predictions.head(3)"
   ]
  },
  {
   "cell_type": "code",
   "execution_count": null,
   "id": "8be7a6fa",
   "metadata": {},
   "outputs": [],
   "source": [
    "import pandas as pd"
   ]
  },
  {
   "cell_type": "code",
   "execution_count": null,
   "id": "bbe35ba5-3fc0-4722-aaf0-19f3e0c15241",
   "metadata": {},
   "outputs": [],
   "source": [
    "ratings = pd.read_csv(\"./data/cleaned_ratings.csv\")"
   ]
  },
  {
   "cell_type": "code",
   "execution_count": null,
   "id": "d80be1b1-a845-49b1-8443-f36869ddac29",
   "metadata": {},
   "outputs": [
    {
     "data": {
      "text/html": [
       "<div>\n",
       "<style scoped>\n",
       "    .dataframe tbody tr th:only-of-type {\n",
       "        vertical-align: middle;\n",
       "    }\n",
       "\n",
       "    .dataframe tbody tr th {\n",
       "        vertical-align: top;\n",
       "    }\n",
       "\n",
       "    .dataframe thead th {\n",
       "        text-align: right;\n",
       "    }\n",
       "</style>\n",
       "<table border=\"1\" class=\"dataframe\">\n",
       "  <thead>\n",
       "    <tr style=\"text-align: right;\">\n",
       "      <th></th>\n",
       "      <th>Unnamed: 0</th>\n",
       "      <th>id</th>\n",
       "      <th>ISBN</th>\n",
       "      <th>rating</th>\n",
       "    </tr>\n",
       "  </thead>\n",
       "  <tbody>\n",
       "    <tr>\n",
       "      <th>0</th>\n",
       "      <td>14854</td>\n",
       "      <td>2276</td>\n",
       "      <td>0020960808</td>\n",
       "      <td>10</td>\n",
       "    </tr>\n",
       "    <tr>\n",
       "      <th>1</th>\n",
       "      <td>14856</td>\n",
       "      <td>2276</td>\n",
       "      <td>0030632366</td>\n",
       "      <td>9</td>\n",
       "    </tr>\n",
       "    <tr>\n",
       "      <th>2</th>\n",
       "      <td>14858</td>\n",
       "      <td>2276</td>\n",
       "      <td>0061030643</td>\n",
       "      <td>8</td>\n",
       "    </tr>\n",
       "  </tbody>\n",
       "</table>\n",
       "</div>"
      ],
      "text/plain": [
       "   Unnamed: 0    id        ISBN  rating\n",
       "0       14854  2276  0020960808      10\n",
       "1       14856  2276  0030632366       9\n",
       "2       14858  2276  0061030643       8"
      ]
     },
     "execution_count": 21,
     "metadata": {},
     "output_type": "execute_result"
    }
   ],
   "source": [
    "ratings.rename(columns={\"user_id\":\"id\"}, inplace=True)\n",
    "ratings.head(3)"
   ]
  },
  {
   "cell_type": "code",
   "execution_count": null,
   "id": "be90f9d3-eb2c-4e2d-824d-cbbf441afb91",
   "metadata": {},
   "outputs": [],
   "source": [
    "result_df = pd.merge(predictions, ratings, on='id', how='inner')\n",
    "result_df = result_df[[\"id\", \"scaledFeatures\", \"prediction\", \"distance_to_centroid\", \"ISBN\", \"rating\"]]"
   ]
  },
  {
   "cell_type": "code",
   "execution_count": null,
   "id": "d422f7ce-0548-438e-be21-1b8769283e80",
   "metadata": {},
   "outputs": [
    {
     "data": {
      "text/html": [
       "<div>\n",
       "<style scoped>\n",
       "    .dataframe tbody tr th:only-of-type {\n",
       "        vertical-align: middle;\n",
       "    }\n",
       "\n",
       "    .dataframe tbody tr th {\n",
       "        vertical-align: top;\n",
       "    }\n",
       "\n",
       "    .dataframe thead th {\n",
       "        text-align: right;\n",
       "    }\n",
       "</style>\n",
       "<table border=\"1\" class=\"dataframe\">\n",
       "  <thead>\n",
       "    <tr style=\"text-align: right;\">\n",
       "      <th></th>\n",
       "      <th>id</th>\n",
       "      <th>scaledFeatures</th>\n",
       "      <th>prediction</th>\n",
       "      <th>distance_to_centroid</th>\n",
       "      <th>ISBN</th>\n",
       "      <th>rating</th>\n",
       "    </tr>\n",
       "  </thead>\n",
       "  <tbody>\n",
       "    <tr>\n",
       "      <th>0</th>\n",
       "      <td>4385</td>\n",
       "      <td>[1.7675826096030647, 1.4224833123692373, 0.373...</td>\n",
       "      <td>0</td>\n",
       "      <td>4.875994</td>\n",
       "      <td>0061083402</td>\n",
       "      <td>10</td>\n",
       "    </tr>\n",
       "    <tr>\n",
       "      <th>1</th>\n",
       "      <td>4385</td>\n",
       "      <td>[1.7675826096030647, 1.4224833123692373, 0.373...</td>\n",
       "      <td>0</td>\n",
       "      <td>4.875994</td>\n",
       "      <td>0061093343</td>\n",
       "      <td>9</td>\n",
       "    </tr>\n",
       "    <tr>\n",
       "      <th>2</th>\n",
       "      <td>4385</td>\n",
       "      <td>[1.7675826096030647, 1.4224833123692373, 0.373...</td>\n",
       "      <td>0</td>\n",
       "      <td>4.875994</td>\n",
       "      <td>0061096156</td>\n",
       "      <td>10</td>\n",
       "    </tr>\n",
       "  </tbody>\n",
       "</table>\n",
       "</div>"
      ],
      "text/plain": [
       "     id                                     scaledFeatures  prediction  \\\n",
       "0  4385  [1.7675826096030647, 1.4224833123692373, 0.373...           0   \n",
       "1  4385  [1.7675826096030647, 1.4224833123692373, 0.373...           0   \n",
       "2  4385  [1.7675826096030647, 1.4224833123692373, 0.373...           0   \n",
       "\n",
       "   distance_to_centroid        ISBN  rating  \n",
       "0              4.875994  0061083402      10  \n",
       "1              4.875994  0061093343       9  \n",
       "2              4.875994  0061096156      10  "
      ]
     },
     "execution_count": 23,
     "metadata": {},
     "output_type": "execute_result"
    }
   ],
   "source": [
    "result_df.head(3)"
   ]
  },
  {
   "cell_type": "code",
   "execution_count": null,
   "id": "4e4f8944-204a-4417-8f06-c8fcfd669213",
   "metadata": {},
   "outputs": [],
   "source": [
    "cluster_0 = result_df[result_df['prediction'] == 0]\n",
    "cluster_1 = result_df[result_df['prediction'] == 1]"
   ]
  },
  {
   "cell_type": "code",
   "execution_count": null,
   "id": "4783c903-604f-4d11-94bc-59386a73e5cf",
   "metadata": {},
   "outputs": [
    {
     "data": {
      "text/html": [
       "<div>\n",
       "<style scoped>\n",
       "    .dataframe tbody tr th:only-of-type {\n",
       "        vertical-align: middle;\n",
       "    }\n",
       "\n",
       "    .dataframe tbody tr th {\n",
       "        vertical-align: top;\n",
       "    }\n",
       "\n",
       "    .dataframe thead th {\n",
       "        text-align: right;\n",
       "    }\n",
       "</style>\n",
       "<table border=\"1\" class=\"dataframe\">\n",
       "  <thead>\n",
       "    <tr style=\"text-align: right;\">\n",
       "      <th></th>\n",
       "      <th>id</th>\n",
       "      <th>scaledFeatures</th>\n",
       "      <th>prediction</th>\n",
       "      <th>distance_to_centroid</th>\n",
       "      <th>ISBN</th>\n",
       "      <th>rating</th>\n",
       "    </tr>\n",
       "  </thead>\n",
       "  <tbody>\n",
       "    <tr>\n",
       "      <th>0</th>\n",
       "      <td>4385</td>\n",
       "      <td>[1.7675826096030647, 1.4224833123692373, 0.373...</td>\n",
       "      <td>0</td>\n",
       "      <td>4.875994</td>\n",
       "      <td>0061083402</td>\n",
       "      <td>10</td>\n",
       "    </tr>\n",
       "    <tr>\n",
       "      <th>1</th>\n",
       "      <td>4385</td>\n",
       "      <td>[1.7675826096030647, 1.4224833123692373, 0.373...</td>\n",
       "      <td>0</td>\n",
       "      <td>4.875994</td>\n",
       "      <td>0061093343</td>\n",
       "      <td>9</td>\n",
       "    </tr>\n",
       "    <tr>\n",
       "      <th>2</th>\n",
       "      <td>4385</td>\n",
       "      <td>[1.7675826096030647, 1.4224833123692373, 0.373...</td>\n",
       "      <td>0</td>\n",
       "      <td>4.875994</td>\n",
       "      <td>0061096156</td>\n",
       "      <td>10</td>\n",
       "    </tr>\n",
       "  </tbody>\n",
       "</table>\n",
       "</div>"
      ],
      "text/plain": [
       "     id                                     scaledFeatures  prediction  \\\n",
       "0  4385  [1.7675826096030647, 1.4224833123692373, 0.373...           0   \n",
       "1  4385  [1.7675826096030647, 1.4224833123692373, 0.373...           0   \n",
       "2  4385  [1.7675826096030647, 1.4224833123692373, 0.373...           0   \n",
       "\n",
       "   distance_to_centroid        ISBN  rating  \n",
       "0              4.875994  0061083402      10  \n",
       "1              4.875994  0061093343       9  \n",
       "2              4.875994  0061096156      10  "
      ]
     },
     "execution_count": 25,
     "metadata": {},
     "output_type": "execute_result"
    }
   ],
   "source": [
    "cluster_0.head(3)"
   ]
  },
  {
   "cell_type": "code",
   "execution_count": null,
   "id": "d1e5611d-8935-44e1-b7f2-57bb32d0c096",
   "metadata": {},
   "outputs": [
    {
     "data": {
      "text/plain": [
       "(64270, 6)"
      ]
     },
     "execution_count": 26,
     "metadata": {},
     "output_type": "execute_result"
    }
   ],
   "source": [
    "cluster_0.shape"
   ]
  },
  {
   "cell_type": "code",
   "execution_count": null,
   "id": "6bd32667-98d0-43b1-a655-9d855b73419e",
   "metadata": {},
   "outputs": [
    {
     "data": {
      "text/html": [
       "<div>\n",
       "<style scoped>\n",
       "    .dataframe tbody tr th:only-of-type {\n",
       "        vertical-align: middle;\n",
       "    }\n",
       "\n",
       "    .dataframe tbody tr th {\n",
       "        vertical-align: top;\n",
       "    }\n",
       "\n",
       "    .dataframe thead th {\n",
       "        text-align: right;\n",
       "    }\n",
       "</style>\n",
       "<table border=\"1\" class=\"dataframe\">\n",
       "  <thead>\n",
       "    <tr style=\"text-align: right;\">\n",
       "      <th></th>\n",
       "      <th>id</th>\n",
       "      <th>scaledFeatures</th>\n",
       "      <th>prediction</th>\n",
       "      <th>distance_to_centroid</th>\n",
       "      <th>ISBN</th>\n",
       "      <th>rating</th>\n",
       "    </tr>\n",
       "  </thead>\n",
       "  <tbody>\n",
       "    <tr>\n",
       "      <th>2130</th>\n",
       "      <td>68555</td>\n",
       "      <td>[1.9931046288107976, 0.5758678896935929, 2.557...</td>\n",
       "      <td>1</td>\n",
       "      <td>6.065333</td>\n",
       "      <td>000712032X</td>\n",
       "      <td>9</td>\n",
       "    </tr>\n",
       "    <tr>\n",
       "      <th>2131</th>\n",
       "      <td>68555</td>\n",
       "      <td>[1.9931046288107976, 0.5758678896935929, 2.557...</td>\n",
       "      <td>1</td>\n",
       "      <td>6.065333</td>\n",
       "      <td>0007154615</td>\n",
       "      <td>3</td>\n",
       "    </tr>\n",
       "    <tr>\n",
       "      <th>2132</th>\n",
       "      <td>68555</td>\n",
       "      <td>[1.9931046288107976, 0.5758678896935929, 2.557...</td>\n",
       "      <td>1</td>\n",
       "      <td>6.065333</td>\n",
       "      <td>0028626354</td>\n",
       "      <td>8</td>\n",
       "    </tr>\n",
       "  </tbody>\n",
       "</table>\n",
       "</div>"
      ],
      "text/plain": [
       "         id                                     scaledFeatures  prediction  \\\n",
       "2130  68555  [1.9931046288107976, 0.5758678896935929, 2.557...           1   \n",
       "2131  68555  [1.9931046288107976, 0.5758678896935929, 2.557...           1   \n",
       "2132  68555  [1.9931046288107976, 0.5758678896935929, 2.557...           1   \n",
       "\n",
       "      distance_to_centroid        ISBN  rating  \n",
       "2130              6.065333  000712032X       9  \n",
       "2131              6.065333  0007154615       3  \n",
       "2132              6.065333  0028626354       8  "
      ]
     },
     "execution_count": 27,
     "metadata": {},
     "output_type": "execute_result"
    }
   ],
   "source": [
    "cluster_1.head(3)"
   ]
  },
  {
   "cell_type": "code",
   "execution_count": null,
   "id": "1a7e0360-c79c-4e2b-896f-a7587f80c2d4",
   "metadata": {},
   "outputs": [
    {
     "data": {
      "text/plain": [
       "(23542, 6)"
      ]
     },
     "execution_count": 28,
     "metadata": {},
     "output_type": "execute_result"
    }
   ],
   "source": [
    "cluster_1.shape"
   ]
  },
  {
   "cell_type": "markdown",
   "id": "4ac4d58b-ed9b-4364-a976-1dbf0c55288b",
   "metadata": {},
   "source": [
    "## Cluster 0"
   ]
  },
  {
   "cell_type": "code",
   "execution_count": null,
   "id": "ff5753b8-cc3f-4d9a-80c8-388a968e7aff",
   "metadata": {},
   "outputs": [
    {
     "data": {
      "text/html": [
       "<div>\n",
       "<style scoped>\n",
       "    .dataframe tbody tr th:only-of-type {\n",
       "        vertical-align: middle;\n",
       "    }\n",
       "\n",
       "    .dataframe tbody tr th {\n",
       "        vertical-align: top;\n",
       "    }\n",
       "\n",
       "    .dataframe thead th {\n",
       "        text-align: right;\n",
       "    }\n",
       "</style>\n",
       "<table border=\"1\" class=\"dataframe\">\n",
       "  <thead>\n",
       "    <tr style=\"text-align: right;\">\n",
       "      <th></th>\n",
       "      <th>id</th>\n",
       "      <th>scaledFeatures</th>\n",
       "      <th>prediction</th>\n",
       "      <th>distance_to_centroid</th>\n",
       "      <th>ISBN</th>\n",
       "      <th>rating</th>\n",
       "    </tr>\n",
       "  </thead>\n",
       "  <tbody>\n",
       "    <tr>\n",
       "      <th>0</th>\n",
       "      <td>4385</td>\n",
       "      <td>[1.7675826096030647, 1.4224833123692373, 0.373...</td>\n",
       "      <td>0</td>\n",
       "      <td>4.875994</td>\n",
       "      <td>0061083402</td>\n",
       "      <td>10</td>\n",
       "    </tr>\n",
       "    <tr>\n",
       "      <th>33907</th>\n",
       "      <td>229329</td>\n",
       "      <td>[-0.5440735432018002, 0.13319762821121114, 2.1...</td>\n",
       "      <td>0</td>\n",
       "      <td>4.896681</td>\n",
       "      <td>0553273604</td>\n",
       "      <td>7</td>\n",
       "    </tr>\n",
       "    <tr>\n",
       "      <th>17029</th>\n",
       "      <td>222204</td>\n",
       "      <td>[-0.7973219699892337, 0.03278572264075934, 1.3...</td>\n",
       "      <td>0</td>\n",
       "      <td>4.920707</td>\n",
       "      <td>0441157513</td>\n",
       "      <td>9</td>\n",
       "    </tr>\n",
       "    <tr>\n",
       "      <th>73552</th>\n",
       "      <td>236948</td>\n",
       "      <td>[-0.6385404819505033, 1.7484683538083396, -0.7...</td>\n",
       "      <td>0</td>\n",
       "      <td>5.026445</td>\n",
       "      <td>0132369281</td>\n",
       "      <td>9</td>\n",
       "    </tr>\n",
       "    <tr>\n",
       "      <th>27875</th>\n",
       "      <td>56399</td>\n",
       "      <td>[-0.2526646252739602, 1.7992592025054828, -0.1...</td>\n",
       "      <td>0</td>\n",
       "      <td>5.034262</td>\n",
       "      <td>0803269072</td>\n",
       "      <td>10</td>\n",
       "    </tr>\n",
       "  </tbody>\n",
       "</table>\n",
       "</div>"
      ],
      "text/plain": [
       "           id                                     scaledFeatures  prediction  \\\n",
       "0        4385  [1.7675826096030647, 1.4224833123692373, 0.373...           0   \n",
       "33907  229329  [-0.5440735432018002, 0.13319762821121114, 2.1...           0   \n",
       "17029  222204  [-0.7973219699892337, 0.03278572264075934, 1.3...           0   \n",
       "73552  236948  [-0.6385404819505033, 1.7484683538083396, -0.7...           0   \n",
       "27875   56399  [-0.2526646252739602, 1.7992592025054828, -0.1...           0   \n",
       "\n",
       "       distance_to_centroid        ISBN  rating  \n",
       "0                  4.875994  0061083402      10  \n",
       "33907              4.896681  0553273604       7  \n",
       "17029              4.920707  0441157513       9  \n",
       "73552              5.026445  0132369281       9  \n",
       "27875              5.034262  0803269072      10  "
      ]
     },
     "execution_count": 31,
     "metadata": {},
     "output_type": "execute_result"
    }
   ],
   "source": [
    "# Sort and get top 20 users\n",
    "cluster_0 = cluster_0.sort_values(by=\"distance_to_centroid\", ascending=True)\n",
    "top_20_0 = cluster_0['id'].unique()[:20]\n",
    "top_20_c0 = cluster_0[cluster_0['id'].isin(top_20_0)].drop_duplicates(subset='id')\n",
    "top_20_c0.head()"
   ]
  },
  {
   "cell_type": "code",
   "execution_count": null,
   "id": "74fc12a0-12b4-4197-8f64-52f22e251777",
   "metadata": {},
   "outputs": [
    {
     "data": {
      "text/html": [
       "<div>\n",
       "<style scoped>\n",
       "    .dataframe tbody tr th:only-of-type {\n",
       "        vertical-align: middle;\n",
       "    }\n",
       "\n",
       "    .dataframe tbody tr th {\n",
       "        vertical-align: top;\n",
       "    }\n",
       "\n",
       "    .dataframe thead th {\n",
       "        text-align: right;\n",
       "    }\n",
       "</style>\n",
       "<table border=\"1\" class=\"dataframe\">\n",
       "  <thead>\n",
       "    <tr style=\"text-align: right;\">\n",
       "      <th></th>\n",
       "      <th>ISBN</th>\n",
       "      <th>rating</th>\n",
       "    </tr>\n",
       "  </thead>\n",
       "  <tbody>\n",
       "    <tr>\n",
       "      <th>0</th>\n",
       "      <td>0061083402</td>\n",
       "      <td>10.0</td>\n",
       "    </tr>\n",
       "    <tr>\n",
       "      <th>1</th>\n",
       "      <td>0132369281</td>\n",
       "      <td>9.0</td>\n",
       "    </tr>\n",
       "    <tr>\n",
       "      <th>2</th>\n",
       "      <td>0373790864</td>\n",
       "      <td>10.0</td>\n",
       "    </tr>\n",
       "    <tr>\n",
       "      <th>3</th>\n",
       "      <td>0375709150</td>\n",
       "      <td>7.0</td>\n",
       "    </tr>\n",
       "    <tr>\n",
       "      <th>4</th>\n",
       "      <td>0380973820</td>\n",
       "      <td>8.0</td>\n",
       "    </tr>\n",
       "  </tbody>\n",
       "</table>\n",
       "</div>"
      ],
      "text/plain": [
       "         ISBN  rating\n",
       "0  0061083402    10.0\n",
       "1  0132369281     9.0\n",
       "2  0373790864    10.0\n",
       "3  0375709150     7.0\n",
       "4  0380973820     8.0"
      ]
     },
     "execution_count": 32,
     "metadata": {},
     "output_type": "execute_result"
    }
   ],
   "source": [
    "## Calculate avg rating \n",
    "avg_ratings_by_isbn_c0 = top_20_c0.groupby('ISBN')['rating'].mean().reset_index()\n",
    "avg_ratings_by_isbn_c0.head()"
   ]
  },
  {
   "cell_type": "code",
   "execution_count": null,
   "id": "369eb2cf-60c9-46f1-884a-b055ade9ef24",
   "metadata": {},
   "outputs": [
    {
     "data": {
      "text/plain": [
       "(20, 2)"
      ]
     },
     "execution_count": 208,
     "metadata": {},
     "output_type": "execute_result"
    }
   ],
   "source": [
    "avg_ratings_by_isbn_c0.shape"
   ]
  },
  {
   "cell_type": "markdown",
   "id": "5d1d63cf-4ffc-46bd-ab0f-191eac281fd2",
   "metadata": {},
   "source": [
    "## Cluster 1"
   ]
  },
  {
   "cell_type": "code",
   "execution_count": null,
   "id": "bcf4a10f-2f6e-49b0-acc2-6483f4e01c63",
   "metadata": {},
   "outputs": [
    {
     "data": {
      "text/html": [
       "<div>\n",
       "<style scoped>\n",
       "    .dataframe tbody tr th:only-of-type {\n",
       "        vertical-align: middle;\n",
       "    }\n",
       "\n",
       "    .dataframe tbody tr th {\n",
       "        vertical-align: top;\n",
       "    }\n",
       "\n",
       "    .dataframe thead th {\n",
       "        text-align: right;\n",
       "    }\n",
       "</style>\n",
       "<table border=\"1\" class=\"dataframe\">\n",
       "  <thead>\n",
       "    <tr style=\"text-align: right;\">\n",
       "      <th></th>\n",
       "      <th>id</th>\n",
       "      <th>scaledFeatures</th>\n",
       "      <th>prediction</th>\n",
       "      <th>distance_to_centroid</th>\n",
       "      <th>ISBN</th>\n",
       "      <th>rating</th>\n",
       "    </tr>\n",
       "  </thead>\n",
       "  <tbody>\n",
       "    <tr>\n",
       "      <th>87640</th>\n",
       "      <td>241980</td>\n",
       "      <td>[0.7809184755379671, 1.8647655262622067, 2.807...</td>\n",
       "      <td>1</td>\n",
       "      <td>4.839763</td>\n",
       "      <td>1579541186</td>\n",
       "      <td>7</td>\n",
       "    </tr>\n",
       "    <tr>\n",
       "      <th>18623</th>\n",
       "      <td>257204</td>\n",
       "      <td>[0.32738360659842114, 0.9096101537272882, 1.21...</td>\n",
       "      <td>1</td>\n",
       "      <td>5.106396</td>\n",
       "      <td>0812555104</td>\n",
       "      <td>10</td>\n",
       "    </tr>\n",
       "    <tr>\n",
       "      <th>21649</th>\n",
       "      <td>94853</td>\n",
       "      <td>[1.4410032776334087, -0.0867997215849373, -0.1...</td>\n",
       "      <td>1</td>\n",
       "      <td>5.114778</td>\n",
       "      <td>0201094444</td>\n",
       "      <td>10</td>\n",
       "    </tr>\n",
       "    <tr>\n",
       "      <th>20804</th>\n",
       "      <td>78973</td>\n",
       "      <td>[-0.666471401161374, 0.1830047579115651, 0.542...</td>\n",
       "      <td>1</td>\n",
       "      <td>5.156543</td>\n",
       "      <td>0749719095</td>\n",
       "      <td>9</td>\n",
       "    </tr>\n",
       "    <tr>\n",
       "      <th>21422</th>\n",
       "      <td>88733</td>\n",
       "      <td>[0.6559220470364914, 1.0296273698574547, 1.627...</td>\n",
       "      <td>1</td>\n",
       "      <td>5.174555</td>\n",
       "      <td>0684850613</td>\n",
       "      <td>9</td>\n",
       "    </tr>\n",
       "  </tbody>\n",
       "</table>\n",
       "</div>"
      ],
      "text/plain": [
       "           id                                     scaledFeatures  prediction  \\\n",
       "87640  241980  [0.7809184755379671, 1.8647655262622067, 2.807...           1   \n",
       "18623  257204  [0.32738360659842114, 0.9096101537272882, 1.21...           1   \n",
       "21649   94853  [1.4410032776334087, -0.0867997215849373, -0.1...           1   \n",
       "20804   78973  [-0.666471401161374, 0.1830047579115651, 0.542...           1   \n",
       "21422   88733  [0.6559220470364914, 1.0296273698574547, 1.627...           1   \n",
       "\n",
       "       distance_to_centroid        ISBN  rating  \n",
       "87640              4.839763  1579541186       7  \n",
       "18623              5.106396  0812555104      10  \n",
       "21649              5.114778  0201094444      10  \n",
       "20804              5.156543  0749719095       9  \n",
       "21422              5.174555  0684850613       9  "
      ]
     },
     "execution_count": 33,
     "metadata": {},
     "output_type": "execute_result"
    }
   ],
   "source": [
    "# Sort and get top 20 users in cluster 1\n",
    "cluster_1 = cluster_1.sort_values(by=\"distance_to_centroid\", ascending=True)\n",
    "top_20_1 = cluster_1['id'].unique()[:20]\n",
    "top_20_c1 = cluster_1[cluster_1['id'].isin(top_20_1)].drop_duplicates(subset='id')\n",
    "top_20_c1.head()"
   ]
  },
  {
   "cell_type": "code",
   "execution_count": null,
   "id": "696f6360-adf0-4567-a4dc-a8af6232f9f7",
   "metadata": {},
   "outputs": [
    {
     "data": {
      "text/html": [
       "<div>\n",
       "<style scoped>\n",
       "    .dataframe tbody tr th:only-of-type {\n",
       "        vertical-align: middle;\n",
       "    }\n",
       "\n",
       "    .dataframe tbody tr th {\n",
       "        vertical-align: top;\n",
       "    }\n",
       "\n",
       "    .dataframe thead th {\n",
       "        text-align: right;\n",
       "    }\n",
       "</style>\n",
       "<table border=\"1\" class=\"dataframe\">\n",
       "  <thead>\n",
       "    <tr style=\"text-align: right;\">\n",
       "      <th></th>\n",
       "      <th>ISBN</th>\n",
       "      <th>rating</th>\n",
       "    </tr>\n",
       "  </thead>\n",
       "  <tbody>\n",
       "    <tr>\n",
       "      <th>0</th>\n",
       "      <td>0061000043</td>\n",
       "      <td>8.0</td>\n",
       "    </tr>\n",
       "    <tr>\n",
       "      <th>1</th>\n",
       "      <td>0201094444</td>\n",
       "      <td>10.0</td>\n",
       "    </tr>\n",
       "    <tr>\n",
       "      <th>2</th>\n",
       "      <td>0345413865</td>\n",
       "      <td>8.0</td>\n",
       "    </tr>\n",
       "    <tr>\n",
       "      <th>3</th>\n",
       "      <td>0373226144</td>\n",
       "      <td>9.0</td>\n",
       "    </tr>\n",
       "    <tr>\n",
       "      <th>4</th>\n",
       "      <td>0380973650</td>\n",
       "      <td>7.0</td>\n",
       "    </tr>\n",
       "  </tbody>\n",
       "</table>\n",
       "</div>"
      ],
      "text/plain": [
       "         ISBN  rating\n",
       "0  0061000043     8.0\n",
       "1  0201094444    10.0\n",
       "2  0345413865     8.0\n",
       "3  0373226144     9.0\n",
       "4  0380973650     7.0"
      ]
     },
     "execution_count": 34,
     "metadata": {},
     "output_type": "execute_result"
    }
   ],
   "source": [
    "## Calculate avg rating \n",
    "avg_ratings_by_isbn_c1 = top_20_c1.groupby('ISBN')['rating'].mean().reset_index()\n",
    "avg_ratings_by_isbn_c1.head()"
   ]
  },
  {
   "cell_type": "code",
   "execution_count": null,
   "id": "310ca48c-c6c8-4883-bd77-13c2b166fdb2",
   "metadata": {},
   "outputs": [
    {
     "data": {
      "text/plain": [
       "(15, 2)"
      ]
     },
     "execution_count": 211,
     "metadata": {},
     "output_type": "execute_result"
    }
   ],
   "source": [
    "avg_ratings_by_isbn_c1.shape"
   ]
  },
  {
   "cell_type": "markdown",
   "id": "fae81b24-056c-4451-8875-8968daa16793",
   "metadata": {},
   "source": [
    "## Example recommend for user 4385"
   ]
  },
  {
   "cell_type": "code",
   "execution_count": null,
   "id": "3c629650-fa50-43e7-809e-dde2506b2c6f",
   "metadata": {},
   "outputs": [
    {
     "data": {
      "text/plain": [
       "True"
      ]
     },
     "execution_count": 212,
     "metadata": {},
     "output_type": "execute_result"
    }
   ],
   "source": [
    "# Check cluster of 4385\n",
    "is_present = cluster_0['id'].isin([4385]).any()\n",
    "is_present"
   ]
  },
  {
   "cell_type": "code",
   "execution_count": null,
   "id": "55d0e855-a621-4a86-9210-a350a8f099d2",
   "metadata": {},
   "outputs": [
    {
     "data": {
      "text/plain": [
       "False"
      ]
     },
     "execution_count": 213,
     "metadata": {},
     "output_type": "execute_result"
    }
   ],
   "source": [
    "is_present = cluster_1['id'].isin([4385]).any()\n",
    "is_present"
   ]
  },
  {
   "cell_type": "code",
   "execution_count": null,
   "id": "0ab86a31-aa41-4c9f-9988-e2fdfdace188",
   "metadata": {},
   "outputs": [
    {
     "data": {
      "text/plain": [
       "(213, 4)"
      ]
     },
     "execution_count": 214,
     "metadata": {},
     "output_type": "execute_result"
    }
   ],
   "source": [
    "## Get all book user 4385 has rated\n",
    "books_rated_by_4385 = ratings[ratings['id'] == 4385]\n",
    "books_rated_by_4385.shape"
   ]
  },
  {
   "cell_type": "code",
   "execution_count": null,
   "id": "94310025-f2d4-4afc-b877-45747f9bed3e",
   "metadata": {
    "scrolled": true
   },
   "outputs": [
    {
     "data": {
      "text/plain": [
       "array(['0061083402', '0061093343', '0061096156', '0312956762',\n",
       "       '0312980353', '0345446100', '0373024665', '0373025920',\n",
       "       '0373032072', '0373035101', '0373051921', '0373072422',\n",
       "       '0373074123', '0373074492', '0373074808', '0373075286',\n",
       "       '0373076223', '0373076371', '0373076592', '0373076746',\n",
       "       '0373076932', '0373077289', '0373078056', '0373088701',\n",
       "       '0373092741', '0373093799', '0373093829', '0373095244',\n",
       "       '0373096585', '0373096828', '0373097840', '0373098006',\n",
       "       '0373098677', '0373098847', '0373098855', '0373098987',\n",
       "       '0373099150', '0373099169', '0373099568', '037310507X',\n",
       "       '0373105401', '037310667X', '0373106734', '0373107072',\n",
       "       '0373109040', '0373111622', '0373114931', '0373115458',\n",
       "       '0373116373', '0373117949', '0373118651', '0373118716',\n",
       "       '0373121369', '0373151896', '0373160011', '0373161387',\n",
       "       '0373162111', '0373162227', '0373164386', '0373165048',\n",
       "       '0373165544', '0373165595', '0373165811', '037316596X',\n",
       "       '0373166931', '0373166958', '0373168527', '0373168705',\n",
       "       '0373168721', '0373168748', '0373168802', '0373168829',\n",
       "       '0373169175', '0373169191', '0373169264', '0373169299',\n",
       "       '0373169302', '0373169329', '0373169361', '0373169469',\n",
       "       '0373169477', '0373169493', '037316954X', '0373169566',\n",
       "       '0373169620', '0373169639', '037316968X', '0373169760',\n",
       "       '0373169868', '0373169884', '037319692X', '0373201427',\n",
       "       '0373201575', '0373222289', '0373222823', '0373223455',\n",
       "       '0373224915', '0373225202', '0373241224', '037324343X',\n",
       "       '0373243685', '0373253184', '0373254547', '0373254571',\n",
       "       '0373255500', '037325668X', '0373288050', '0373288093',\n",
       "       '0373288212', '0373288646', '0373288727', '0373288816',\n",
       "       '037328926X', '0373289421', '0373289871', '037329011X',\n",
       "       '037329056X', '0373291019', '0373291183', '0373291213',\n",
       "       '0373292155', '0373451806', '0373451903', '0373451911',\n",
       "       '0373482949', '0373482957', '0373484070', '0373501749',\n",
       "       '0373501757', '0373650396', '037365054X', '0373704070',\n",
       "       '0373705247', '0373706448', '0373706898', '037370707X',\n",
       "       '0373710291', '0373765053', '0373790538', '0373898347',\n",
       "       '0380815346', '0380818078', '0380897857', '0425105156',\n",
       "       '0440112907', '0440169836', '0440221471', '0441007147',\n",
       "       '0441023142', '0445206608', '0446356859', '0446356875',\n",
       "       '0446360511', '0446360708', '0446360732', '0446364290',\n",
       "       '0446364312', '0446600342', '0446602558', '0446603090',\n",
       "       '0446606448', '0449005844', '0449129047', '0449140180',\n",
       "       '0449232131', '0449236250', '0451180143', '0515058181',\n",
       "       '051506162X', '0553217771', '0553218298', '0553219510',\n",
       "       '0553220284', '0553279335', '0553289993', '0553443119',\n",
       "       '0553444433', '0553445006', '0553567683', '0553576011',\n",
       "       '0671019147', '0671025384', '0671042092', '0671460412',\n",
       "       '0671469134', '0671495429', '0671519077', '0671535706',\n",
       "       '0671775235', '067178577X', '0743436466', '0786000139',\n",
       "       '0786005416', '0821718053', '0821718398', '082173427X',\n",
       "       '0821740296', '0821744798', '0821745085', '0821746219',\n",
       "       '0821749374', '0821758969', '0821760459', '0821767720',\n",
       "       '084394272X', '0843946466', '0886778212', '0931122651',\n",
       "       '1551660016', '155166531X', '1551666014', '1551667436',\n",
       "       '1565970519'], dtype=object)"
      ]
     },
     "execution_count": 215,
     "metadata": {},
     "output_type": "execute_result"
    }
   ],
   "source": [
    "books_rated_by_4385['ISBN'].values"
   ]
  },
  {
   "cell_type": "code",
   "execution_count": null,
   "id": "cab87c6b-5929-4197-a0bd-c0a34eea0056",
   "metadata": {},
   "outputs": [],
   "source": [
    "recommend = avg_ratings_by_isbn_c1[~avg_ratings_by_isbn_c1[\"ISBN\"].isin(books_rated_by_4385['ISBN'].values)]"
   ]
  },
  {
   "cell_type": "code",
   "execution_count": null,
   "id": "cd7718e7-c524-4148-8cab-cf8aa3ac6fca",
   "metadata": {},
   "outputs": [
    {
     "data": {
      "text/plain": [
       "(15, 2)"
      ]
     },
     "execution_count": 217,
     "metadata": {},
     "output_type": "execute_result"
    }
   ],
   "source": [
    "recommend.shape"
   ]
  },
  {
   "cell_type": "code",
   "execution_count": null,
   "id": "8b906db1-5121-4935-8cba-1229930f4be7",
   "metadata": {},
   "outputs": [],
   "source": [
    "def recommend(user_id, cluster_0, cluster_1):\n",
    "    is_present_0 = cluster_0['id'].isin([user_id]).any()\n",
    "    is_present_1 = cluster_1['id'].isin([user_id]).any()\n",
    "    if is_present_0:\n",
    "        ## Get all book user 4385 has rated\n",
    "        books_rated_by_user = ratings[ratings['id'] == user_id]\n",
    "        recommend = avg_ratings_by_isbn_c0[~avg_ratings_by_isbn_c0[\"ISBN\"].isin(books_rated_by_user['ISBN'].values)]\n",
    "        print(\"0\")\n",
    "    if is_present_1:\n",
    "        books_rated_by_user = ratings[ratings['id'] == user_id]\n",
    "        recommend = avg_ratings_by_isbn_c1[~avg_ratings_by_isbn_c1[\"ISBN\"].isin(books_rated_by_user['ISBN'].values)]    \n",
    "        print(\"1\")\n",
    "    return recommend['ISBN'].values"
   ]
  },
  {
   "cell_type": "code",
   "execution_count": null,
   "id": "2485f59e-5699-46d9-92d6-ad21d7b69853",
   "metadata": {},
   "outputs": [
    {
     "name": "stdout",
     "output_type": "stream",
     "text": [
      "0\n"
     ]
    },
    {
     "data": {
      "text/plain": [
       "array(['0006174760', '0064431037', '0140707247', '0345423291',\n",
       "       '037540421X', '0385314280', '0385335466', '038549744X',\n",
       "       '0439164842', '0440224071', '0441135560', '0486400611',\n",
       "       '0553268929', '0582067227', '0609810022', '0679446486',\n",
       "       '0747504687', '0836210263', '1559583126', '1895897572'],\n",
       "      dtype=object)"
      ]
     },
     "execution_count": 219,
     "metadata": {},
     "output_type": "execute_result"
    }
   ],
   "source": [
    "recommend(56399, cluster_0, cluster_1)"
   ]
  },
  {
   "cell_type": "code",
   "execution_count": null,
   "id": "ad65ad19-c692-489e-b833-82ad64e89e3b",
   "metadata": {},
   "outputs": [],
   "source": [
    "cluster_0.to_csv('./data/cluster_0.csv')\n",
    "cluster_1.to_csv('./data/cluster_1.csv')"
   ]
  },
  {
   "cell_type": "code",
   "execution_count": null,
   "id": "b62605ba-8dbb-4349-b668-d68c1b4e560a",
   "metadata": {
    "scrolled": true
   },
   "outputs": [
    {
     "data": {
      "text/html": [
       "<div>\n",
       "<style scoped>\n",
       "    .dataframe tbody tr th:only-of-type {\n",
       "        vertical-align: middle;\n",
       "    }\n",
       "\n",
       "    .dataframe tbody tr th {\n",
       "        vertical-align: top;\n",
       "    }\n",
       "\n",
       "    .dataframe thead th {\n",
       "        text-align: right;\n",
       "    }\n",
       "</style>\n",
       "<table border=\"1\" class=\"dataframe\">\n",
       "  <thead>\n",
       "    <tr style=\"text-align: right;\">\n",
       "      <th></th>\n",
       "      <th>ISBN</th>\n",
       "      <th>rating</th>\n",
       "    </tr>\n",
       "  </thead>\n",
       "  <tbody>\n",
       "    <tr>\n",
       "      <th>14061</th>\n",
       "      <td>0373441320</td>\n",
       "      <td>10.0</td>\n",
       "    </tr>\n",
       "    <tr>\n",
       "      <th>14609</th>\n",
       "      <td>0373711239</td>\n",
       "      <td>10.0</td>\n",
       "    </tr>\n",
       "    <tr>\n",
       "      <th>40732</th>\n",
       "      <td>0753100185</td>\n",
       "      <td>10.0</td>\n",
       "    </tr>\n",
       "  </tbody>\n",
       "</table>\n",
       "</div>"
      ],
      "text/plain": [
       "             ISBN  rating\n",
       "14061  0373441320    10.0\n",
       "14609  0373711239    10.0\n",
       "40732  0753100185    10.0"
      ]
     },
     "execution_count": 229,
     "metadata": {},
     "output_type": "execute_result"
    }
   ],
   "source": [
    "## Calculate avg rating \n",
    "avg_ratings_by_isbn_c0 = cluster_0.groupby('ISBN')['rating'].mean().reset_index()\n",
    "ratings_in_cluster_0 = avg_ratings_by_isbn_c0.sort_values(by='rating', ascending=False)\n",
    "ratings_in_cluster_0.head(3)"
   ]
  },
  {
   "cell_type": "code",
   "execution_count": null,
   "id": "bc712d6b-4d39-495a-97aa-80a610708613",
   "metadata": {},
   "outputs": [
    {
     "data": {
      "text/html": [
       "<div>\n",
       "<style scoped>\n",
       "    .dataframe tbody tr th:only-of-type {\n",
       "        vertical-align: middle;\n",
       "    }\n",
       "\n",
       "    .dataframe tbody tr th {\n",
       "        vertical-align: top;\n",
       "    }\n",
       "\n",
       "    .dataframe thead th {\n",
       "        text-align: right;\n",
       "    }\n",
       "</style>\n",
       "<table border=\"1\" class=\"dataframe\">\n",
       "  <thead>\n",
       "    <tr style=\"text-align: right;\">\n",
       "      <th></th>\n",
       "      <th>ISBN</th>\n",
       "      <th>rating</th>\n",
       "    </tr>\n",
       "  </thead>\n",
       "  <tbody>\n",
       "    <tr>\n",
       "      <th>715</th>\n",
       "      <td>0373123108</td>\n",
       "      <td>10.0</td>\n",
       "    </tr>\n",
       "    <tr>\n",
       "      <th>1882</th>\n",
       "      <td>0671744623</td>\n",
       "      <td>10.0</td>\n",
       "    </tr>\n",
       "    <tr>\n",
       "      <th>507</th>\n",
       "      <td>0345384385</td>\n",
       "      <td>10.0</td>\n",
       "    </tr>\n",
       "  </tbody>\n",
       "</table>\n",
       "</div>"
      ],
      "text/plain": [
       "            ISBN  rating\n",
       "715   0373123108    10.0\n",
       "1882  0671744623    10.0\n",
       "507   0345384385    10.0"
      ]
     },
     "execution_count": 230,
     "metadata": {},
     "output_type": "execute_result"
    }
   ],
   "source": [
    "## Calculate avg rating \n",
    "avg_ratings_by_isbn_c1 = cluster_1.groupby('ISBN')['rating'].mean().reset_index()\n",
    "ratings_in_cluster_1 = avg_ratings_by_isbn_c1.sort_values(by='rating', ascending=False)\n",
    "ratings_in_cluster_1.head(3)"
   ]
  },
  {
   "cell_type": "code",
   "execution_count": null,
   "id": "5656befc-7a0a-40cc-bf7d-81581227378c",
   "metadata": {},
   "outputs": [],
   "source": [
    "ratings_in_cluster_0.to_csv('./data/top_ratings_cluster_0.csv')\n",
    "ratings_in_cluster_1.to_csv('./data/top_ratings_cluster_1.csv')\n"
   ]
  },
  {
   "cell_type": "code",
   "execution_count": null,
   "id": "eede8974-0517-4264-b6b2-ee7e1c7a16d4",
   "metadata": {},
   "outputs": [
    {
     "data": {
      "text/html": [
       "<div>\n",
       "<style scoped>\n",
       "    .dataframe tbody tr th:only-of-type {\n",
       "        vertical-align: middle;\n",
       "    }\n",
       "\n",
       "    .dataframe tbody tr th {\n",
       "        vertical-align: top;\n",
       "    }\n",
       "\n",
       "    .dataframe thead th {\n",
       "        text-align: right;\n",
       "    }\n",
       "</style>\n",
       "<table border=\"1\" class=\"dataframe\">\n",
       "  <thead>\n",
       "    <tr style=\"text-align: right;\">\n",
       "      <th></th>\n",
       "      <th>Unnamed: 0</th>\n",
       "      <th>ISBN</th>\n",
       "      <th>rating</th>\n",
       "    </tr>\n",
       "  </thead>\n",
       "  <tbody>\n",
       "    <tr>\n",
       "      <th>0</th>\n",
       "      <td>14061</td>\n",
       "      <td>0373441320</td>\n",
       "      <td>10.0</td>\n",
       "    </tr>\n",
       "    <tr>\n",
       "      <th>1</th>\n",
       "      <td>14609</td>\n",
       "      <td>0373711239</td>\n",
       "      <td>10.0</td>\n",
       "    </tr>\n",
       "    <tr>\n",
       "      <th>2</th>\n",
       "      <td>40732</td>\n",
       "      <td>0753100185</td>\n",
       "      <td>10.0</td>\n",
       "    </tr>\n",
       "  </tbody>\n",
       "</table>\n",
       "</div>"
      ],
      "text/plain": [
       "   Unnamed: 0        ISBN  rating\n",
       "0       14061  0373441320    10.0\n",
       "1       14609  0373711239    10.0\n",
       "2       40732  0753100185    10.0"
      ]
     },
     "execution_count": 232,
     "metadata": {},
     "output_type": "execute_result"
    }
   ],
   "source": [
    "r0 = pd.read_csv('./data/top_ratings_cluster_0.csv')\n",
    "r0.head(3)"
   ]
  }
 ],
 "metadata": {
  "kernelspec": {
   "display_name": "Python 3 (ipykernel)",
   "language": "python",
   "name": "python3"
  },
  "language_info": {
   "codemirror_mode": {
    "name": "ipython",
    "version": 3
   },
   "file_extension": ".py",
   "mimetype": "text/x-python",
   "name": "python",
   "nbconvert_exporter": "python",
   "pygments_lexer": "ipython3",
   "version": "3.10.12"
  }
 },
 "nbformat": 4,
 "nbformat_minor": 5
}
