{
 "cells": [
  {
   "cell_type": "code",
   "execution_count": 1,
   "id": "3e214410-bccd-46c2-83b6-ab7a123c327a",
   "metadata": {},
   "outputs": [],
   "source": [
    "from message.notify_me import notify"
   ]
  },
  {
   "cell_type": "code",
   "execution_count": 2,
   "id": "e4b74eb7-a23a-4ee5-982a-8276aff8c342",
   "metadata": {},
   "outputs": [
    {
     "name": "stderr",
     "output_type": "stream",
     "text": [
      "/usr/lib/python3/dist-packages/scipy/__init__.py:146: UserWarning: A NumPy version >=1.17.3 and <1.25.0 is required for this version of SciPy (detected version 1.26.0\n",
      "  warnings.warn(f\"A NumPy version >={np_minversion} and <{np_maxversion}\"\n"
     ]
    },
    {
     "name": "stdout",
     "output_type": "stream",
     "text": [
      "System version: 3.10.12 (main, Nov 20 2023, 15:14:05) [GCC 11.4.0]\n",
      "Pandas version: 1.5.3\n",
      "PySpark version: 3.5.0\n"
     ]
    }
   ],
   "source": [
    "import warnings\n",
    "warnings.simplefilter(action='ignore', category=FutureWarning)\n",
    "\n",
    "import sys\n",
    "from matplotlib import pyplot as plt\n",
    "import numpy as np\n",
    "import pandas as pd\n",
    "import seaborn as sns\n",
    "\n",
    "import pyspark\n",
    "import pyspark.sql.functions as F\n",
    "from pyspark.ml.recommendation import ALS\n",
    "from pyspark.ml.tuning import ParamGridBuilder, TrainValidationSplit\n",
    "from pyspark.ml.evaluation import Evaluator, RegressionEvaluator\n",
    "from pyspark.ml.pipeline import Estimator, Model\n",
    "from pyspark import keyword_only  \n",
    "from pyspark.ml.param.shared import *\n",
    "from pyspark.ml.util import *\n",
    "from pyspark.mllib.evaluation import RankingMetrics\n",
    "from pyspark.sql.types import ArrayType, IntegerType\n",
    "from pyspark.sql.functions import rand\n",
    "from pyspark.sql import SparkSession\n",
    "from pyspark.ml.feature import StringIndexer\n",
    "from pyspark.mllib.util import Saveable\n",
    "from pyspark.ml.recommendation import ALS\n",
    "import pyspark.sql.functions as F\n",
    "from pyspark.sql.functions import col\n",
    "from pyspark.ml.tuning import CrossValidator, ParamGridBuilder, TrainValidationSplit\n",
    "from pyspark.ml.evaluation import RegressionEvaluator\n",
    "from pyspark.sql.types import StructType, StructField\n",
    "from pyspark.sql.types import FloatType, IntegerType, LongType\n",
    "\n",
    "from recommenders.utils.spark_utils import start_or_get_spark\n",
    "from recommenders.evaluation.spark_evaluation import SparkRankingEvaluation, SparkRatingEvaluation\n",
    "from recommenders.tuning.parameter_sweep import generate_param_grid\n",
    "from recommenders.datasets.spark_splitters import spark_random_split\n",
    "\n",
    "print(f\"System version: {sys.version}\")\n",
    "print(f\"Pandas version: {pd.__version__}\")\n",
    "print(f\"PySpark version: {pyspark.__version__}\")"
   ]
  },
  {
   "cell_type": "code",
   "execution_count": 3,
   "id": "526db51d-147b-4a1a-ac5b-d6b1b9c2d2dd",
   "metadata": {},
   "outputs": [],
   "source": [
    "## Set up data columns name\n",
    "COL_USER = \"user_id\"\n",
    "COL_ITEM = \"item_id\"\n",
    "COL_RATING = \"rating\"\n",
    "COL_PREDICTION = \"prediction\"\n",
    "COL_TIMESTAMP = \"timestamp\""
   ]
  },
  {
   "cell_type": "code",
   "execution_count": 5,
   "id": "5a156f03-dec7-4703-b572-706c7370d892",
   "metadata": {},
   "outputs": [
    {
     "name": "stderr",
     "output_type": "stream",
     "text": [
      "24/01/10 14:55:51 WARN Utils: Your hostname, QuangHieu resolves to a loopback address: 127.0.1.1; using 192.168.1.5 instead (on interface wlp1s0)\n",
      "24/01/10 14:55:51 WARN Utils: Set SPARK_LOCAL_IP if you need to bind to another address\n",
      "Setting default log level to \"WARN\".\n",
      "To adjust logging level use sc.setLogLevel(newLevel). For SparkR, use setLogLevel(newLevel).\n",
      "24/01/10 14:55:52 WARN NativeCodeLoader: Unable to load native-hadoop library for your platform... using builtin-java classes where applicable\n",
      "24/01/10 14:55:53 WARN Utils: Service 'SparkUI' could not bind on port 4040. Attempting port 4041.\n",
      "24/01/10 14:55:53 WARN Utils: Service 'SparkUI' could not bind on port 4041. Attempting port 4042.\n",
      "24/01/10 14:55:53 WARN Utils: Service 'SparkUI' could not bind on port 4042. Attempting port 4043.\n"
     ]
    }
   ],
   "source": [
    "spark = SparkSession.builder\\\n",
    "                    .appName(\"Recommend\")\\\n",
    "                    .config(\"spark.driver.memory\", \"10g\") \\\n",
    "                    .config(\"spark.executor.cores\", \"4\")  \\\n",
    "                    .getOrCreate()\n",
    "spark.conf.set(\"spark.sql.analyzer.failAmbiguousSelfJoin\", \"false\")\n",
    "sc = spark.sparkContext\n",
    "sc.setCheckpointDir('checkpoint')"
   ]
  },
  {
   "cell_type": "code",
   "execution_count": 6,
   "id": "7aea4d2d-6ff1-4232-af87-f458ed63b420",
   "metadata": {},
   "outputs": [
    {
     "name": "stderr",
     "output_type": "stream",
     "text": [
      "24/01/10 14:56:07 WARN DAGScheduler: Broadcasting large task binary with size 2.2 MiB\n"
     ]
    },
    {
     "name": "stdout",
     "output_type": "stream",
     "text": [
      "+-------+----------+------+-------+\n",
      "|user_id|      ISBN|rating|item_id|\n",
      "+-------+----------+------+-------+\n",
      "|   2276|0020960808|    10|11965.0|\n",
      "|   2276|0030632366|     9| 4638.0|\n",
      "|   2276|0061030643|     8| 1011.0|\n",
      "|   2276|0061098353|     8|13612.0|\n",
      "|   2276|0061099155|     9| 2576.0|\n",
      "+-------+----------+------+-------+\n",
      "only showing top 5 rows\n",
      "\n"
     ]
    }
   ],
   "source": [
    "df = spark.read.csv('./data/cleaned_ratings.csv', header=True, inferSchema=True)\n",
    "df_1 = df['user_id','ISBN', 'rating']\n",
    "indexer = StringIndexer(inputCol=\"ISBN\", outputCol=\"item_id\")\n",
    "data = indexer.fit(df_1).transform(df_1)\n",
    "data.show(5)"
   ]
  },
  {
   "cell_type": "code",
   "execution_count": 11,
   "id": "3457ebae",
   "metadata": {},
   "outputs": [
    {
     "name": "stderr",
     "output_type": "stream",
     "text": [
      "24/01/10 14:58:31 WARN DAGScheduler: Broadcasting large task binary with size 2.2 MiB\n"
     ]
    }
   ],
   "source": [
    "pd_data = data.toPandas()\n",
    "type(pd_data)\n",
    "pd_data.to_csv('./data/rating_indexed.csv')"
   ]
  },
  {
   "cell_type": "code",
   "execution_count": 16,
   "id": "2ec2c954-fddc-415a-9b55-942be2b75b03",
   "metadata": {},
   "outputs": [
    {
     "data": {
      "text/plain": [
       "87812"
      ]
     },
     "execution_count": 16,
     "metadata": {},
     "output_type": "execute_result"
    }
   ],
   "source": [
    "data.count()"
   ]
  },
  {
   "cell_type": "code",
   "execution_count": 17,
   "id": "5606c36a-993b-4a73-8f4a-576d0a6275a7",
   "metadata": {},
   "outputs": [
    {
     "data": {
      "text/plain": [
       "251"
      ]
     },
     "execution_count": 17,
     "metadata": {},
     "output_type": "execute_result"
    }
   ],
   "source": [
    "data.select(\"user_id\").distinct().count()"
   ]
  },
  {
   "cell_type": "code",
   "execution_count": 18,
   "id": "942bd9ef-94a4-440b-88d0-4aed8acaa2a9",
   "metadata": {},
   "outputs": [
    {
     "data": {
      "text/plain": [
       "64225"
      ]
     },
     "execution_count": 18,
     "metadata": {},
     "output_type": "execute_result"
    }
   ],
   "source": [
    "data.select(\"item_id\").distinct().count()"
   ]
  },
  {
   "cell_type": "code",
   "execution_count": 19,
   "id": "4164ec37-09d6-46f9-83e7-69e0852b549b",
   "metadata": {},
   "outputs": [],
   "source": [
    "## Split data to 80-20\n",
    "data = data.orderBy(rand(seed=42))\n",
    "dfs_train, dfs_test = spark_random_split(data, ratio=0.75, seed=42)"
   ]
  },
  {
   "cell_type": "code",
   "execution_count": 20,
   "id": "dc404599-1b01-4c2b-af8c-3d6f3979ea79",
   "metadata": {},
   "outputs": [
    {
     "data": {
      "text/plain": [
       "50733"
      ]
     },
     "execution_count": 20,
     "metadata": {},
     "output_type": "execute_result"
    }
   ],
   "source": [
    "dfs_train.select(\"item_id\").distinct().count()"
   ]
  },
  {
   "cell_type": "markdown",
   "id": "95e96b33-a7e7-4190-b29f-c403697db356",
   "metadata": {},
   "source": [
    "## Tuning based on RMSE"
   ]
  },
  {
   "cell_type": "code",
   "execution_count": 32,
   "id": "c35f2466-14d2-4844-83b3-90ba01c2451b",
   "metadata": {},
   "outputs": [],
   "source": [
    "param_dict = {\n",
    "    \"rank\": [15, 20, 25, 30, 35],\n",
    "    \"regParam\": [0.01, 0.05, 0.1, 0.5, 1]\n",
    "}\n"
   ]
  },
  {
   "cell_type": "code",
   "execution_count": 33,
   "id": "409f6d5f-1732-432e-9bea-bed2f10deeeb",
   "metadata": {},
   "outputs": [
    {
     "name": "stdout",
     "output_type": "stream",
     "text": [
      "[[15, 0.01], [15, 0.05], [15, 0.1], [15, 0.5], [15, 1], [20, 0.01], [20, 0.05], [20, 0.1], [20, 0.5], [20, 1], [25, 0.01], [25, 0.05], [25, 0.1], [25, 0.5], [25, 1], [30, 0.01], [30, 0.05], [30, 0.1], [30, 0.5], [30, 1], [35, 0.01], [35, 0.05], [35, 0.1], [35, 0.5], [35, 1]]\n"
     ]
    }
   ],
   "source": [
    "param_grid = generate_param_grid(param_dict)\n",
    "grid = list()\n",
    "for g in param_grid:\n",
    "    grid.append(list(g.values()))\n",
    "print(grid)"
   ]
  },
  {
   "cell_type": "code",
   "execution_count": 34,
   "id": "ce44b5ff-93da-4fb7-bebe-5bcf449cb5ea",
   "metadata": {},
   "outputs": [],
   "source": [
    "dfs_train.cache()\n",
    "dfs_test.cache()\n",
    "rmse_score_train = []\n",
    "rmse_score_test = []\n",
    "try:\n",
    "    for g in grid:\n",
    "        als = ALS(        \n",
    "            userCol=COL_USER, \n",
    "            itemCol=COL_ITEM, \n",
    "            ratingCol=COL_RATING,\n",
    "            maxIter = 25,\n",
    "            #nonnegative=True,\n",
    "            coldStartStrategy=\"drop\",\n",
    "            #**g\n",
    "        )\n",
    "        \n",
    "        evaluator = RegressionEvaluator(metricName=\"rmse\", labelCol=\"rating\", predictionCol=\"prediction\")\n",
    "        # tuning model using ParamGridBuilder\n",
    "        param_grid_ = ParamGridBuilder()\\\n",
    "                 .addGrid(als.rank, [g[0]])\\\n",
    "                 .addGrid(als.regParam, [g[1]])\\\n",
    "                 .build()\n",
    "        \n",
    "        #crossval = CrossValidator(estimator=als,\n",
    "        #                      estimatorParamMaps=param_grid_,\n",
    "        #                      evaluator=evaluator,\n",
    "        #                      numFolds=3, seed=12)\n",
    "        \n",
    "        #model = crossval.fit(dfs_train)\n",
    "        #best_model = model.bestModel\n",
    "        tvs = TrainValidationSplit(estimator=als,\n",
    "                                  estimatorParamMaps=param_grid_,\n",
    "                                  evaluator=evaluator,\n",
    "                                  trainRatio=0.8)\n",
    "                                    # 80% train data will be used to train and 20% to validate\n",
    "        \n",
    "        best_model = tvs.fit(dfs_train)\n",
    "        #dfs_pred = model.transform(dfs_test).drop(COL_RATING)\n",
    "        dfs_pred_train = best_model.transform(dfs_train)\n",
    "        rmse_train = evaluator.evaluate(dfs_pred_train)\n",
    "        \n",
    "        dfs_pred_test = best_model.transform(dfs_test)\n",
    "        rmse_test = evaluator.evaluate(dfs_pred_test)\n",
    "            \n",
    "        rmse_score_train.append(rmse_train)\n",
    "        rmse_score_test.append(rmse_test)\n",
    "        \n",
    "    rmse_score_train = [float('%.5f' % x) for x in rmse_score_train]\n",
    "    rmse_score_test = [float('%.5f' % x) for x in rmse_score_test]\n",
    "    \n",
    "    rmse_score_train_array = np.reshape(rmse_score_train, (len(param_dict[\"rank\"]), len(param_dict[\"regParam\"]))) \n",
    "    rmse_score_test_array = np.reshape(rmse_score_test, (len(param_dict[\"rank\"]), len(param_dict[\"regParam\"]))) \n",
    "except:\n",
    "    notify()\n",
    "finally:\n",
    "    notify()"
   ]
  },
  {
   "cell_type": "code",
   "execution_count": 35,
   "id": "e2ad2792-1627-4de9-adfb-d18e35ad7ed2",
   "metadata": {},
   "outputs": [],
   "source": [
    "rmse_train = pd.DataFrame(data=rmse_score_train_array, index=pd.Index(param_dict[\"rank\"], name=\"rank\"), \n",
    "                       columns=pd.Index(param_dict[\"regParam\"], name=\"reg. parameter\"))\n",
    "rmse_test = pd.DataFrame(data=rmse_score_test_array, index=pd.Index(param_dict[\"rank\"], name=\"rank\"), \n",
    "                       columns=pd.Index(param_dict[\"regParam\"], name=\"reg. parameter\"))"
   ]
  },
  {
   "cell_type": "code",
   "execution_count": 36,
   "id": "527b289c-134d-4af8-bd2f-6794dd0f7ce0",
   "metadata": {},
   "outputs": [
    {
     "data": {
      "text/plain": [
       "<Axes: xlabel='reg. parameter', ylabel='rank'>"
      ]
     },
     "execution_count": 36,
     "metadata": {},
     "output_type": "execute_result"
    },
    {
     "data": {
      "image/png": "[encoded data removed]",
      "text/plain": [
       "<Figure size 640x480 with 1 Axes>"
      ]
     },
     "metadata": {},
     "output_type": "display_data"
    }
   ],
   "source": [
    "fig, ax = plt.subplots()\n",
    "sns.heatmap(rmse_train, cbar=False, annot=True, fmt=\".4g\")"
   ]
  },
  {
   "cell_type": "code",
   "execution_count": 37,
   "id": "c9d88ff6-5d8a-4bb3-baf6-8f81ebe155b3",
   "metadata": {},
   "outputs": [
    {
     "data": {
      "text/plain": [
       "<Axes: xlabel='reg. parameter', ylabel='rank'>"
      ]
     },
     "execution_count": 37,
     "metadata": {},
     "output_type": "execute_result"
    },
    {
     "data": {
      "image/png": "[encoded data removed]",
      "text/plain": [
       "<Figure size 640x480 with 1 Axes>"
      ]
     },
     "metadata": {},
     "output_type": "display_data"
    }
   ],
   "source": [
    "fig, ax = plt.subplots()\n",
    "sns.heatmap(rmse_test, cbar=False, annot=True, fmt=\".4g\")"
   ]
  },
  {
   "cell_type": "markdown",
   "id": "93624cb7-0b63-4346-aacc-6d9d0ae1320b",
   "metadata": {},
   "source": [
    "Model với rank = 30, regParam = 0.5, maxIter = 25\n",
    "\n",
    "We will continue deep dive in this model using Crossvalidation"
   ]
  },
  {
   "cell_type": "markdown",
   "id": "b8216a58-bf4c-4cfc-8ccb-3a7d2960e311",
   "metadata": {},
   "source": [
    "## Tuning based on Precision@K"
   ]
  },
  {
   "cell_type": "markdown",
   "id": "7dc84b45-fe1f-40da-b639-4719097f334b",
   "metadata": {},
   "source": [
    "### Split data"
   ]
  },
  {
   "cell_type": "code",
   "execution_count": 39,
   "id": "0cd4fc50-0fa2-4eda-b153-8868028ebb5a",
   "metadata": {},
   "outputs": [],
   "source": [
    "train, test = spark_random_split(data, ratio=0.75)"
   ]
  },
  {
   "cell_type": "code",
   "execution_count": 40,
   "id": "1edb9fe4-d9a2-4235-8440-f455c96dd5fd",
   "metadata": {},
   "outputs": [],
   "source": [
    "### Customized Estimator and Transformer for top k recommender based on Spark ALS"
   ]
  },
  {
   "cell_type": "code",
   "execution_count": 41,
   "id": "0d41feb9-0d40-48e4-9058-b1ab40b20df4",
   "metadata": {},
   "outputs": [],
   "source": [
    "class ALSTopK(\n",
    "    ALS,\n",
    "    Estimator,\n",
    "    HasInputCol,\n",
    "    HasPredictionCol\n",
    "):    \n",
    "    rank = Param(Params._dummy(), \"rank\", \"rank of the factorization\",\n",
    "                 typeConverter=TypeConverters.toInt)\n",
    "    numUserBlocks = Param(Params._dummy(), \"numUserBlocks\", \"number of user blocks\",\n",
    "                          typeConverter=TypeConverters.toInt)\n",
    "    numItemBlocks = Param(Params._dummy(), \"numItemBlocks\", \"number of item blocks\",\n",
    "                          typeConverter=TypeConverters.toInt)\n",
    "    implicitPrefs = Param(Params._dummy(), \"implicitPrefs\", \"whether to use implicit preference\",\n",
    "                          typeConverter=TypeConverters.toBoolean)\n",
    "    alpha = Param(Params._dummy(), \"alpha\", \"alpha for implicit preference\",\n",
    "                  typeConverter=TypeConverters.toFloat)\n",
    "    userCol = Param(Params._dummy(), \"userCol\", \"column name for user ids. Ids must be within \" +\n",
    "                    \"the integer value range.\", typeConverter=TypeConverters.toString)\n",
    "    itemCol = Param(Params._dummy(), \"itemCol\", \"column name for item ids. Ids must be within \" +\n",
    "                    \"the integer value range.\", typeConverter=TypeConverters.toString)\n",
    "    ratingCol = Param(Params._dummy(), \"ratingCol\", \"column name for ratings\",\n",
    "                      typeConverter=TypeConverters.toString)\n",
    "    nonnegative = Param(Params._dummy(), \"nonnegative\",\n",
    "                        \"whether to use nonnegative constraint for least squares\",\n",
    "                        typeConverter=TypeConverters.toBoolean)\n",
    "    intermediateStorageLevel = Param(Params._dummy(), \"intermediateStorageLevel\",\n",
    "                                     \"StorageLevel for intermediate datasets. Cannot be 'NONE'.\",\n",
    "                                     typeConverter=TypeConverters.toString)\n",
    "    finalStorageLevel = Param(Params._dummy(), \"finalStorageLevel\",\n",
    "                              \"StorageLevel for ALS model factors.\",\n",
    "                              typeConverter=TypeConverters.toString)\n",
    "    coldStartStrategy = Param(Params._dummy(), \"coldStartStrategy\", \"strategy for dealing with \" +\n",
    "                              \"unknown or new users/items at prediction time. This may be useful \" +\n",
    "                              \"in cross-validation or production scenarios, for handling \" +\n",
    "                              \"user/item ids the model has not seen in the training data. \" +\n",
    "                              \"Supported values: 'nan', 'drop'.\",\n",
    "                              typeConverter=TypeConverters.toString)\n",
    "\n",
    "    @keyword_only\n",
    "    def __init__(\n",
    "        self,\n",
    "        rank=10, maxIter=10, regParam=0.1, numUserBlocks=10, numItemBlocks=10,\n",
    "        implicitPrefs=False, alpha=1.0, userCol=\"user\", itemCol=\"item\", seed=None, k=10,\n",
    "        ratingCol=\"rating\", nonnegative=False, checkpointInterval=10,\n",
    "        intermediateStorageLevel=\"MEMORY_AND_DISK\",\n",
    "        finalStorageLevel=\"MEMORY_AND_DISK\", coldStartStrategy=\"nan\"\n",
    "    ):\n",
    "        super(ALS, self).__init__()\n",
    "        self._java_obj = self._new_java_obj(\"org.apache.spark.ml.recommendation.ALS\", self.uid)\n",
    "        self._setDefault(rank=10, maxIter=10, regParam=0.1, numUserBlocks=10, numItemBlocks=10,\n",
    "                         implicitPrefs=False, alpha=1.0, userCol=\"user\", itemCol=\"item\",\n",
    "                         ratingCol=\"rating\", nonnegative=False, checkpointInterval=10,\n",
    "                         intermediateStorageLevel=\"MEMORY_AND_DISK\",\n",
    "                         finalStorageLevel=\"MEMORY_AND_DISK\", coldStartStrategy=\"nan\")\n",
    "\n",
    "        kwargs = self._input_kwargs \n",
    "        kwargs = {x: kwargs[x] for x in kwargs if x not in {'k'}}\n",
    "        self.setParams(**kwargs)\n",
    "        \n",
    "        # The manually added parameter is not present in ALS Java implementation. \n",
    "        self.k = k\n",
    "        \n",
    "    def setRank(self, value):\n",
    "        \"\"\"\n",
    "        Sets the value of :py:attr:`rank`.\n",
    "        \"\"\"\n",
    "        return self._set(rank=value)\n",
    "\n",
    "    def getRank(self):\n",
    "        \"\"\"\n",
    "        Gets the value of rank or its default value.\n",
    "        \"\"\"\n",
    "        return self.getOrDefault(self.rank)\n",
    "    \n",
    "    def setParams(self, rank=10, maxIter=10, regParam=0.1, numUserBlocks=10, numItemBlocks=10,\n",
    "                  implicitPrefs=False, alpha=1.0, userCol=\"user\", itemCol=\"item\", seed=None,\n",
    "                  ratingCol=\"rating\", nonnegative=False, checkpointInterval=10,\n",
    "                  intermediateStorageLevel=\"MEMORY_AND_DISK\",\n",
    "                  finalStorageLevel=\"MEMORY_AND_DISK\", coldStartStrategy=\"nan\"):\n",
    "        \"\"\"\n",
    "        setParams(self, rank=10, maxIter=10, regParam=0.1, numUserBlocks=10, numItemBlocks=10, \\\n",
    "                 implicitPrefs=False, alpha=1.0, userCol=\"user\", itemCol=\"item\", seed=None, \\\n",
    "                 ratingCol=\"rating\", nonnegative=False, checkpointInterval=10, \\\n",
    "                 intermediateStorageLevel=\"MEMORY_AND_DISK\", \\\n",
    "                 finalStorageLevel=\"MEMORY_AND_DISK\", coldStartStrategy=\"nan\")\n",
    "        Sets params for ALS.\n",
    "        \"\"\"\n",
    "        kwargs = self._input_kwargs\n",
    "        kwargs = {x: kwargs[x] for x in kwargs if x not in {'k'}}\n",
    "        return self._set(**kwargs)\n",
    "        \n",
    "    def _fit(self, dataset):\n",
    "        kwargs = self._input_kwargs    \n",
    "        # Exclude k as it is not a parameter for ALS.\n",
    "        kwargs = {x: kwargs[x] for x in kwargs if x not in {'k'}}\n",
    "        kwargs['rank'] = self.getRank()\n",
    "        kwargs['regParam'] = self.getOrDefault(self.regParam)\n",
    "        als = ALS(\n",
    "            **kwargs\n",
    "        )\n",
    "        als_model = als.fit(dataset)\n",
    "        \n",
    "        user_col = kwargs['userCol']\n",
    "        item_col = kwargs['itemCol']\n",
    "        \n",
    "        k = self.k\n",
    "                     \n",
    "        topk_model = ALSTopKModel()\n",
    "        topk_model.setParams(\n",
    "            als_model,\n",
    "            user_col, \n",
    "            item_col, \n",
    "            k\n",
    "        )\n",
    "        \n",
    "        return topk_model\n",
    "    \n",
    "    \n",
    "class ALSTopKModel(\n",
    "    Model,\n",
    "    HasInputCol,\n",
    "    HasPredictionCol,\n",
    "    HasLabelCol\n",
    "):    \n",
    "    def setParams(self, model, userCol, itemCol, k):\n",
    "        self.model = model\n",
    "        self.userCol = userCol\n",
    "        self.itemCol = itemCol\n",
    "        self.k = k\n",
    "    \n",
    "    def _transform(self, dataset):\n",
    "        predictionCol = self.getPredictionCol()\n",
    "        labelCol = self.getLabelCol()\n",
    "        \n",
    "        users = dataset.select(self.userCol).distinct()\n",
    "        topk_recommendation = self.model.recommendForUserSubset(users, self.k)  \n",
    "        \n",
    "        extract_value = F.udf((lambda x: [y[0] for y in x]), ArrayType(IntegerType()))\n",
    "        topk_recommendation = topk_recommendation.withColumn(predictionCol, extract_value(F.col(\"recommendations\")))        \n",
    "        \n",
    "        dataset = (\n",
    "            dataset\n",
    "            .groupBy(self.userCol)\n",
    "            .agg(F.collect_list(F.col(self.itemCol)).alias(labelCol))\n",
    "        )\n",
    "            \n",
    "        topk_recommendation_all = dataset.join(\n",
    "            topk_recommendation, \n",
    "            on=self.userCol,\n",
    "            how=\"outer\"\n",
    "        )\n",
    "        \n",
    "        return topk_recommendation_all.select(self.userCol, labelCol, predictionCol)"
   ]
  },
  {
   "cell_type": "code",
   "execution_count": 42,
   "id": "1169fa47-a756-4262-9b22-b790a16e5419",
   "metadata": {},
   "outputs": [],
   "source": [
    "### Customized precision@k evaluation metric"
   ]
  },
  {
   "cell_type": "code",
   "execution_count": 43,
   "id": "fe614f29-fdd3-4a59-9739-6a53451c60b0",
   "metadata": {},
   "outputs": [],
   "source": [
    "# Define a custom Evaulator. Here precision@k is used.\n",
    "class PrecisionAtKEvaluator(Evaluator):\n",
    "\n",
    "    def __init__(self, predictionCol=\"prediction\", labelCol=\"label\", k=10):\n",
    "        self.predictionCol = predictionCol\n",
    "        self.labelCol = labelCol\n",
    "        self.k = k\n",
    "\n",
    "    def _evaluate(self, dataset):\n",
    "        \"\"\"\n",
    "        Returns a random number. \n",
    "        Implement here the true metric\n",
    "        \"\"\"      \n",
    "        # Drop Nulls.\n",
    "        dataset = dataset.na.drop()\n",
    "        metrics = RankingMetrics(dataset.select(self.predictionCol, self.labelCol).rdd)\n",
    "        return metrics.precisionAt(self.k)\n",
    "\n",
    "    def isLargerBetter(self):\n",
    "        return True"
   ]
  },
  {
   "cell_type": "code",
   "execution_count": 52,
   "id": "38d4da34-af2c-4461-a952-c3b19614f0f8",
   "metadata": {},
   "outputs": [],
   "source": [
    "alstopk = ALSTopK(\n",
    "    userCol=COL_USER,\n",
    "    itemCol=COL_ITEM,\n",
    "    ratingCol=COL_RATING,\n",
    "    maxIter = 25,\n",
    "    coldStartStrategy=\"drop\",\n",
    "    k=10\n",
    ")\n",
    "\n",
    "\n",
    "paramGrid = ParamGridBuilder() \\\n",
    "    .addGrid(alstopk.rank, [15, 20, 25, 30, 35]) \\\n",
    "    .addGrid(alstopk.regParam, [0.01, 0.05, 0.1, 0.5, 1]) \\\n",
    "    .build()\n",
    "\n",
    "tvs = TrainValidationSplit(\n",
    "    estimator=alstopk,\n",
    "    estimatorParamMaps=paramGrid,\n",
    "    # A regression evaluation method is used. \n",
    "    evaluator=PrecisionAtKEvaluator(),\n",
    "    # 75% of the data will be used for training, 25% for validation.\n",
    "    # NOTE here the splitting is random. The Spark splitting utilities (e.g. chrono splitter)\n",
    "    # are therefore not available here. \n",
    "    trainRatio=0.75\n",
    ")"
   ]
  },
  {
   "cell_type": "code",
   "execution_count": 58,
   "id": "0ccbfa6b-d7a2-46e7-b6b2-c182f7404b02",
   "metadata": {},
   "outputs": [
    {
     "data": {
      "text/plain": [
       "[{Param(parent='ALSTopK_c9e36cf132cd', name='rank', doc='rank of the factorization'): 15,\n",
       "  Param(parent='ALSTopK_c9e36cf132cd', name='regParam', doc='regularization parameter (>= 0).'): 0.01},\n",
       " {Param(parent='ALSTopK_c9e36cf132cd', name='rank', doc='rank of the factorization'): 15,\n",
       "  Param(parent='ALSTopK_c9e36cf132cd', name='regParam', doc='regularization parameter (>= 0).'): 0.05},\n",
       " {Param(parent='ALSTopK_c9e36cf132cd', name='rank', doc='rank of the factorization'): 15,\n",
       "  Param(parent='ALSTopK_c9e36cf132cd', name='regParam', doc='regularization parameter (>= 0).'): 0.1},\n",
       " {Param(parent='ALSTopK_c9e36cf132cd', name='rank', doc='rank of the factorization'): 15,\n",
       "  Param(parent='ALSTopK_c9e36cf132cd', name='regParam', doc='regularization parameter (>= 0).'): 0.5},\n",
       " {Param(parent='ALSTopK_c9e36cf132cd', name='rank', doc='rank of the factorization'): 15,\n",
       "  Param(parent='ALSTopK_c9e36cf132cd', name='regParam', doc='regularization parameter (>= 0).'): 1.0},\n",
       " {Param(parent='ALSTopK_c9e36cf132cd', name='rank', doc='rank of the factorization'): 20,\n",
       "  Param(parent='ALSTopK_c9e36cf132cd', name='regParam', doc='regularization parameter (>= 0).'): 0.01},\n",
       " {Param(parent='ALSTopK_c9e36cf132cd', name='rank', doc='rank of the factorization'): 20,\n",
       "  Param(parent='ALSTopK_c9e36cf132cd', name='regParam', doc='regularization parameter (>= 0).'): 0.05},\n",
       " {Param(parent='ALSTopK_c9e36cf132cd', name='rank', doc='rank of the factorization'): 20,\n",
       "  Param(parent='ALSTopK_c9e36cf132cd', name='regParam', doc='regularization parameter (>= 0).'): 0.1},\n",
       " {Param(parent='ALSTopK_c9e36cf132cd', name='rank', doc='rank of the factorization'): 20,\n",
       "  Param(parent='ALSTopK_c9e36cf132cd', name='regParam', doc='regularization parameter (>= 0).'): 0.5},\n",
       " {Param(parent='ALSTopK_c9e36cf132cd', name='rank', doc='rank of the factorization'): 20,\n",
       "  Param(parent='ALSTopK_c9e36cf132cd', name='regParam', doc='regularization parameter (>= 0).'): 1.0},\n",
       " {Param(parent='ALSTopK_c9e36cf132cd', name='rank', doc='rank of the factorization'): 25,\n",
       "  Param(parent='ALSTopK_c9e36cf132cd', name='regParam', doc='regularization parameter (>= 0).'): 0.01},\n",
       " {Param(parent='ALSTopK_c9e36cf132cd', name='rank', doc='rank of the factorization'): 25,\n",
       "  Param(parent='ALSTopK_c9e36cf132cd', name='regParam', doc='regularization parameter (>= 0).'): 0.05},\n",
       " {Param(parent='ALSTopK_c9e36cf132cd', name='rank', doc='rank of the factorization'): 25,\n",
       "  Param(parent='ALSTopK_c9e36cf132cd', name='regParam', doc='regularization parameter (>= 0).'): 0.1},\n",
       " {Param(parent='ALSTopK_c9e36cf132cd', name='rank', doc='rank of the factorization'): 25,\n",
       "  Param(parent='ALSTopK_c9e36cf132cd', name='regParam', doc='regularization parameter (>= 0).'): 0.5},\n",
       " {Param(parent='ALSTopK_c9e36cf132cd', name='rank', doc='rank of the factorization'): 25,\n",
       "  Param(parent='ALSTopK_c9e36cf132cd', name='regParam', doc='regularization parameter (>= 0).'): 1.0},\n",
       " {Param(parent='ALSTopK_c9e36cf132cd', name='rank', doc='rank of the factorization'): 30,\n",
       "  Param(parent='ALSTopK_c9e36cf132cd', name='regParam', doc='regularization parameter (>= 0).'): 0.01},\n",
       " {Param(parent='ALSTopK_c9e36cf132cd', name='rank', doc='rank of the factorization'): 30,\n",
       "  Param(parent='ALSTopK_c9e36cf132cd', name='regParam', doc='regularization parameter (>= 0).'): 0.05},\n",
       " {Param(parent='ALSTopK_c9e36cf132cd', name='rank', doc='rank of the factorization'): 30,\n",
       "  Param(parent='ALSTopK_c9e36cf132cd', name='regParam', doc='regularization parameter (>= 0).'): 0.1},\n",
       " {Param(parent='ALSTopK_c9e36cf132cd', name='rank', doc='rank of the factorization'): 30,\n",
       "  Param(parent='ALSTopK_c9e36cf132cd', name='regParam', doc='regularization parameter (>= 0).'): 0.5},\n",
       " {Param(parent='ALSTopK_c9e36cf132cd', name='rank', doc='rank of the factorization'): 30,\n",
       "  Param(parent='ALSTopK_c9e36cf132cd', name='regParam', doc='regularization parameter (>= 0).'): 1.0},\n",
       " {Param(parent='ALSTopK_c9e36cf132cd', name='rank', doc='rank of the factorization'): 35,\n",
       "  Param(parent='ALSTopK_c9e36cf132cd', name='regParam', doc='regularization parameter (>= 0).'): 0.01},\n",
       " {Param(parent='ALSTopK_c9e36cf132cd', name='rank', doc='rank of the factorization'): 35,\n",
       "  Param(parent='ALSTopK_c9e36cf132cd', name='regParam', doc='regularization parameter (>= 0).'): 0.05},\n",
       " {Param(parent='ALSTopK_c9e36cf132cd', name='rank', doc='rank of the factorization'): 35,\n",
       "  Param(parent='ALSTopK_c9e36cf132cd', name='regParam', doc='regularization parameter (>= 0).'): 0.1},\n",
       " {Param(parent='ALSTopK_c9e36cf132cd', name='rank', doc='rank of the factorization'): 35,\n",
       "  Param(parent='ALSTopK_c9e36cf132cd', name='regParam', doc='regularization parameter (>= 0).'): 0.5},\n",
       " {Param(parent='ALSTopK_c9e36cf132cd', name='rank', doc='rank of the factorization'): 35,\n",
       "  Param(parent='ALSTopK_c9e36cf132cd', name='regParam', doc='regularization parameter (>= 0).'): 1.0}]"
      ]
     },
     "execution_count": 58,
     "metadata": {},
     "output_type": "execute_result"
    }
   ],
   "source": [
    "# Run TrainValidationSplit, and choose the best set of parameters.\n",
    "# NOTE train and valid is union because in Spark TrainValidationSplit does splitting by itself.\n",
    "model_precision = tvs.fit(train.union(valid))\n",
    "\n",
    "model_precision.getEstimatorParamMaps()"
   ]
  },
  {
   "cell_type": "code",
   "execution_count": 59,
   "id": "00f87eee-96ce-4078-803b-69b534516ae4",
   "metadata": {},
   "outputs": [],
   "source": [
    "def best_param(model, is_larger_better=True):\n",
    "    if is_larger_better:\n",
    "        best_metric = max(model.validationMetrics)\n",
    "    else:\n",
    "        best_metric = min(model.validationMetrics)\n",
    "        \n",
    "    parameters = model.getEstimatorParamMaps()[model.validationMetrics.index(best_metric)]\n",
    "     \n",
    "    return list(parameters.values())"
   ]
  },
  {
   "cell_type": "code",
   "execution_count": 60,
   "id": "c79112e9-0a09-42ae-8b5f-49e63ac18f1b",
   "metadata": {},
   "outputs": [],
   "source": [
    "params = best_param(model_precision)"
   ]
  },
  {
   "cell_type": "code",
   "execution_count": 61,
   "id": "75840f00-0bce-4ab8-9b18-52d869d8d0c0",
   "metadata": {},
   "outputs": [
    {
     "data": {
      "text/plain": [
       "[35, 0.01]"
      ]
     },
     "execution_count": 61,
     "metadata": {},
     "output_type": "execute_result"
    }
   ],
   "source": [
    "params"
   ]
  },
  {
   "cell_type": "code",
   "execution_count": 62,
   "id": "12c7348b-bf6c-4d40-8dc9-45d8d04c2fb9",
   "metadata": {},
   "outputs": [
    {
     "name": "stdout",
     "output_type": "stream",
     "text": [
      "+-------+--------------------+--------------------+\n",
      "|user_id|               label|          prediction|\n",
      "+-------+--------------------+--------------------+\n",
      "|   2276|[13612.0, 20559.0...|[638, 1854, 333, ...|\n",
      "|   3757|[20330.0, 61158.0...|[63985, 63106, 61...|\n",
      "|   4017|[5114.0, 2701.0, ...|[36, 1, 1168, 113...|\n",
      "|   4385|[21366.0, 21629.0...|[9, 7806, 3456, 6...|\n",
      "|   6242|[147.0, 5069.0, 1...|[123, 537, 2830, ...|\n",
      "+-------+--------------------+--------------------+\n",
      "\n",
      "Run 0:\n",
      "\tValidation Metric: 0.03266932270916334\n",
      "\tParam(parent='ALSTopK_c9e36cf132cd', name='rank', doc='rank of the factorization'): 15\n",
      "\tParam(parent='ALSTopK_c9e36cf132cd', name='regParam', doc='regularization parameter (>= 0).'): 0.01\n",
      "Run 1:\n",
      "\tValidation Metric: 0.055776892430278883\n",
      "\tParam(parent='ALSTopK_c9e36cf132cd', name='rank', doc='rank of the factorization'): 15\n",
      "\tParam(parent='ALSTopK_c9e36cf132cd', name='regParam', doc='regularization parameter (>= 0).'): 0.05\n",
      "Run 2:\n",
      "\tValidation Metric: 0.051792828685259015\n",
      "\tParam(parent='ALSTopK_c9e36cf132cd', name='rank', doc='rank of the factorization'): 15\n",
      "\tParam(parent='ALSTopK_c9e36cf132cd', name='regParam', doc='regularization parameter (>= 0).'): 0.1\n",
      "Run 3:\n",
      "\tValidation Metric: 0.014342629482071708\n",
      "\tParam(parent='ALSTopK_c9e36cf132cd', name='rank', doc='rank of the factorization'): 15\n",
      "\tParam(parent='ALSTopK_c9e36cf132cd', name='regParam', doc='regularization parameter (>= 0).'): 0.5\n",
      "Run 4:\n",
      "\tValidation Metric: 0.006374501992031875\n",
      "\tParam(parent='ALSTopK_c9e36cf132cd', name='rank', doc='rank of the factorization'): 15\n",
      "\tParam(parent='ALSTopK_c9e36cf132cd', name='regParam', doc='regularization parameter (>= 0).'): 1.0\n",
      "Run 5:\n",
      "\tValidation Metric: 0.05976095617529878\n",
      "\tParam(parent='ALSTopK_c9e36cf132cd', name='rank', doc='rank of the factorization'): 20\n",
      "\tParam(parent='ALSTopK_c9e36cf132cd', name='regParam', doc='regularization parameter (>= 0).'): 0.01\n",
      "Run 6:\n",
      "\tValidation Metric: 0.06374501992031874\n",
      "\tParam(parent='ALSTopK_c9e36cf132cd', name='rank', doc='rank of the factorization'): 20\n",
      "\tParam(parent='ALSTopK_c9e36cf132cd', name='regParam', doc='regularization parameter (>= 0).'): 0.05\n",
      "Run 7:\n",
      "\tValidation Metric: 0.060956175298804774\n",
      "\tParam(parent='ALSTopK_c9e36cf132cd', name='rank', doc='rank of the factorization'): 20\n",
      "\tParam(parent='ALSTopK_c9e36cf132cd', name='regParam', doc='regularization parameter (>= 0).'): 0.1\n",
      "Run 8:\n",
      "\tValidation Metric: 0.022310756972111555\n",
      "\tParam(parent='ALSTopK_c9e36cf132cd', name='rank', doc='rank of the factorization'): 20\n",
      "\tParam(parent='ALSTopK_c9e36cf132cd', name='regParam', doc='regularization parameter (>= 0).'): 0.5\n",
      "Run 9:\n",
      "\tValidation Metric: 0.007171314741035862\n",
      "\tParam(parent='ALSTopK_c9e36cf132cd', name='rank', doc='rank of the factorization'): 20\n",
      "\tParam(parent='ALSTopK_c9e36cf132cd', name='regParam', doc='regularization parameter (>= 0).'): 1.0\n",
      "Run 10:\n",
      "\tValidation Metric: 0.06653386454183263\n",
      "\tParam(parent='ALSTopK_c9e36cf132cd', name='rank', doc='rank of the factorization'): 25\n",
      "\tParam(parent='ALSTopK_c9e36cf132cd', name='regParam', doc='regularization parameter (>= 0).'): 0.01\n",
      "Run 11:\n",
      "\tValidation Metric: 0.06772908366533864\n",
      "\tParam(parent='ALSTopK_c9e36cf132cd', name='rank', doc='rank of the factorization'): 25\n",
      "\tParam(parent='ALSTopK_c9e36cf132cd', name='regParam', doc='regularization parameter (>= 0).'): 0.05\n",
      "Run 12:\n",
      "\tValidation Metric: 0.06573705179282861\n",
      "\tParam(parent='ALSTopK_c9e36cf132cd', name='rank', doc='rank of the factorization'): 25\n",
      "\tParam(parent='ALSTopK_c9e36cf132cd', name='regParam', doc='regularization parameter (>= 0).'): 0.1\n",
      "Run 13:\n",
      "\tValidation Metric: 0.022310756972111555\n",
      "\tParam(parent='ALSTopK_c9e36cf132cd', name='rank', doc='rank of the factorization'): 25\n",
      "\tParam(parent='ALSTopK_c9e36cf132cd', name='regParam', doc='regularization parameter (>= 0).'): 0.5\n",
      "Run 14:\n",
      "\tValidation Metric: 0.005976095617529882\n",
      "\tParam(parent='ALSTopK_c9e36cf132cd', name='rank', doc='rank of the factorization'): 25\n",
      "\tParam(parent='ALSTopK_c9e36cf132cd', name='regParam', doc='regularization parameter (>= 0).'): 1.0\n",
      "Run 15:\n",
      "\tValidation Metric: 0.07290836653386452\n",
      "\tParam(parent='ALSTopK_c9e36cf132cd', name='rank', doc='rank of the factorization'): 30\n",
      "\tParam(parent='ALSTopK_c9e36cf132cd', name='regParam', doc='regularization parameter (>= 0).'): 0.01\n",
      "Run 16:\n",
      "\tValidation Metric: 0.07091633466135452\n",
      "\tParam(parent='ALSTopK_c9e36cf132cd', name='rank', doc='rank of the factorization'): 30\n",
      "\tParam(parent='ALSTopK_c9e36cf132cd', name='regParam', doc='regularization parameter (>= 0).'): 0.05\n",
      "Run 17:\n",
      "\tValidation Metric: 0.0673306772908366\n",
      "\tParam(parent='ALSTopK_c9e36cf132cd', name='rank', doc='rank of the factorization'): 30\n",
      "\tParam(parent='ALSTopK_c9e36cf132cd', name='regParam', doc='regularization parameter (>= 0).'): 0.1\n",
      "Run 18:\n",
      "\tValidation Metric: 0.02350597609561753\n",
      "\tParam(parent='ALSTopK_c9e36cf132cd', name='rank', doc='rank of the factorization'): 30\n",
      "\tParam(parent='ALSTopK_c9e36cf132cd', name='regParam', doc='regularization parameter (>= 0).'): 0.5\n",
      "Run 19:\n",
      "\tValidation Metric: 0.0071713147410358636\n",
      "\tParam(parent='ALSTopK_c9e36cf132cd', name='rank', doc='rank of the factorization'): 30\n",
      "\tParam(parent='ALSTopK_c9e36cf132cd', name='regParam', doc='regularization parameter (>= 0).'): 1.0\n",
      "Run 20:\n",
      "\tValidation Metric: 0.07370517928286853\n",
      "\tParam(parent='ALSTopK_c9e36cf132cd', name='rank', doc='rank of the factorization'): 35\n",
      "\tParam(parent='ALSTopK_c9e36cf132cd', name='regParam', doc='regularization parameter (>= 0).'): 0.01\n",
      "Run 21:\n",
      "\tValidation Metric: 0.07091633466135458\n",
      "\tParam(parent='ALSTopK_c9e36cf132cd', name='rank', doc='rank of the factorization'): 35\n",
      "\tParam(parent='ALSTopK_c9e36cf132cd', name='regParam', doc='regularization parameter (>= 0).'): 0.05\n",
      "Run 22:\n",
      "\tValidation Metric: 0.07091633466135454\n",
      "\tParam(parent='ALSTopK_c9e36cf132cd', name='rank', doc='rank of the factorization'): 35\n",
      "\tParam(parent='ALSTopK_c9e36cf132cd', name='regParam', doc='regularization parameter (>= 0).'): 0.1\n",
      "Run 23:\n",
      "\tValidation Metric: 0.020318725099601594\n",
      "\tParam(parent='ALSTopK_c9e36cf132cd', name='rank', doc='rank of the factorization'): 35\n",
      "\tParam(parent='ALSTopK_c9e36cf132cd', name='regParam', doc='regularization parameter (>= 0).'): 0.5\n",
      "Run 24:\n",
      "\tValidation Metric: 0.006772908366533869\n",
      "\tParam(parent='ALSTopK_c9e36cf132cd', name='rank', doc='rank of the factorization'): 35\n",
      "\tParam(parent='ALSTopK_c9e36cf132cd', name='regParam', doc='regularization parameter (>= 0).'): 1.0\n"
     ]
    }
   ],
   "source": [
    "model_precision.bestModel.transform(valid).limit(5).show()\n",
    "\n",
    "for idx, item in enumerate(model_precision.getEstimatorParamMaps()):\n",
    "    print('Run {}:'.format(idx))\n",
    "    print('\\tValidation Metric: {}'.format(model_precision.validationMetrics[idx]))\n",
    "    for key, value in item.items():\n",
    "        print('\\t{0}: {1}'.format(repr(key), value))"
   ]
  },
  {
   "cell_type": "markdown",
   "id": "f38d71e3-de5d-4ed4-88ad-da514970d23a",
   "metadata": {},
   "source": [
    "Final model with rank = 35, regParam = 0.01, maxIter = 25, coldStartStrategy=\"drop\"\n"
   ]
  },
  {
   "cell_type": "code",
   "execution_count": 21,
   "id": "2bccf6df-c572-4088-a8ec-8fa8f1cd8d3a",
   "metadata": {},
   "outputs": [],
   "source": [
    "als = ALS(\n",
    "    maxIter=25, \n",
    "    rank=35,\n",
    "    regParam=0.01, \n",
    "    userCol=COL_USER, \n",
    "    itemCol=COL_ITEM, \n",
    "    ratingCol=COL_RATING, \n",
    "    coldStartStrategy=\"drop\"\n",
    ")\n",
    "\n",
    "model_final = als.fit(dfs_train)\n",
    "pred = model_final.transform(dfs_test)"
   ]
  },
  {
   "cell_type": "code",
   "execution_count": 22,
   "id": "514bc529-7b2b-487d-8e5d-ce7d9de28c5d",
   "metadata": {},
   "outputs": [
    {
     "name": "stdout",
     "output_type": "stream",
     "text": [
      "+-------+----------+------+-------+----------+\n",
      "|user_id|      ISBN|rating|item_id|prediction|\n",
      "+-------+----------+------+-------+----------+\n",
      "|  11676|0425098532|     8| 7340.0|  8.004161|\n",
      "|  11676|050552502X|     7| 8389.0|  6.982695|\n",
      "|  11676|0571215165|     8|36224.0|  8.004161|\n",
      "|  16634|0441294677|     7| 1959.0|  6.984865|\n",
      "|  16795|0590251651|     7|36538.0| 7.0058756|\n",
      "|  17950|0553255355|     5|35071.0| 5.0054045|\n",
      "|  25409|0525946233|    10| 1342.0|   9.99942|\n",
      "|  31826|039914501X|    10| 7253.0|  9.980966|\n",
      "|  31826|0671004530|    10|  463.0|  9.936592|\n",
      "|  31826|0684814994|    10|  471.0|  9.933265|\n",
      "+-------+----------+------+-------+----------+\n",
      "only showing top 10 rows\n",
      "\n"
     ]
    }
   ],
   "source": [
    "pred.show(10)"
   ]
  },
  {
   "cell_type": "code",
   "execution_count": 23,
   "id": "7cf14a68-dbf9-4fac-b4d9-4f57f58ded55",
   "metadata": {},
   "outputs": [],
   "source": [
    "model_final.save(\"./model/model_2\")"
   ]
  }
 ],
 "metadata": {
  "kernelspec": {
   "display_name": "Python 3 (ipykernel)",
   "language": "python",
   "name": "python3"
  },
  "language_info": {
   "codemirror_mode": {
    "name": "ipython",
    "version": 3
   },
   "file_extension": ".py",
   "mimetype": "text/x-python",
   "name": "python",
   "nbconvert_exporter": "python",
   "pygments_lexer": "ipython3",
   "version": "3.10.12"
  }
 },
 "nbformat": 4,
 "nbformat_minor": 5
}
